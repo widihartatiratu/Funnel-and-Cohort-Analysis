{
  "nbformat": 4,
  "nbformat_minor": 0,
  "metadata": {
    "colab": {
      "provenance": [],
      "collapsed_sections": [
        "6aeZDlzygSSI",
        "wNRh3DL6g5lf",
        "6E8_oTddAYd9",
        "4JRKEtyJLu-I",
        "tZoKWff7hMIP",
        "kZxRW8r6hP4H"
      ]
    },
    "kernelspec": {
      "name": "python3",
      "display_name": "Python 3"
    },
    "language_info": {
      "name": "python"
    }
  },
  "cells": [
    {
      "cell_type": "markdown",
      "source": [
        "Funnel and Cohort Analysis"
      ],
      "metadata": {
        "id": "ygqfJ_7XfCz3"
      }
    },
    {
      "cell_type": "code",
      "source": [
        "# Meng-install library Python yang akan digunakan\n",
        "!pip install chart-studio\n",
        "\n",
        "# Mengimport library Python yang akan digunakan\n",
        "import numpy as np\n",
        "import pandas as pd\n",
        "import os\n",
        "from chart_studio import plotly\n",
        "from chart_studio import plotly as py\n",
        "from plotly import graph_objs as go\n",
        "from __future__ import division\n",
        "import plotly.figure_factory as ff\n",
        "from plotly.offline import download_plotlyjs, init_notebook_mode, plot, iplot\n",
        "init_notebook_mode(connected=True)\n",
        "%matplotlib inline\n",
        "import datetime as dt\n",
        "import matplotlib.pyplot as plt\n",
        "import seaborn as sns\n",
        "from sklearn.preprocessing import StandardScaler\n",
        "from sklearn.cluster import KMeans"
      ],
      "metadata": {
        "colab": {
          "base_uri": "https://localhost:8080/",
          "height": 228
        },
        "id": "AhJhYeAOfFFW",
        "outputId": "1bd6896f-2e52-428a-c847-73412724b367"
      },
      "execution_count": null,
      "outputs": [
        {
          "output_type": "stream",
          "name": "stdout",
          "text": [
            "Looking in indexes: https://pypi.org/simple, https://us-python.pkg.dev/colab-wheels/public/simple/\n",
            "Requirement already satisfied: chart-studio in /usr/local/lib/python3.8/dist-packages (1.1.0)\n",
            "Requirement already satisfied: retrying>=1.3.3 in /usr/local/lib/python3.8/dist-packages (from chart-studio) (1.3.4)\n",
            "Requirement already satisfied: six in /usr/local/lib/python3.8/dist-packages (from chart-studio) (1.15.0)\n",
            "Requirement already satisfied: plotly in /usr/local/lib/python3.8/dist-packages (from chart-studio) (5.5.0)\n",
            "Requirement already satisfied: requests in /usr/local/lib/python3.8/dist-packages (from chart-studio) (2.23.0)\n",
            "Requirement already satisfied: tenacity>=6.2.0 in /usr/local/lib/python3.8/dist-packages (from plotly->chart-studio) (8.1.0)\n",
            "Requirement already satisfied: certifi>=2017.4.17 in /usr/local/lib/python3.8/dist-packages (from requests->chart-studio) (2022.9.24)\n",
            "Requirement already satisfied: chardet<4,>=3.0.2 in /usr/local/lib/python3.8/dist-packages (from requests->chart-studio) (3.0.4)\n",
            "Requirement already satisfied: urllib3!=1.25.0,!=1.25.1,<1.26,>=1.21.1 in /usr/local/lib/python3.8/dist-packages (from requests->chart-studio) (1.24.3)\n",
            "Requirement already satisfied: idna<3,>=2.5 in /usr/local/lib/python3.8/dist-packages (from requests->chart-studio) (2.10)\n"
          ]
        },
        {
          "output_type": "display_data",
          "data": {
            "text/html": [
              "        <script type=\"text/javascript\">\n",
              "        window.PlotlyConfig = {MathJaxConfig: 'local'};\n",
              "        if (window.MathJax) {MathJax.Hub.Config({SVG: {font: \"STIX-Web\"}});}\n",
              "        if (typeof require !== 'undefined') {\n",
              "        require.undef(\"plotly\");\n",
              "        requirejs.config({\n",
              "            paths: {\n",
              "                'plotly': ['https://cdn.plot.ly/plotly-2.8.3.min']\n",
              "            }\n",
              "        });\n",
              "        require(['plotly'], function(Plotly) {\n",
              "            window._Plotly = Plotly;\n",
              "        });\n",
              "        }\n",
              "        </script>\n",
              "        "
            ]
          },
          "metadata": {}
        }
      ]
    },
    {
      "cell_type": "markdown",
      "source": [
        "## Funnel Analysis"
      ],
      "metadata": {
        "id": "XX-iR55GgDeP"
      }
    },
    {
      "cell_type": "markdown",
      "source": [
        "### Data Inspection"
      ],
      "metadata": {
        "id": "6aeZDlzygSSI"
      }
    },
    {
      "cell_type": "code",
      "execution_count": null,
      "metadata": {
        "id": "wDRyizrLe5To"
      },
      "outputs": [],
      "source": [
        "# Mengimport data\n",
        "df_funnel = pd.read_csv('events.csv')"
      ]
    },
    {
      "cell_type": "code",
      "source": [
        "# Mengetahui jenis dan jumlah data menggunakan metode info() dan describe()\n",
        "df_funnel.info()\n",
        "df_funnel.describe()"
      ],
      "metadata": {
        "id": "sGad4iwGfFIW",
        "colab": {
          "base_uri": "https://localhost:8080/"
        },
        "outputId": "54caa3bc-fbd4-40f4-89f6-968fccd2a945"
      },
      "execution_count": null,
      "outputs": [
        {
          "output_type": "stream",
          "name": "stdout",
          "text": [
            "<class 'pandas.core.frame.DataFrame'>\n",
            "RangeIndex: 885129 entries, 0 to 885128\n",
            "Data columns (total 9 columns):\n",
            " #   Column         Non-Null Count   Dtype  \n",
            "---  ------         --------------   -----  \n",
            " 0   event_time     885129 non-null  object \n",
            " 1   event_type     885129 non-null  object \n",
            " 2   product_id     885129 non-null  int64  \n",
            " 3   category_id    885129 non-null  int64  \n",
            " 4   category_code  648910 non-null  object \n",
            " 5   brand          672765 non-null  object \n",
            " 6   price          885129 non-null  float64\n",
            " 7   user_id        885129 non-null  int64  \n",
            " 8   user_session   884964 non-null  object \n",
            "dtypes: float64(1), int64(3), object(5)\n",
            "memory usage: 60.8+ MB\n"
          ]
        },
        {
          "output_type": "execute_result",
          "data": {
            "text/plain": [
              "         product_id   category_id          price       user_id\n",
              "count  8.851290e+05  8.851290e+05  885129.000000  8.851290e+05\n",
              "mean   1.906621e+06  2.144423e+18     146.328713  1.515916e+18\n",
              "std    1.458708e+06  6.165105e+14     296.807683  3.554165e+07\n",
              "min    1.020000e+02  2.144416e+18       0.220000  1.515916e+18\n",
              "25%    6.988030e+05  2.144416e+18      26.460000  1.515916e+18\n",
              "50%    1.452883e+06  2.144416e+18      65.710000  1.515916e+18\n",
              "75%    3.721194e+06  2.144416e+18     190.490000  1.515916e+18\n",
              "max    4.183880e+06  2.227847e+18   64771.060000  1.515916e+18"
            ],
            "text/html": [
              "\n",
              "  <div id=\"df-2398dcf6-b2f7-4331-874d-f04724475e6f\">\n",
              "    <div class=\"colab-df-container\">\n",
              "      <div>\n",
              "<style scoped>\n",
              "    .dataframe tbody tr th:only-of-type {\n",
              "        vertical-align: middle;\n",
              "    }\n",
              "\n",
              "    .dataframe tbody tr th {\n",
              "        vertical-align: top;\n",
              "    }\n",
              "\n",
              "    .dataframe thead th {\n",
              "        text-align: right;\n",
              "    }\n",
              "</style>\n",
              "<table border=\"1\" class=\"dataframe\">\n",
              "  <thead>\n",
              "    <tr style=\"text-align: right;\">\n",
              "      <th></th>\n",
              "      <th>product_id</th>\n",
              "      <th>category_id</th>\n",
              "      <th>price</th>\n",
              "      <th>user_id</th>\n",
              "    </tr>\n",
              "  </thead>\n",
              "  <tbody>\n",
              "    <tr>\n",
              "      <th>count</th>\n",
              "      <td>8.851290e+05</td>\n",
              "      <td>8.851290e+05</td>\n",
              "      <td>885129.000000</td>\n",
              "      <td>8.851290e+05</td>\n",
              "    </tr>\n",
              "    <tr>\n",
              "      <th>mean</th>\n",
              "      <td>1.906621e+06</td>\n",
              "      <td>2.144423e+18</td>\n",
              "      <td>146.328713</td>\n",
              "      <td>1.515916e+18</td>\n",
              "    </tr>\n",
              "    <tr>\n",
              "      <th>std</th>\n",
              "      <td>1.458708e+06</td>\n",
              "      <td>6.165105e+14</td>\n",
              "      <td>296.807683</td>\n",
              "      <td>3.554165e+07</td>\n",
              "    </tr>\n",
              "    <tr>\n",
              "      <th>min</th>\n",
              "      <td>1.020000e+02</td>\n",
              "      <td>2.144416e+18</td>\n",
              "      <td>0.220000</td>\n",
              "      <td>1.515916e+18</td>\n",
              "    </tr>\n",
              "    <tr>\n",
              "      <th>25%</th>\n",
              "      <td>6.988030e+05</td>\n",
              "      <td>2.144416e+18</td>\n",
              "      <td>26.460000</td>\n",
              "      <td>1.515916e+18</td>\n",
              "    </tr>\n",
              "    <tr>\n",
              "      <th>50%</th>\n",
              "      <td>1.452883e+06</td>\n",
              "      <td>2.144416e+18</td>\n",
              "      <td>65.710000</td>\n",
              "      <td>1.515916e+18</td>\n",
              "    </tr>\n",
              "    <tr>\n",
              "      <th>75%</th>\n",
              "      <td>3.721194e+06</td>\n",
              "      <td>2.144416e+18</td>\n",
              "      <td>190.490000</td>\n",
              "      <td>1.515916e+18</td>\n",
              "    </tr>\n",
              "    <tr>\n",
              "      <th>max</th>\n",
              "      <td>4.183880e+06</td>\n",
              "      <td>2.227847e+18</td>\n",
              "      <td>64771.060000</td>\n",
              "      <td>1.515916e+18</td>\n",
              "    </tr>\n",
              "  </tbody>\n",
              "</table>\n",
              "</div>\n",
              "      <button class=\"colab-df-convert\" onclick=\"convertToInteractive('df-2398dcf6-b2f7-4331-874d-f04724475e6f')\"\n",
              "              title=\"Convert this dataframe to an interactive table.\"\n",
              "              style=\"display:none;\">\n",
              "        \n",
              "  <svg xmlns=\"http://www.w3.org/2000/svg\" height=\"24px\"viewBox=\"0 0 24 24\"\n",
              "       width=\"24px\">\n",
              "    <path d=\"M0 0h24v24H0V0z\" fill=\"none\"/>\n",
              "    <path d=\"M18.56 5.44l.94 2.06.94-2.06 2.06-.94-2.06-.94-.94-2.06-.94 2.06-2.06.94zm-11 1L8.5 8.5l.94-2.06 2.06-.94-2.06-.94L8.5 2.5l-.94 2.06-2.06.94zm10 10l.94 2.06.94-2.06 2.06-.94-2.06-.94-.94-2.06-.94 2.06-2.06.94z\"/><path d=\"M17.41 7.96l-1.37-1.37c-.4-.4-.92-.59-1.43-.59-.52 0-1.04.2-1.43.59L10.3 9.45l-7.72 7.72c-.78.78-.78 2.05 0 2.83L4 21.41c.39.39.9.59 1.41.59.51 0 1.02-.2 1.41-.59l7.78-7.78 2.81-2.81c.8-.78.8-2.07 0-2.86zM5.41 20L4 18.59l7.72-7.72 1.47 1.35L5.41 20z\"/>\n",
              "  </svg>\n",
              "      </button>\n",
              "      \n",
              "  <style>\n",
              "    .colab-df-container {\n",
              "      display:flex;\n",
              "      flex-wrap:wrap;\n",
              "      gap: 12px;\n",
              "    }\n",
              "\n",
              "    .colab-df-convert {\n",
              "      background-color: #E8F0FE;\n",
              "      border: none;\n",
              "      border-radius: 50%;\n",
              "      cursor: pointer;\n",
              "      display: none;\n",
              "      fill: #1967D2;\n",
              "      height: 32px;\n",
              "      padding: 0 0 0 0;\n",
              "      width: 32px;\n",
              "    }\n",
              "\n",
              "    .colab-df-convert:hover {\n",
              "      background-color: #E2EBFA;\n",
              "      box-shadow: 0px 1px 2px rgba(60, 64, 67, 0.3), 0px 1px 3px 1px rgba(60, 64, 67, 0.15);\n",
              "      fill: #174EA6;\n",
              "    }\n",
              "\n",
              "    [theme=dark] .colab-df-convert {\n",
              "      background-color: #3B4455;\n",
              "      fill: #D2E3FC;\n",
              "    }\n",
              "\n",
              "    [theme=dark] .colab-df-convert:hover {\n",
              "      background-color: #434B5C;\n",
              "      box-shadow: 0px 1px 3px 1px rgba(0, 0, 0, 0.15);\n",
              "      filter: drop-shadow(0px 1px 2px rgba(0, 0, 0, 0.3));\n",
              "      fill: #FFFFFF;\n",
              "    }\n",
              "  </style>\n",
              "\n",
              "      <script>\n",
              "        const buttonEl =\n",
              "          document.querySelector('#df-2398dcf6-b2f7-4331-874d-f04724475e6f button.colab-df-convert');\n",
              "        buttonEl.style.display =\n",
              "          google.colab.kernel.accessAllowed ? 'block' : 'none';\n",
              "\n",
              "        async function convertToInteractive(key) {\n",
              "          const element = document.querySelector('#df-2398dcf6-b2f7-4331-874d-f04724475e6f');\n",
              "          const dataTable =\n",
              "            await google.colab.kernel.invokeFunction('convertToInteractive',\n",
              "                                                     [key], {});\n",
              "          if (!dataTable) return;\n",
              "\n",
              "          const docLinkHtml = 'Like what you see? Visit the ' +\n",
              "            '<a target=\"_blank\" href=https://colab.research.google.com/notebooks/data_table.ipynb>data table notebook</a>'\n",
              "            + ' to learn more about interactive tables.';\n",
              "          element.innerHTML = '';\n",
              "          dataTable['output_type'] = 'display_data';\n",
              "          await google.colab.output.renderOutput(dataTable, element);\n",
              "          const docLink = document.createElement('div');\n",
              "          docLink.innerHTML = docLinkHtml;\n",
              "          element.appendChild(docLink);\n",
              "        }\n",
              "      </script>\n",
              "    </div>\n",
              "  </div>\n",
              "  "
            ]
          },
          "metadata": {},
          "execution_count": 327
        }
      ]
    },
    {
      "cell_type": "code",
      "source": [
        "# Melihat contoh sampel data secara acak\n",
        "df_funnel.sample(10)"
      ],
      "metadata": {
        "id": "sKpz8gLkfFK2",
        "colab": {
          "base_uri": "https://localhost:8080/"
        },
        "outputId": "2ab4d246-7cc7-4eab-8cb6-d384d8361d71"
      },
      "execution_count": null,
      "outputs": [
        {
          "output_type": "execute_result",
          "data": {
            "text/plain": [
              "                     event_time event_type  product_id          category_id  \\\n",
              "324883  2020-11-20 20:28:31 UTC       view      137302  2144415924491387038   \n",
              "742089  2021-02-04 16:28:12 UTC       view      949004  2144415921169498184   \n",
              "342243  2020-11-23 20:51:52 UTC       view      655728  2144415923384090754   \n",
              "263801  2020-11-12 07:22:05 UTC       view     1785245  2144415925011480748   \n",
              "125249  2020-10-21 05:08:13 UTC       view     4102097  2144415948256314150   \n",
              "592908  2021-01-12 09:16:17 UTC       view     4155383  2144415922427789416   \n",
              "643384  2021-01-19 23:07:46 UTC       view      949002  2144415921169498184   \n",
              "627720  2021-01-17 17:06:53 UTC       cart     1821557  2144415922528452715   \n",
              "245639  2020-11-09 16:50:09 UTC       cart      495121  2144415933794353554   \n",
              "879076  2021-02-27 19:13:08 UTC       view      340992  2144415943516750494   \n",
              "\n",
              "                           category_code       brand   price  \\\n",
              "324883  computers.components.motherboard        asus   55.16   \n",
              "742089                               NaN     samsung   15.08   \n",
              "342243                               NaN  interpower   33.25   \n",
              "263801               stationery.cartrige       canon   43.11   \n",
              "125249    computers.peripherals.keyboard    defender   12.60   \n",
              "592908   computers.components.videocards  powercolor  251.40   \n",
              "643384                               NaN          lg   13.16   \n",
              "627720             electronics.telephone      sirius   16.19   \n",
              "245639                               NaN     pioneer  103.83   \n",
              "879076                               NaN         NaN    1.57   \n",
              "\n",
              "                    user_id user_session  \n",
              "324883  1515915625541828038   ct2KkGN1Jz  \n",
              "742089  1515915625600644941   he6EwZRnzY  \n",
              "342243  1515915625542967299   tLqKU6eiN1  \n",
              "263801  1515915625529471316   9TC3A2bzIH  \n",
              "125249  1515915625528592593   BkRNSxdy3G  \n",
              "592908  1515915625573734319   knqWZb2Tjr  \n",
              "643384  1515915625595043728   jEeQVrMmnp  \n",
              "627720  1515915625594221497   nvYmx2LqSq  \n",
              "245639  1515915625535803339   yPezInjiyl  \n",
              "879076  1515915625610531139   OKMQViW0of  "
            ],
            "text/html": [
              "\n",
              "  <div id=\"df-426627e8-1326-4d53-a58e-af05e0217d1f\">\n",
              "    <div class=\"colab-df-container\">\n",
              "      <div>\n",
              "<style scoped>\n",
              "    .dataframe tbody tr th:only-of-type {\n",
              "        vertical-align: middle;\n",
              "    }\n",
              "\n",
              "    .dataframe tbody tr th {\n",
              "        vertical-align: top;\n",
              "    }\n",
              "\n",
              "    .dataframe thead th {\n",
              "        text-align: right;\n",
              "    }\n",
              "</style>\n",
              "<table border=\"1\" class=\"dataframe\">\n",
              "  <thead>\n",
              "    <tr style=\"text-align: right;\">\n",
              "      <th></th>\n",
              "      <th>event_time</th>\n",
              "      <th>event_type</th>\n",
              "      <th>product_id</th>\n",
              "      <th>category_id</th>\n",
              "      <th>category_code</th>\n",
              "      <th>brand</th>\n",
              "      <th>price</th>\n",
              "      <th>user_id</th>\n",
              "      <th>user_session</th>\n",
              "    </tr>\n",
              "  </thead>\n",
              "  <tbody>\n",
              "    <tr>\n",
              "      <th>324883</th>\n",
              "      <td>2020-11-20 20:28:31 UTC</td>\n",
              "      <td>view</td>\n",
              "      <td>137302</td>\n",
              "      <td>2144415924491387038</td>\n",
              "      <td>computers.components.motherboard</td>\n",
              "      <td>asus</td>\n",
              "      <td>55.16</td>\n",
              "      <td>1515915625541828038</td>\n",
              "      <td>ct2KkGN1Jz</td>\n",
              "    </tr>\n",
              "    <tr>\n",
              "      <th>742089</th>\n",
              "      <td>2021-02-04 16:28:12 UTC</td>\n",
              "      <td>view</td>\n",
              "      <td>949004</td>\n",
              "      <td>2144415921169498184</td>\n",
              "      <td>NaN</td>\n",
              "      <td>samsung</td>\n",
              "      <td>15.08</td>\n",
              "      <td>1515915625600644941</td>\n",
              "      <td>he6EwZRnzY</td>\n",
              "    </tr>\n",
              "    <tr>\n",
              "      <th>342243</th>\n",
              "      <td>2020-11-23 20:51:52 UTC</td>\n",
              "      <td>view</td>\n",
              "      <td>655728</td>\n",
              "      <td>2144415923384090754</td>\n",
              "      <td>NaN</td>\n",
              "      <td>interpower</td>\n",
              "      <td>33.25</td>\n",
              "      <td>1515915625542967299</td>\n",
              "      <td>tLqKU6eiN1</td>\n",
              "    </tr>\n",
              "    <tr>\n",
              "      <th>263801</th>\n",
              "      <td>2020-11-12 07:22:05 UTC</td>\n",
              "      <td>view</td>\n",
              "      <td>1785245</td>\n",
              "      <td>2144415925011480748</td>\n",
              "      <td>stationery.cartrige</td>\n",
              "      <td>canon</td>\n",
              "      <td>43.11</td>\n",
              "      <td>1515915625529471316</td>\n",
              "      <td>9TC3A2bzIH</td>\n",
              "    </tr>\n",
              "    <tr>\n",
              "      <th>125249</th>\n",
              "      <td>2020-10-21 05:08:13 UTC</td>\n",
              "      <td>view</td>\n",
              "      <td>4102097</td>\n",
              "      <td>2144415948256314150</td>\n",
              "      <td>computers.peripherals.keyboard</td>\n",
              "      <td>defender</td>\n",
              "      <td>12.60</td>\n",
              "      <td>1515915625528592593</td>\n",
              "      <td>BkRNSxdy3G</td>\n",
              "    </tr>\n",
              "    <tr>\n",
              "      <th>592908</th>\n",
              "      <td>2021-01-12 09:16:17 UTC</td>\n",
              "      <td>view</td>\n",
              "      <td>4155383</td>\n",
              "      <td>2144415922427789416</td>\n",
              "      <td>computers.components.videocards</td>\n",
              "      <td>powercolor</td>\n",
              "      <td>251.40</td>\n",
              "      <td>1515915625573734319</td>\n",
              "      <td>knqWZb2Tjr</td>\n",
              "    </tr>\n",
              "    <tr>\n",
              "      <th>643384</th>\n",
              "      <td>2021-01-19 23:07:46 UTC</td>\n",
              "      <td>view</td>\n",
              "      <td>949002</td>\n",
              "      <td>2144415921169498184</td>\n",
              "      <td>NaN</td>\n",
              "      <td>lg</td>\n",
              "      <td>13.16</td>\n",
              "      <td>1515915625595043728</td>\n",
              "      <td>jEeQVrMmnp</td>\n",
              "    </tr>\n",
              "    <tr>\n",
              "      <th>627720</th>\n",
              "      <td>2021-01-17 17:06:53 UTC</td>\n",
              "      <td>cart</td>\n",
              "      <td>1821557</td>\n",
              "      <td>2144415922528452715</td>\n",
              "      <td>electronics.telephone</td>\n",
              "      <td>sirius</td>\n",
              "      <td>16.19</td>\n",
              "      <td>1515915625594221497</td>\n",
              "      <td>nvYmx2LqSq</td>\n",
              "    </tr>\n",
              "    <tr>\n",
              "      <th>245639</th>\n",
              "      <td>2020-11-09 16:50:09 UTC</td>\n",
              "      <td>cart</td>\n",
              "      <td>495121</td>\n",
              "      <td>2144415933794353554</td>\n",
              "      <td>NaN</td>\n",
              "      <td>pioneer</td>\n",
              "      <td>103.83</td>\n",
              "      <td>1515915625535803339</td>\n",
              "      <td>yPezInjiyl</td>\n",
              "    </tr>\n",
              "    <tr>\n",
              "      <th>879076</th>\n",
              "      <td>2021-02-27 19:13:08 UTC</td>\n",
              "      <td>view</td>\n",
              "      <td>340992</td>\n",
              "      <td>2144415943516750494</td>\n",
              "      <td>NaN</td>\n",
              "      <td>NaN</td>\n",
              "      <td>1.57</td>\n",
              "      <td>1515915625610531139</td>\n",
              "      <td>OKMQViW0of</td>\n",
              "    </tr>\n",
              "  </tbody>\n",
              "</table>\n",
              "</div>\n",
              "      <button class=\"colab-df-convert\" onclick=\"convertToInteractive('df-426627e8-1326-4d53-a58e-af05e0217d1f')\"\n",
              "              title=\"Convert this dataframe to an interactive table.\"\n",
              "              style=\"display:none;\">\n",
              "        \n",
              "  <svg xmlns=\"http://www.w3.org/2000/svg\" height=\"24px\"viewBox=\"0 0 24 24\"\n",
              "       width=\"24px\">\n",
              "    <path d=\"M0 0h24v24H0V0z\" fill=\"none\"/>\n",
              "    <path d=\"M18.56 5.44l.94 2.06.94-2.06 2.06-.94-2.06-.94-.94-2.06-.94 2.06-2.06.94zm-11 1L8.5 8.5l.94-2.06 2.06-.94-2.06-.94L8.5 2.5l-.94 2.06-2.06.94zm10 10l.94 2.06.94-2.06 2.06-.94-2.06-.94-.94-2.06-.94 2.06-2.06.94z\"/><path d=\"M17.41 7.96l-1.37-1.37c-.4-.4-.92-.59-1.43-.59-.52 0-1.04.2-1.43.59L10.3 9.45l-7.72 7.72c-.78.78-.78 2.05 0 2.83L4 21.41c.39.39.9.59 1.41.59.51 0 1.02-.2 1.41-.59l7.78-7.78 2.81-2.81c.8-.78.8-2.07 0-2.86zM5.41 20L4 18.59l7.72-7.72 1.47 1.35L5.41 20z\"/>\n",
              "  </svg>\n",
              "      </button>\n",
              "      \n",
              "  <style>\n",
              "    .colab-df-container {\n",
              "      display:flex;\n",
              "      flex-wrap:wrap;\n",
              "      gap: 12px;\n",
              "    }\n",
              "\n",
              "    .colab-df-convert {\n",
              "      background-color: #E8F0FE;\n",
              "      border: none;\n",
              "      border-radius: 50%;\n",
              "      cursor: pointer;\n",
              "      display: none;\n",
              "      fill: #1967D2;\n",
              "      height: 32px;\n",
              "      padding: 0 0 0 0;\n",
              "      width: 32px;\n",
              "    }\n",
              "\n",
              "    .colab-df-convert:hover {\n",
              "      background-color: #E2EBFA;\n",
              "      box-shadow: 0px 1px 2px rgba(60, 64, 67, 0.3), 0px 1px 3px 1px rgba(60, 64, 67, 0.15);\n",
              "      fill: #174EA6;\n",
              "    }\n",
              "\n",
              "    [theme=dark] .colab-df-convert {\n",
              "      background-color: #3B4455;\n",
              "      fill: #D2E3FC;\n",
              "    }\n",
              "\n",
              "    [theme=dark] .colab-df-convert:hover {\n",
              "      background-color: #434B5C;\n",
              "      box-shadow: 0px 1px 3px 1px rgba(0, 0, 0, 0.15);\n",
              "      filter: drop-shadow(0px 1px 2px rgba(0, 0, 0, 0.3));\n",
              "      fill: #FFFFFF;\n",
              "    }\n",
              "  </style>\n",
              "\n",
              "      <script>\n",
              "        const buttonEl =\n",
              "          document.querySelector('#df-426627e8-1326-4d53-a58e-af05e0217d1f button.colab-df-convert');\n",
              "        buttonEl.style.display =\n",
              "          google.colab.kernel.accessAllowed ? 'block' : 'none';\n",
              "\n",
              "        async function convertToInteractive(key) {\n",
              "          const element = document.querySelector('#df-426627e8-1326-4d53-a58e-af05e0217d1f');\n",
              "          const dataTable =\n",
              "            await google.colab.kernel.invokeFunction('convertToInteractive',\n",
              "                                                     [key], {});\n",
              "          if (!dataTable) return;\n",
              "\n",
              "          const docLinkHtml = 'Like what you see? Visit the ' +\n",
              "            '<a target=\"_blank\" href=https://colab.research.google.com/notebooks/data_table.ipynb>data table notebook</a>'\n",
              "            + ' to learn more about interactive tables.';\n",
              "          element.innerHTML = '';\n",
              "          dataTable['output_type'] = 'display_data';\n",
              "          await google.colab.output.renderOutput(dataTable, element);\n",
              "          const docLink = document.createElement('div');\n",
              "          docLink.innerHTML = docLinkHtml;\n",
              "          element.appendChild(docLink);\n",
              "        }\n",
              "      </script>\n",
              "    </div>\n",
              "  </div>\n",
              "  "
            ]
          },
          "metadata": {},
          "execution_count": 328
        }
      ]
    },
    {
      "cell_type": "markdown",
      "source": [
        "Dari data df_marketing yang ditampilkan diketahui:\n",
        "\n",
        "1. Data terdiri atas 9 kolom dan 885129 baris\n",
        "2. Data numerical:\n",
        "\n",
        " - product_id\n",
        " - category_id\n",
        " - price\n",
        " - user_id\n",
        "\n",
        "3. Data categorical\n",
        "\n",
        " - event_time\n",
        " - event_type\n",
        " - category_code\n",
        " - brand\n",
        " - user_session\n",
        "\n",
        "4. Data kolom category_code, brand, dan user_session memiliki missing value\n",
        "\n",
        "5. Data kolom conversion memiliki nilai maksimal 1 dan nilai minimal 0, maka data kolom conversion kemungkinan bermakna apakah conversion terjadi atau tidak (1 = Ya, 0 = Tidak)\n",
        "\n",
        "6. Data kolom price memiliki nilai minimal dan maksimal positif"
      ],
      "metadata": {
        "id": "RZfoZqkjgwLw"
      }
    },
    {
      "cell_type": "markdown",
      "source": [
        "### Data Preparation"
      ],
      "metadata": {
        "id": "wNRh3DL6g5lf"
      }
    },
    {
      "cell_type": "markdown",
      "source": [
        "Setelah melakukan Data Inspection, maka dilakukan data preparation berupa:\n",
        "\n",
        "1. Karena terdapat data missing values, yaitu data kolom category_code, brand, dan user_session, maka perlu dilaporkan kepada user / pihak ketiga yang bertanggungjawab terhadap data tsb. sehingga hal tsb dapat diperbaiki dan kedepannya dapat dihindari. Jika kemudian mendapatkan instruksi penanganan terhadap data ybh, maka baru dilakukan tindak lebih lanjut. **Dalam kasus ini, baris yang mengandung missing values akan dihapus**.\n",
        "\n",
        "2. Mengubah data menjadi yang memiliki format yang dapat digunakan dalam visualisasi funnel"
      ],
      "metadata": {
        "id": "k0vtdX43AFjG"
      }
    },
    {
      "cell_type": "code",
      "source": [
        "# Meng-copy data untuk menghindari edit pada data primer langsung\n",
        "df_funnel = df_funnel.copy()"
      ],
      "metadata": {
        "id": "u27Hz2uMA_T2"
      },
      "execution_count": null,
      "outputs": []
    },
    {
      "cell_type": "code",
      "source": [
        "# Menghitung jumlah baris yang mengandung missing values\n",
        "df_funnel_copy.isnull().sum()"
      ],
      "metadata": {
        "colab": {
          "base_uri": "https://localhost:8080/"
        },
        "id": "viQJfHq0Btv3",
        "outputId": "52998449-3299-4780-85cc-30adfa9cb13e"
      },
      "execution_count": null,
      "outputs": [
        {
          "output_type": "execute_result",
          "data": {
            "text/plain": [
              "event_time       0\n",
              "event_type       0\n",
              "product_id       0\n",
              "category_id      0\n",
              "category_code    0\n",
              "brand            0\n",
              "price            0\n",
              "user_id          0\n",
              "user_session     0\n",
              "dtype: int64"
            ]
          },
          "metadata": {},
          "execution_count": 330
        }
      ]
    },
    {
      "cell_type": "markdown",
      "source": [
        "Dari hasil perhitungan diatas, dapat diketahui:\n",
        "1. Data kolom category_code memiliki missing values sebanyak 236219 baris\n",
        "2. Data kolom brand memiliki missing values sebanyak 212364 baris\n",
        "3. Data kolom user_session memiliki missing values sebanyak 165 baris"
      ],
      "metadata": {
        "id": "k6x0MV3oB5qY"
      }
    },
    {
      "cell_type": "code",
      "source": [
        "# Men-drop baris yang memiliki missing value pada data kolom category_code\n",
        "df_funnel_copy = df_funnel_copy.dropna(subset=['category_code'])\n",
        "\n",
        "# Men-drop baris yang memiliki missing value pada data kolom brand\n",
        "df_funnel_copy = df_funnel_copy.dropna(subset=['brand'])\n",
        "\n",
        "# Men-drop baris yang memiliki missing value pada data kolom user_session\n",
        "df_funnel_copy = df_funnel_copy.dropna(subset=['user_session'])"
      ],
      "metadata": {
        "id": "bgzARohDBtyx"
      },
      "execution_count": null,
      "outputs": []
    },
    {
      "cell_type": "code",
      "source": [
        "# Menghitung kembali jumlah baris yang mengandung missing values\n",
        "df_funnel_copy.isnull().sum()"
      ],
      "metadata": {
        "colab": {
          "base_uri": "https://localhost:8080/"
        },
        "id": "aJI5LPg4Cpx-",
        "outputId": "3cdbbe9d-1381-4518-f4bc-8e74a6e12da5"
      },
      "execution_count": null,
      "outputs": [
        {
          "output_type": "execute_result",
          "data": {
            "text/plain": [
              "event_time       0\n",
              "event_type       0\n",
              "product_id       0\n",
              "category_id      0\n",
              "category_code    0\n",
              "brand            0\n",
              "price            0\n",
              "user_id          0\n",
              "user_session     0\n",
              "dtype: int64"
            ]
          },
          "metadata": {},
          "execution_count": 332
        }
      ]
    },
    {
      "cell_type": "code",
      "source": [
        "# Memasukkan data yang sudah diubah ke data primer\n",
        "df_funnel = df_funnel_copy"
      ],
      "metadata": {
        "id": "VW0sEvBpCypf"
      },
      "execution_count": null,
      "outputs": []
    },
    {
      "cell_type": "code",
      "source": [
        "# Menampilkan informasi data df_funnel dengan metode info()\n",
        "df_funnel.info()"
      ],
      "metadata": {
        "colab": {
          "base_uri": "https://localhost:8080/"
        },
        "id": "YQjrIiS5Fus_",
        "outputId": "b6fb0522-f835-43de-98c1-a0920c4ea1c3"
      },
      "execution_count": null,
      "outputs": [
        {
          "output_type": "stream",
          "name": "stdout",
          "text": [
            "<class 'pandas.core.frame.DataFrame'>\n",
            "Int64Index: 516256 entries, 1 to 885128\n",
            "Data columns (total 9 columns):\n",
            " #   Column         Non-Null Count   Dtype  \n",
            "---  ------         --------------   -----  \n",
            " 0   event_time     516256 non-null  object \n",
            " 1   event_type     516256 non-null  object \n",
            " 2   product_id     516256 non-null  int64  \n",
            " 3   category_id    516256 non-null  int64  \n",
            " 4   category_code  516256 non-null  object \n",
            " 5   brand          516256 non-null  object \n",
            " 6   price          516256 non-null  float64\n",
            " 7   user_id        516256 non-null  int64  \n",
            " 8   user_session   516256 non-null  object \n",
            "dtypes: float64(1), int64(3), object(5)\n",
            "memory usage: 39.4+ MB\n"
          ]
        }
      ]
    },
    {
      "cell_type": "code",
      "source": [
        "# Menampilkan nilai unique pada data kolom event_type untuk keperluan data baru\n",
        "df_funnel['event_type'].unique()"
      ],
      "metadata": {
        "colab": {
          "base_uri": "https://localhost:8080/"
        },
        "id": "uFqkvVbNEw8v",
        "outputId": "700ffc78-b3f9-4b3d-fc8c-c9a1054efba1"
      },
      "execution_count": null,
      "outputs": [
        {
          "output_type": "execute_result",
          "data": {
            "text/plain": [
              "array(['view', 'cart', 'purchase'], dtype=object)"
            ]
          },
          "metadata": {},
          "execution_count": 335
        }
      ]
    },
    {
      "cell_type": "code",
      "source": [
        "# Membuat data baru dengan format yang dapat digunakan dalam visualisasi funnel\n",
        "df_funnel_vis = [['Phases', 'Values'],\n",
        "               # Menghitung jumlah baris view pada data kolom event_type\n",
        "               ['view', df_funnel[df_funnel['event_type'] == 'view'].shape[0]],\n",
        "               # Menghitung jumlah baris cart pada data kolom event_type\n",
        "               ['cart', df_funnel[df_funnel['event_type'] == 'cart'].shape[0]],\n",
        "               # Menghitung jumlah baris purchase pada data kolom event_type\n",
        "               ['purchase', df_funnel[df_funnel['event_type'] == 'purchase'].shape[0]]]"
      ],
      "metadata": {
        "id": "Y_WNCNMSg4hv"
      },
      "execution_count": null,
      "outputs": []
    },
    {
      "cell_type": "code",
      "source": [
        "# Menampilkan data df_funnel_vis\n",
        "df_funnel_vis"
      ],
      "metadata": {
        "id": "n3E5BemKg4r-",
        "colab": {
          "base_uri": "https://localhost:8080/"
        },
        "outputId": "58ad1c18-f265-4109-996f-b3acc83185a5"
      },
      "execution_count": null,
      "outputs": [
        {
          "output_type": "execute_result",
          "data": {
            "text/plain": [
              "[['Phases', 'Values'], ['view', 458481], ['cart', 34669], ['purchase', 23106]]"
            ]
          },
          "metadata": {},
          "execution_count": 337
        }
      ]
    },
    {
      "cell_type": "markdown",
      "source": [
        "Dari hasil perhitungan diatas dapat diketahui:\n",
        "\n",
        "1. Jumlah baris view pada data kolom event_type sebanyak 458481 baris\n",
        "2. Jumlah baris cart pada data kolom event_type sebanyak 34669 baris\n",
        "3. Jumlah baris purchase pada data kolom event_type sebanyak 23106 baris"
      ],
      "metadata": {
        "id": "9v-35i-MIYZq"
      }
    },
    {
      "cell_type": "code",
      "source": [
        "# Menampilkan tabel yang menunjukkan perbedaan tahap dari data df_funnel_vis\n",
        "table = ff.create_table(df_funnel_vis)\n",
        "iplot(table)"
      ],
      "metadata": {
        "id": "y9QnZLI7g4uw",
        "colab": {
          "base_uri": "https://localhost:8080/"
        },
        "outputId": "d7a73d83-8df2-40b2-c96a-e1ccaf0cdca3"
      },
      "execution_count": null,
      "outputs": [
        {
          "output_type": "display_data",
          "data": {
            "application/vnd.plotly.v1+json": {
              "data": [
                {
                  "colorscale": [
                    [
                      0,
                      "#00083e"
                    ],
                    [
                      0.5,
                      "#ededee"
                    ],
                    [
                      1,
                      "#ffffff"
                    ]
                  ],
                  "hoverinfo": "none",
                  "opacity": 0.75,
                  "showscale": false,
                  "z": [
                    [
                      0,
                      0
                    ],
                    [
                      0.5,
                      0.5
                    ],
                    [
                      1,
                      1
                    ],
                    [
                      0.5,
                      0.5
                    ]
                  ],
                  "type": "heatmap"
                }
              ],
              "layout": {
                "annotations": [
                  {
                    "align": "left",
                    "font": {
                      "color": "#ffffff"
                    },
                    "showarrow": false,
                    "text": "<b>Phases</b>",
                    "x": -0.45,
                    "xanchor": "left",
                    "xref": "x",
                    "y": 0,
                    "yref": "y"
                  },
                  {
                    "align": "left",
                    "font": {
                      "color": "#ffffff"
                    },
                    "showarrow": false,
                    "text": "<b>Values</b>",
                    "x": 0.55,
                    "xanchor": "left",
                    "xref": "x",
                    "y": 0,
                    "yref": "y"
                  },
                  {
                    "align": "left",
                    "font": {
                      "color": "#000000"
                    },
                    "showarrow": false,
                    "text": "view",
                    "x": -0.45,
                    "xanchor": "left",
                    "xref": "x",
                    "y": 1,
                    "yref": "y"
                  },
                  {
                    "align": "left",
                    "font": {
                      "color": "#000000"
                    },
                    "showarrow": false,
                    "text": "458481",
                    "x": 0.55,
                    "xanchor": "left",
                    "xref": "x",
                    "y": 1,
                    "yref": "y"
                  },
                  {
                    "align": "left",
                    "font": {
                      "color": "#000000"
                    },
                    "showarrow": false,
                    "text": "cart",
                    "x": -0.45,
                    "xanchor": "left",
                    "xref": "x",
                    "y": 2,
                    "yref": "y"
                  },
                  {
                    "align": "left",
                    "font": {
                      "color": "#000000"
                    },
                    "showarrow": false,
                    "text": "34669",
                    "x": 0.55,
                    "xanchor": "left",
                    "xref": "x",
                    "y": 2,
                    "yref": "y"
                  },
                  {
                    "align": "left",
                    "font": {
                      "color": "#000000"
                    },
                    "showarrow": false,
                    "text": "purchase",
                    "x": -0.45,
                    "xanchor": "left",
                    "xref": "x",
                    "y": 3,
                    "yref": "y"
                  },
                  {
                    "align": "left",
                    "font": {
                      "color": "#000000"
                    },
                    "showarrow": false,
                    "text": "23106",
                    "x": 0.55,
                    "xanchor": "left",
                    "xref": "x",
                    "y": 3,
                    "yref": "y"
                  }
                ],
                "height": 170,
                "margin": {
                  "b": 0,
                  "l": 0,
                  "r": 0,
                  "t": 0
                },
                "template": {
                  "data": {
                    "barpolar": [
                      {
                        "marker": {
                          "line": {
                            "color": "#E5ECF6",
                            "width": 0.5
                          },
                          "pattern": {
                            "fillmode": "overlay",
                            "size": 10,
                            "solidity": 0.2
                          }
                        },
                        "type": "barpolar"
                      }
                    ],
                    "bar": [
                      {
                        "error_x": {
                          "color": "#2a3f5f"
                        },
                        "error_y": {
                          "color": "#2a3f5f"
                        },
                        "marker": {
                          "line": {
                            "color": "#E5ECF6",
                            "width": 0.5
                          },
                          "pattern": {
                            "fillmode": "overlay",
                            "size": 10,
                            "solidity": 0.2
                          }
                        },
                        "type": "bar"
                      }
                    ],
                    "carpet": [
                      {
                        "aaxis": {
                          "endlinecolor": "#2a3f5f",
                          "gridcolor": "white",
                          "linecolor": "white",
                          "minorgridcolor": "white",
                          "startlinecolor": "#2a3f5f"
                        },
                        "baxis": {
                          "endlinecolor": "#2a3f5f",
                          "gridcolor": "white",
                          "linecolor": "white",
                          "minorgridcolor": "white",
                          "startlinecolor": "#2a3f5f"
                        },
                        "type": "carpet"
                      }
                    ],
                    "choropleth": [
                      {
                        "colorbar": {
                          "outlinewidth": 0,
                          "ticks": ""
                        },
                        "type": "choropleth"
                      }
                    ],
                    "contourcarpet": [
                      {
                        "colorbar": {
                          "outlinewidth": 0,
                          "ticks": ""
                        },
                        "type": "contourcarpet"
                      }
                    ],
                    "contour": [
                      {
                        "colorbar": {
                          "outlinewidth": 0,
                          "ticks": ""
                        },
                        "colorscale": [
                          [
                            0,
                            "#0d0887"
                          ],
                          [
                            0.1111111111111111,
                            "#46039f"
                          ],
                          [
                            0.2222222222222222,
                            "#7201a8"
                          ],
                          [
                            0.3333333333333333,
                            "#9c179e"
                          ],
                          [
                            0.4444444444444444,
                            "#bd3786"
                          ],
                          [
                            0.5555555555555556,
                            "#d8576b"
                          ],
                          [
                            0.6666666666666666,
                            "#ed7953"
                          ],
                          [
                            0.7777777777777778,
                            "#fb9f3a"
                          ],
                          [
                            0.8888888888888888,
                            "#fdca26"
                          ],
                          [
                            1,
                            "#f0f921"
                          ]
                        ],
                        "type": "contour"
                      }
                    ],
                    "heatmapgl": [
                      {
                        "colorbar": {
                          "outlinewidth": 0,
                          "ticks": ""
                        },
                        "colorscale": [
                          [
                            0,
                            "#0d0887"
                          ],
                          [
                            0.1111111111111111,
                            "#46039f"
                          ],
                          [
                            0.2222222222222222,
                            "#7201a8"
                          ],
                          [
                            0.3333333333333333,
                            "#9c179e"
                          ],
                          [
                            0.4444444444444444,
                            "#bd3786"
                          ],
                          [
                            0.5555555555555556,
                            "#d8576b"
                          ],
                          [
                            0.6666666666666666,
                            "#ed7953"
                          ],
                          [
                            0.7777777777777778,
                            "#fb9f3a"
                          ],
                          [
                            0.8888888888888888,
                            "#fdca26"
                          ],
                          [
                            1,
                            "#f0f921"
                          ]
                        ],
                        "type": "heatmapgl"
                      }
                    ],
                    "heatmap": [
                      {
                        "colorbar": {
                          "outlinewidth": 0,
                          "ticks": ""
                        },
                        "colorscale": [
                          [
                            0,
                            "#0d0887"
                          ],
                          [
                            0.1111111111111111,
                            "#46039f"
                          ],
                          [
                            0.2222222222222222,
                            "#7201a8"
                          ],
                          [
                            0.3333333333333333,
                            "#9c179e"
                          ],
                          [
                            0.4444444444444444,
                            "#bd3786"
                          ],
                          [
                            0.5555555555555556,
                            "#d8576b"
                          ],
                          [
                            0.6666666666666666,
                            "#ed7953"
                          ],
                          [
                            0.7777777777777778,
                            "#fb9f3a"
                          ],
                          [
                            0.8888888888888888,
                            "#fdca26"
                          ],
                          [
                            1,
                            "#f0f921"
                          ]
                        ],
                        "type": "heatmap"
                      }
                    ],
                    "histogram2dcontour": [
                      {
                        "colorbar": {
                          "outlinewidth": 0,
                          "ticks": ""
                        },
                        "colorscale": [
                          [
                            0,
                            "#0d0887"
                          ],
                          [
                            0.1111111111111111,
                            "#46039f"
                          ],
                          [
                            0.2222222222222222,
                            "#7201a8"
                          ],
                          [
                            0.3333333333333333,
                            "#9c179e"
                          ],
                          [
                            0.4444444444444444,
                            "#bd3786"
                          ],
                          [
                            0.5555555555555556,
                            "#d8576b"
                          ],
                          [
                            0.6666666666666666,
                            "#ed7953"
                          ],
                          [
                            0.7777777777777778,
                            "#fb9f3a"
                          ],
                          [
                            0.8888888888888888,
                            "#fdca26"
                          ],
                          [
                            1,
                            "#f0f921"
                          ]
                        ],
                        "type": "histogram2dcontour"
                      }
                    ],
                    "histogram2d": [
                      {
                        "colorbar": {
                          "outlinewidth": 0,
                          "ticks": ""
                        },
                        "colorscale": [
                          [
                            0,
                            "#0d0887"
                          ],
                          [
                            0.1111111111111111,
                            "#46039f"
                          ],
                          [
                            0.2222222222222222,
                            "#7201a8"
                          ],
                          [
                            0.3333333333333333,
                            "#9c179e"
                          ],
                          [
                            0.4444444444444444,
                            "#bd3786"
                          ],
                          [
                            0.5555555555555556,
                            "#d8576b"
                          ],
                          [
                            0.6666666666666666,
                            "#ed7953"
                          ],
                          [
                            0.7777777777777778,
                            "#fb9f3a"
                          ],
                          [
                            0.8888888888888888,
                            "#fdca26"
                          ],
                          [
                            1,
                            "#f0f921"
                          ]
                        ],
                        "type": "histogram2d"
                      }
                    ],
                    "histogram": [
                      {
                        "marker": {
                          "pattern": {
                            "fillmode": "overlay",
                            "size": 10,
                            "solidity": 0.2
                          }
                        },
                        "type": "histogram"
                      }
                    ],
                    "mesh3d": [
                      {
                        "colorbar": {
                          "outlinewidth": 0,
                          "ticks": ""
                        },
                        "type": "mesh3d"
                      }
                    ],
                    "parcoords": [
                      {
                        "line": {
                          "colorbar": {
                            "outlinewidth": 0,
                            "ticks": ""
                          }
                        },
                        "type": "parcoords"
                      }
                    ],
                    "pie": [
                      {
                        "automargin": true,
                        "type": "pie"
                      }
                    ],
                    "scatter3d": [
                      {
                        "line": {
                          "colorbar": {
                            "outlinewidth": 0,
                            "ticks": ""
                          }
                        },
                        "marker": {
                          "colorbar": {
                            "outlinewidth": 0,
                            "ticks": ""
                          }
                        },
                        "type": "scatter3d"
                      }
                    ],
                    "scattercarpet": [
                      {
                        "marker": {
                          "colorbar": {
                            "outlinewidth": 0,
                            "ticks": ""
                          }
                        },
                        "type": "scattercarpet"
                      }
                    ],
                    "scattergeo": [
                      {
                        "marker": {
                          "colorbar": {
                            "outlinewidth": 0,
                            "ticks": ""
                          }
                        },
                        "type": "scattergeo"
                      }
                    ],
                    "scattergl": [
                      {
                        "marker": {
                          "colorbar": {
                            "outlinewidth": 0,
                            "ticks": ""
                          }
                        },
                        "type": "scattergl"
                      }
                    ],
                    "scattermapbox": [
                      {
                        "marker": {
                          "colorbar": {
                            "outlinewidth": 0,
                            "ticks": ""
                          }
                        },
                        "type": "scattermapbox"
                      }
                    ],
                    "scatterpolargl": [
                      {
                        "marker": {
                          "colorbar": {
                            "outlinewidth": 0,
                            "ticks": ""
                          }
                        },
                        "type": "scatterpolargl"
                      }
                    ],
                    "scatterpolar": [
                      {
                        "marker": {
                          "colorbar": {
                            "outlinewidth": 0,
                            "ticks": ""
                          }
                        },
                        "type": "scatterpolar"
                      }
                    ],
                    "scatter": [
                      {
                        "marker": {
                          "colorbar": {
                            "outlinewidth": 0,
                            "ticks": ""
                          }
                        },
                        "type": "scatter"
                      }
                    ],
                    "scatterternary": [
                      {
                        "marker": {
                          "colorbar": {
                            "outlinewidth": 0,
                            "ticks": ""
                          }
                        },
                        "type": "scatterternary"
                      }
                    ],
                    "surface": [
                      {
                        "colorbar": {
                          "outlinewidth": 0,
                          "ticks": ""
                        },
                        "colorscale": [
                          [
                            0,
                            "#0d0887"
                          ],
                          [
                            0.1111111111111111,
                            "#46039f"
                          ],
                          [
                            0.2222222222222222,
                            "#7201a8"
                          ],
                          [
                            0.3333333333333333,
                            "#9c179e"
                          ],
                          [
                            0.4444444444444444,
                            "#bd3786"
                          ],
                          [
                            0.5555555555555556,
                            "#d8576b"
                          ],
                          [
                            0.6666666666666666,
                            "#ed7953"
                          ],
                          [
                            0.7777777777777778,
                            "#fb9f3a"
                          ],
                          [
                            0.8888888888888888,
                            "#fdca26"
                          ],
                          [
                            1,
                            "#f0f921"
                          ]
                        ],
                        "type": "surface"
                      }
                    ],
                    "table": [
                      {
                        "cells": {
                          "fill": {
                            "color": "#EBF0F8"
                          },
                          "line": {
                            "color": "white"
                          }
                        },
                        "header": {
                          "fill": {
                            "color": "#C8D4E3"
                          },
                          "line": {
                            "color": "white"
                          }
                        },
                        "type": "table"
                      }
                    ]
                  },
                  "layout": {
                    "annotationdefaults": {
                      "arrowcolor": "#2a3f5f",
                      "arrowhead": 0,
                      "arrowwidth": 1
                    },
                    "autotypenumbers": "strict",
                    "coloraxis": {
                      "colorbar": {
                        "outlinewidth": 0,
                        "ticks": ""
                      }
                    },
                    "colorscale": {
                      "diverging": [
                        [
                          0,
                          "#8e0152"
                        ],
                        [
                          0.1,
                          "#c51b7d"
                        ],
                        [
                          0.2,
                          "#de77ae"
                        ],
                        [
                          0.3,
                          "#f1b6da"
                        ],
                        [
                          0.4,
                          "#fde0ef"
                        ],
                        [
                          0.5,
                          "#f7f7f7"
                        ],
                        [
                          0.6,
                          "#e6f5d0"
                        ],
                        [
                          0.7,
                          "#b8e186"
                        ],
                        [
                          0.8,
                          "#7fbc41"
                        ],
                        [
                          0.9,
                          "#4d9221"
                        ],
                        [
                          1,
                          "#276419"
                        ]
                      ],
                      "sequential": [
                        [
                          0,
                          "#0d0887"
                        ],
                        [
                          0.1111111111111111,
                          "#46039f"
                        ],
                        [
                          0.2222222222222222,
                          "#7201a8"
                        ],
                        [
                          0.3333333333333333,
                          "#9c179e"
                        ],
                        [
                          0.4444444444444444,
                          "#bd3786"
                        ],
                        [
                          0.5555555555555556,
                          "#d8576b"
                        ],
                        [
                          0.6666666666666666,
                          "#ed7953"
                        ],
                        [
                          0.7777777777777778,
                          "#fb9f3a"
                        ],
                        [
                          0.8888888888888888,
                          "#fdca26"
                        ],
                        [
                          1,
                          "#f0f921"
                        ]
                      ],
                      "sequentialminus": [
                        [
                          0,
                          "#0d0887"
                        ],
                        [
                          0.1111111111111111,
                          "#46039f"
                        ],
                        [
                          0.2222222222222222,
                          "#7201a8"
                        ],
                        [
                          0.3333333333333333,
                          "#9c179e"
                        ],
                        [
                          0.4444444444444444,
                          "#bd3786"
                        ],
                        [
                          0.5555555555555556,
                          "#d8576b"
                        ],
                        [
                          0.6666666666666666,
                          "#ed7953"
                        ],
                        [
                          0.7777777777777778,
                          "#fb9f3a"
                        ],
                        [
                          0.8888888888888888,
                          "#fdca26"
                        ],
                        [
                          1,
                          "#f0f921"
                        ]
                      ]
                    },
                    "colorway": [
                      "#636efa",
                      "#EF553B",
                      "#00cc96",
                      "#ab63fa",
                      "#FFA15A",
                      "#19d3f3",
                      "#FF6692",
                      "#B6E880",
                      "#FF97FF",
                      "#FECB52"
                    ],
                    "font": {
                      "color": "#2a3f5f"
                    },
                    "geo": {
                      "bgcolor": "white",
                      "lakecolor": "white",
                      "landcolor": "#E5ECF6",
                      "showlakes": true,
                      "showland": true,
                      "subunitcolor": "white"
                    },
                    "hoverlabel": {
                      "align": "left"
                    },
                    "hovermode": "closest",
                    "mapbox": {
                      "style": "light"
                    },
                    "paper_bgcolor": "white",
                    "plot_bgcolor": "#E5ECF6",
                    "polar": {
                      "angularaxis": {
                        "gridcolor": "white",
                        "linecolor": "white",
                        "ticks": ""
                      },
                      "bgcolor": "#E5ECF6",
                      "radialaxis": {
                        "gridcolor": "white",
                        "linecolor": "white",
                        "ticks": ""
                      }
                    },
                    "scene": {
                      "xaxis": {
                        "backgroundcolor": "#E5ECF6",
                        "gridcolor": "white",
                        "gridwidth": 2,
                        "linecolor": "white",
                        "showbackground": true,
                        "ticks": "",
                        "zerolinecolor": "white"
                      },
                      "yaxis": {
                        "backgroundcolor": "#E5ECF6",
                        "gridcolor": "white",
                        "gridwidth": 2,
                        "linecolor": "white",
                        "showbackground": true,
                        "ticks": "",
                        "zerolinecolor": "white"
                      },
                      "zaxis": {
                        "backgroundcolor": "#E5ECF6",
                        "gridcolor": "white",
                        "gridwidth": 2,
                        "linecolor": "white",
                        "showbackground": true,
                        "ticks": "",
                        "zerolinecolor": "white"
                      }
                    },
                    "shapedefaults": {
                      "line": {
                        "color": "#2a3f5f"
                      }
                    },
                    "ternary": {
                      "aaxis": {
                        "gridcolor": "white",
                        "linecolor": "white",
                        "ticks": ""
                      },
                      "baxis": {
                        "gridcolor": "white",
                        "linecolor": "white",
                        "ticks": ""
                      },
                      "bgcolor": "#E5ECF6",
                      "caxis": {
                        "gridcolor": "white",
                        "linecolor": "white",
                        "ticks": ""
                      }
                    },
                    "title": {
                      "x": 0.05
                    },
                    "xaxis": {
                      "automargin": true,
                      "gridcolor": "white",
                      "linecolor": "white",
                      "ticks": "",
                      "title": {
                        "standoff": 15
                      },
                      "zerolinecolor": "white",
                      "zerolinewidth": 2
                    },
                    "yaxis": {
                      "automargin": true,
                      "gridcolor": "white",
                      "linecolor": "white",
                      "ticks": "",
                      "title": {
                        "standoff": 15
                      },
                      "zerolinecolor": "white",
                      "zerolinewidth": 2
                    }
                  }
                },
                "xaxis": {
                  "dtick": 1,
                  "gridwidth": 2,
                  "showticklabels": false,
                  "tick0": -0.5,
                  "ticks": "",
                  "zeroline": false
                },
                "yaxis": {
                  "autorange": "reversed",
                  "dtick": 1,
                  "gridwidth": 2,
                  "showticklabels": false,
                  "tick0": 0.5,
                  "ticks": "",
                  "zeroline": false
                }
              },
              "config": {
                "showLink": false,
                "linkText": "Export to plot.ly",
                "plotlyServerURL": "https://plot.ly"
              }
            },
            "text/html": [
              "<div>                            <div id=\"9fc67887-5fff-4bca-9c44-e56c1e104190\" class=\"plotly-graph-div\" style=\"height:170px; width:100%;\"></div>            <script type=\"text/javascript\">                require([\"plotly\"], function(Plotly) {                    window.PLOTLYENV=window.PLOTLYENV || {};                                    if (document.getElementById(\"9fc67887-5fff-4bca-9c44-e56c1e104190\")) {                    Plotly.newPlot(                        \"9fc67887-5fff-4bca-9c44-e56c1e104190\",                        [{\"colorscale\":[[0,\"#00083e\"],[0.5,\"#ededee\"],[1,\"#ffffff\"]],\"hoverinfo\":\"none\",\"opacity\":0.75,\"showscale\":false,\"z\":[[0,0],[0.5,0.5],[1,1],[0.5,0.5]],\"type\":\"heatmap\"}],                        {\"annotations\":[{\"align\":\"left\",\"font\":{\"color\":\"#ffffff\"},\"showarrow\":false,\"text\":\"<b>Phases</b>\",\"x\":-0.45,\"xanchor\":\"left\",\"xref\":\"x\",\"y\":0,\"yref\":\"y\"},{\"align\":\"left\",\"font\":{\"color\":\"#ffffff\"},\"showarrow\":false,\"text\":\"<b>Values</b>\",\"x\":0.55,\"xanchor\":\"left\",\"xref\":\"x\",\"y\":0,\"yref\":\"y\"},{\"align\":\"left\",\"font\":{\"color\":\"#000000\"},\"showarrow\":false,\"text\":\"view\",\"x\":-0.45,\"xanchor\":\"left\",\"xref\":\"x\",\"y\":1,\"yref\":\"y\"},{\"align\":\"left\",\"font\":{\"color\":\"#000000\"},\"showarrow\":false,\"text\":\"458481\",\"x\":0.55,\"xanchor\":\"left\",\"xref\":\"x\",\"y\":1,\"yref\":\"y\"},{\"align\":\"left\",\"font\":{\"color\":\"#000000\"},\"showarrow\":false,\"text\":\"cart\",\"x\":-0.45,\"xanchor\":\"left\",\"xref\":\"x\",\"y\":2,\"yref\":\"y\"},{\"align\":\"left\",\"font\":{\"color\":\"#000000\"},\"showarrow\":false,\"text\":\"34669\",\"x\":0.55,\"xanchor\":\"left\",\"xref\":\"x\",\"y\":2,\"yref\":\"y\"},{\"align\":\"left\",\"font\":{\"color\":\"#000000\"},\"showarrow\":false,\"text\":\"purchase\",\"x\":-0.45,\"xanchor\":\"left\",\"xref\":\"x\",\"y\":3,\"yref\":\"y\"},{\"align\":\"left\",\"font\":{\"color\":\"#000000\"},\"showarrow\":false,\"text\":\"23106\",\"x\":0.55,\"xanchor\":\"left\",\"xref\":\"x\",\"y\":3,\"yref\":\"y\"}],\"height\":170,\"margin\":{\"b\":0,\"l\":0,\"r\":0,\"t\":0},\"template\":{\"data\":{\"barpolar\":[{\"marker\":{\"line\":{\"color\":\"#E5ECF6\",\"width\":0.5},\"pattern\":{\"fillmode\":\"overlay\",\"size\":10,\"solidity\":0.2}},\"type\":\"barpolar\"}],\"bar\":[{\"error_x\":{\"color\":\"#2a3f5f\"},\"error_y\":{\"color\":\"#2a3f5f\"},\"marker\":{\"line\":{\"color\":\"#E5ECF6\",\"width\":0.5},\"pattern\":{\"fillmode\":\"overlay\",\"size\":10,\"solidity\":0.2}},\"type\":\"bar\"}],\"carpet\":[{\"aaxis\":{\"endlinecolor\":\"#2a3f5f\",\"gridcolor\":\"white\",\"linecolor\":\"white\",\"minorgridcolor\":\"white\",\"startlinecolor\":\"#2a3f5f\"},\"baxis\":{\"endlinecolor\":\"#2a3f5f\",\"gridcolor\":\"white\",\"linecolor\":\"white\",\"minorgridcolor\":\"white\",\"startlinecolor\":\"#2a3f5f\"},\"type\":\"carpet\"}],\"choropleth\":[{\"colorbar\":{\"outlinewidth\":0,\"ticks\":\"\"},\"type\":\"choropleth\"}],\"contourcarpet\":[{\"colorbar\":{\"outlinewidth\":0,\"ticks\":\"\"},\"type\":\"contourcarpet\"}],\"contour\":[{\"colorbar\":{\"outlinewidth\":0,\"ticks\":\"\"},\"colorscale\":[[0.0,\"#0d0887\"],[0.1111111111111111,\"#46039f\"],[0.2222222222222222,\"#7201a8\"],[0.3333333333333333,\"#9c179e\"],[0.4444444444444444,\"#bd3786\"],[0.5555555555555556,\"#d8576b\"],[0.6666666666666666,\"#ed7953\"],[0.7777777777777778,\"#fb9f3a\"],[0.8888888888888888,\"#fdca26\"],[1.0,\"#f0f921\"]],\"type\":\"contour\"}],\"heatmapgl\":[{\"colorbar\":{\"outlinewidth\":0,\"ticks\":\"\"},\"colorscale\":[[0.0,\"#0d0887\"],[0.1111111111111111,\"#46039f\"],[0.2222222222222222,\"#7201a8\"],[0.3333333333333333,\"#9c179e\"],[0.4444444444444444,\"#bd3786\"],[0.5555555555555556,\"#d8576b\"],[0.6666666666666666,\"#ed7953\"],[0.7777777777777778,\"#fb9f3a\"],[0.8888888888888888,\"#fdca26\"],[1.0,\"#f0f921\"]],\"type\":\"heatmapgl\"}],\"heatmap\":[{\"colorbar\":{\"outlinewidth\":0,\"ticks\":\"\"},\"colorscale\":[[0.0,\"#0d0887\"],[0.1111111111111111,\"#46039f\"],[0.2222222222222222,\"#7201a8\"],[0.3333333333333333,\"#9c179e\"],[0.4444444444444444,\"#bd3786\"],[0.5555555555555556,\"#d8576b\"],[0.6666666666666666,\"#ed7953\"],[0.7777777777777778,\"#fb9f3a\"],[0.8888888888888888,\"#fdca26\"],[1.0,\"#f0f921\"]],\"type\":\"heatmap\"}],\"histogram2dcontour\":[{\"colorbar\":{\"outlinewidth\":0,\"ticks\":\"\"},\"colorscale\":[[0.0,\"#0d0887\"],[0.1111111111111111,\"#46039f\"],[0.2222222222222222,\"#7201a8\"],[0.3333333333333333,\"#9c179e\"],[0.4444444444444444,\"#bd3786\"],[0.5555555555555556,\"#d8576b\"],[0.6666666666666666,\"#ed7953\"],[0.7777777777777778,\"#fb9f3a\"],[0.8888888888888888,\"#fdca26\"],[1.0,\"#f0f921\"]],\"type\":\"histogram2dcontour\"}],\"histogram2d\":[{\"colorbar\":{\"outlinewidth\":0,\"ticks\":\"\"},\"colorscale\":[[0.0,\"#0d0887\"],[0.1111111111111111,\"#46039f\"],[0.2222222222222222,\"#7201a8\"],[0.3333333333333333,\"#9c179e\"],[0.4444444444444444,\"#bd3786\"],[0.5555555555555556,\"#d8576b\"],[0.6666666666666666,\"#ed7953\"],[0.7777777777777778,\"#fb9f3a\"],[0.8888888888888888,\"#fdca26\"],[1.0,\"#f0f921\"]],\"type\":\"histogram2d\"}],\"histogram\":[{\"marker\":{\"pattern\":{\"fillmode\":\"overlay\",\"size\":10,\"solidity\":0.2}},\"type\":\"histogram\"}],\"mesh3d\":[{\"colorbar\":{\"outlinewidth\":0,\"ticks\":\"\"},\"type\":\"mesh3d\"}],\"parcoords\":[{\"line\":{\"colorbar\":{\"outlinewidth\":0,\"ticks\":\"\"}},\"type\":\"parcoords\"}],\"pie\":[{\"automargin\":true,\"type\":\"pie\"}],\"scatter3d\":[{\"line\":{\"colorbar\":{\"outlinewidth\":0,\"ticks\":\"\"}},\"marker\":{\"colorbar\":{\"outlinewidth\":0,\"ticks\":\"\"}},\"type\":\"scatter3d\"}],\"scattercarpet\":[{\"marker\":{\"colorbar\":{\"outlinewidth\":0,\"ticks\":\"\"}},\"type\":\"scattercarpet\"}],\"scattergeo\":[{\"marker\":{\"colorbar\":{\"outlinewidth\":0,\"ticks\":\"\"}},\"type\":\"scattergeo\"}],\"scattergl\":[{\"marker\":{\"colorbar\":{\"outlinewidth\":0,\"ticks\":\"\"}},\"type\":\"scattergl\"}],\"scattermapbox\":[{\"marker\":{\"colorbar\":{\"outlinewidth\":0,\"ticks\":\"\"}},\"type\":\"scattermapbox\"}],\"scatterpolargl\":[{\"marker\":{\"colorbar\":{\"outlinewidth\":0,\"ticks\":\"\"}},\"type\":\"scatterpolargl\"}],\"scatterpolar\":[{\"marker\":{\"colorbar\":{\"outlinewidth\":0,\"ticks\":\"\"}},\"type\":\"scatterpolar\"}],\"scatter\":[{\"marker\":{\"colorbar\":{\"outlinewidth\":0,\"ticks\":\"\"}},\"type\":\"scatter\"}],\"scatterternary\":[{\"marker\":{\"colorbar\":{\"outlinewidth\":0,\"ticks\":\"\"}},\"type\":\"scatterternary\"}],\"surface\":[{\"colorbar\":{\"outlinewidth\":0,\"ticks\":\"\"},\"colorscale\":[[0.0,\"#0d0887\"],[0.1111111111111111,\"#46039f\"],[0.2222222222222222,\"#7201a8\"],[0.3333333333333333,\"#9c179e\"],[0.4444444444444444,\"#bd3786\"],[0.5555555555555556,\"#d8576b\"],[0.6666666666666666,\"#ed7953\"],[0.7777777777777778,\"#fb9f3a\"],[0.8888888888888888,\"#fdca26\"],[1.0,\"#f0f921\"]],\"type\":\"surface\"}],\"table\":[{\"cells\":{\"fill\":{\"color\":\"#EBF0F8\"},\"line\":{\"color\":\"white\"}},\"header\":{\"fill\":{\"color\":\"#C8D4E3\"},\"line\":{\"color\":\"white\"}},\"type\":\"table\"}]},\"layout\":{\"annotationdefaults\":{\"arrowcolor\":\"#2a3f5f\",\"arrowhead\":0,\"arrowwidth\":1},\"autotypenumbers\":\"strict\",\"coloraxis\":{\"colorbar\":{\"outlinewidth\":0,\"ticks\":\"\"}},\"colorscale\":{\"diverging\":[[0,\"#8e0152\"],[0.1,\"#c51b7d\"],[0.2,\"#de77ae\"],[0.3,\"#f1b6da\"],[0.4,\"#fde0ef\"],[0.5,\"#f7f7f7\"],[0.6,\"#e6f5d0\"],[0.7,\"#b8e186\"],[0.8,\"#7fbc41\"],[0.9,\"#4d9221\"],[1,\"#276419\"]],\"sequential\":[[0.0,\"#0d0887\"],[0.1111111111111111,\"#46039f\"],[0.2222222222222222,\"#7201a8\"],[0.3333333333333333,\"#9c179e\"],[0.4444444444444444,\"#bd3786\"],[0.5555555555555556,\"#d8576b\"],[0.6666666666666666,\"#ed7953\"],[0.7777777777777778,\"#fb9f3a\"],[0.8888888888888888,\"#fdca26\"],[1.0,\"#f0f921\"]],\"sequentialminus\":[[0.0,\"#0d0887\"],[0.1111111111111111,\"#46039f\"],[0.2222222222222222,\"#7201a8\"],[0.3333333333333333,\"#9c179e\"],[0.4444444444444444,\"#bd3786\"],[0.5555555555555556,\"#d8576b\"],[0.6666666666666666,\"#ed7953\"],[0.7777777777777778,\"#fb9f3a\"],[0.8888888888888888,\"#fdca26\"],[1.0,\"#f0f921\"]]},\"colorway\":[\"#636efa\",\"#EF553B\",\"#00cc96\",\"#ab63fa\",\"#FFA15A\",\"#19d3f3\",\"#FF6692\",\"#B6E880\",\"#FF97FF\",\"#FECB52\"],\"font\":{\"color\":\"#2a3f5f\"},\"geo\":{\"bgcolor\":\"white\",\"lakecolor\":\"white\",\"landcolor\":\"#E5ECF6\",\"showlakes\":true,\"showland\":true,\"subunitcolor\":\"white\"},\"hoverlabel\":{\"align\":\"left\"},\"hovermode\":\"closest\",\"mapbox\":{\"style\":\"light\"},\"paper_bgcolor\":\"white\",\"plot_bgcolor\":\"#E5ECF6\",\"polar\":{\"angularaxis\":{\"gridcolor\":\"white\",\"linecolor\":\"white\",\"ticks\":\"\"},\"bgcolor\":\"#E5ECF6\",\"radialaxis\":{\"gridcolor\":\"white\",\"linecolor\":\"white\",\"ticks\":\"\"}},\"scene\":{\"xaxis\":{\"backgroundcolor\":\"#E5ECF6\",\"gridcolor\":\"white\",\"gridwidth\":2,\"linecolor\":\"white\",\"showbackground\":true,\"ticks\":\"\",\"zerolinecolor\":\"white\"},\"yaxis\":{\"backgroundcolor\":\"#E5ECF6\",\"gridcolor\":\"white\",\"gridwidth\":2,\"linecolor\":\"white\",\"showbackground\":true,\"ticks\":\"\",\"zerolinecolor\":\"white\"},\"zaxis\":{\"backgroundcolor\":\"#E5ECF6\",\"gridcolor\":\"white\",\"gridwidth\":2,\"linecolor\":\"white\",\"showbackground\":true,\"ticks\":\"\",\"zerolinecolor\":\"white\"}},\"shapedefaults\":{\"line\":{\"color\":\"#2a3f5f\"}},\"ternary\":{\"aaxis\":{\"gridcolor\":\"white\",\"linecolor\":\"white\",\"ticks\":\"\"},\"baxis\":{\"gridcolor\":\"white\",\"linecolor\":\"white\",\"ticks\":\"\"},\"bgcolor\":\"#E5ECF6\",\"caxis\":{\"gridcolor\":\"white\",\"linecolor\":\"white\",\"ticks\":\"\"}},\"title\":{\"x\":0.05},\"xaxis\":{\"automargin\":true,\"gridcolor\":\"white\",\"linecolor\":\"white\",\"ticks\":\"\",\"title\":{\"standoff\":15},\"zerolinecolor\":\"white\",\"zerolinewidth\":2},\"yaxis\":{\"automargin\":true,\"gridcolor\":\"white\",\"linecolor\":\"white\",\"ticks\":\"\",\"title\":{\"standoff\":15},\"zerolinecolor\":\"white\",\"zerolinewidth\":2}}},\"xaxis\":{\"dtick\":1,\"gridwidth\":2,\"showticklabels\":false,\"tick0\":-0.5,\"ticks\":\"\",\"zeroline\":false},\"yaxis\":{\"autorange\":\"reversed\",\"dtick\":1,\"gridwidth\":2,\"showticklabels\":false,\"tick0\":0.5,\"ticks\":\"\",\"zeroline\":false}},                        {\"responsive\": true}                    ).then(function(){\n",
              "                            \n",
              "var gd = document.getElementById('9fc67887-5fff-4bca-9c44-e56c1e104190');\n",
              "var x = new MutationObserver(function (mutations, observer) {{\n",
              "        var display = window.getComputedStyle(gd).display;\n",
              "        if (!display || display === 'none') {{\n",
              "            console.log([gd, 'removed!']);\n",
              "            Plotly.purge(gd);\n",
              "            observer.disconnect();\n",
              "        }}\n",
              "}});\n",
              "\n",
              "// Listen for the removal of the full notebook cells\n",
              "var notebookContainer = gd.closest('#notebook-container');\n",
              "if (notebookContainer) {{\n",
              "    x.observe(notebookContainer, {childList: true});\n",
              "}}\n",
              "\n",
              "// Listen for the clearing of the current output cell\n",
              "var outputEl = gd.closest('.output');\n",
              "if (outputEl) {{\n",
              "    x.observe(outputEl, {childList: true});\n",
              "}}\n",
              "\n",
              "                        })                };                });            </script>        </div>"
            ]
          },
          "metadata": {}
        }
      ]
    },
    {
      "cell_type": "markdown",
      "source": [
        "### Basic Conversion Funnel"
      ],
      "metadata": {
        "id": "6E8_oTddAYd9"
      }
    },
    {
      "cell_type": "code",
      "source": [
        "# Memasukkan hasil perhitungan jumlah baris masing-masing tahap dan namanya\n",
        "values = [458481, 34669, 23106]\n",
        "phases = ['View', 'Cart', 'Purchase']\n",
        "\n",
        "# Mengatur warna untuk masing-masing tahap\n",
        "colors = ['rgb(0, 102, 204)', 'rgb(51, 153, 255)', 'rgb(0, 102, 204)']\n",
        "\n",
        "n_phase = len(phases)\n",
        "plot_width = 700\n",
        "\n",
        "# Mengatur perbedaan ukuran antar tahap\n",
        "section_h = 100\n",
        "section_d = 10\n",
        "\n",
        "# Mengatur panjang masing-masing tahap sesuai dengan nilainya\n",
        "unit_width = plot_width / max(values)\n",
        "phase_w = [int(value * unit_width) for value in values]\n",
        "\n",
        "# Mengatur lebar antar tahap sesuai dengan gap antaranya\n",
        "height = section_h * n_phase + section_d * (n_phase - 1)\n",
        "\n",
        "# Membuat list yang menyimpan ukuran masing-masing tahap\n",
        "shapes = []\n",
        "\n",
        "# Membuat list yang menyimpan nama dan nilai masing-masing tahap\n",
        "label_y = []\n",
        "\n",
        "for i in range(n_phase):\n",
        "        if (i == n_phase-1):\n",
        "                points = [phase_w[i] / 2, height, phase_w[i] / 2, height - section_h]\n",
        "        else:\n",
        "                points = [phase_w[i] / 2, height, phase_w[i+1] / 2, height - section_h]\n",
        "\n",
        "        path = 'M {0} {1} L {2} {3} L -{2} {3} L -{0} {1} Z'.format(*points)\n",
        "\n",
        "        shape = {\n",
        "                'type': 'path',\n",
        "                'path': path,\n",
        "                'fillcolor': colors[i],\n",
        "                'line': {\n",
        "                    'width': 1,\n",
        "                    'color': colors[i]\n",
        "                }\n",
        "        }\n",
        "        shapes.append(shape)\n",
        "\n",
        "        label_y.append(height - (section_h / 2))\n",
        "\n",
        "        height = height - (section_h + section_d)\n",
        "\n",
        "label_trace = go.Scatter(\n",
        "    x=[-350]*n_phase,\n",
        "    y=label_y,\n",
        "    mode='text',\n",
        "    text=phases,\n",
        "    textfont=dict(\n",
        "        color='rgb(255, 255, 255)',\n",
        "        size=15\n",
        "    )\n",
        ")\n",
        "\n",
        "value_trace = go.Scatter(\n",
        "    x=[350]*n_phase,\n",
        "    y=label_y,\n",
        "    mode='text',\n",
        "    text=values,\n",
        "    textfont=dict(\n",
        "        color='rgb(200,200,200)',\n",
        "        size=15\n",
        "    )\n",
        ")\n",
        "\n",
        "data = [label_trace, value_trace]\n",
        "\n",
        "layout = go.Layout(\n",
        "    title=\"<b>Conversion Funnel</b>\",\n",
        "    titlefont=dict(\n",
        "        size=40,\n",
        "        color='rgb(255, 255, 255)'\n",
        "    ),\n",
        "    shapes=shapes,\n",
        "    height=560,\n",
        "    width=800,\n",
        "    showlegend=False,\n",
        "    paper_bgcolor='rgba(44,58,71,1)',\n",
        "    plot_bgcolor='rgba(44,58,71,1)',\n",
        "    xaxis=dict(\n",
        "        showticklabels=False,\n",
        "        zeroline=False,\n",
        "    ),\n",
        "    yaxis=dict(\n",
        "        showticklabels=False,\n",
        "        zeroline=False\n",
        "    )\n",
        ")\n",
        "\n",
        "fig = go.Figure(data=data, layout=layout)\n",
        "fig = fig.update_layout(template='simple_white')\n",
        "iplot(fig)"
      ],
      "metadata": {
        "colab": {
          "base_uri": "https://localhost:8080/"
        },
        "id": "EN26A6ZGAVkc",
        "outputId": "65fe60ae-bcd1-4dd1-a3d8-4c2f1919411f"
      },
      "execution_count": null,
      "outputs": [
        {
          "output_type": "display_data",
          "data": {
            "application/vnd.plotly.v1+json": {
              "data": [
                {
                  "mode": "text",
                  "text": [
                    "View",
                    "Cart",
                    "Purchase"
                  ],
                  "textfont": {
                    "color": "rgb(255, 255, 255)",
                    "size": 15
                  },
                  "x": [
                    -350,
                    -350,
                    -350
                  ],
                  "y": [
                    270,
                    160,
                    50
                  ],
                  "type": "scatter"
                },
                {
                  "mode": "text",
                  "text": [
                    "458481",
                    "34669",
                    "23106"
                  ],
                  "textfont": {
                    "color": "rgb(200,200,200)",
                    "size": 15
                  },
                  "x": [
                    350,
                    350,
                    350
                  ],
                  "y": [
                    270,
                    160,
                    50
                  ],
                  "type": "scatter"
                }
              ],
              "layout": {
                "height": 560,
                "paper_bgcolor": "rgba(44,58,71,1)",
                "plot_bgcolor": "rgba(44,58,71,1)",
                "shapes": [
                  {
                    "fillcolor": "rgb(0, 102, 204)",
                    "line": {
                      "color": "rgb(0, 102, 204)",
                      "width": 1
                    },
                    "path": "M 350.0 320 L 26.0 220 L -26.0 220 L -350.0 320 Z",
                    "type": "path"
                  },
                  {
                    "fillcolor": "rgb(51, 153, 255)",
                    "line": {
                      "color": "rgb(51, 153, 255)",
                      "width": 1
                    },
                    "path": "M 26.0 210 L 17.5 110 L -17.5 110 L -26.0 210 Z",
                    "type": "path"
                  },
                  {
                    "fillcolor": "rgb(0, 102, 204)",
                    "line": {
                      "color": "rgb(0, 102, 204)",
                      "width": 1
                    },
                    "path": "M 17.5 100 L 17.5 0 L -17.5 0 L -17.5 100 Z",
                    "type": "path"
                  }
                ],
                "showlegend": false,
                "template": {
                  "data": {
                    "barpolar": [
                      {
                        "marker": {
                          "line": {
                            "color": "white",
                            "width": 0.5
                          },
                          "pattern": {
                            "fillmode": "overlay",
                            "size": 10,
                            "solidity": 0.2
                          }
                        },
                        "type": "barpolar"
                      }
                    ],
                    "bar": [
                      {
                        "error_x": {
                          "color": "rgb(36,36,36)"
                        },
                        "error_y": {
                          "color": "rgb(36,36,36)"
                        },
                        "marker": {
                          "line": {
                            "color": "white",
                            "width": 0.5
                          },
                          "pattern": {
                            "fillmode": "overlay",
                            "size": 10,
                            "solidity": 0.2
                          }
                        },
                        "type": "bar"
                      }
                    ],
                    "carpet": [
                      {
                        "aaxis": {
                          "endlinecolor": "rgb(36,36,36)",
                          "gridcolor": "white",
                          "linecolor": "white",
                          "minorgridcolor": "white",
                          "startlinecolor": "rgb(36,36,36)"
                        },
                        "baxis": {
                          "endlinecolor": "rgb(36,36,36)",
                          "gridcolor": "white",
                          "linecolor": "white",
                          "minorgridcolor": "white",
                          "startlinecolor": "rgb(36,36,36)"
                        },
                        "type": "carpet"
                      }
                    ],
                    "choropleth": [
                      {
                        "colorbar": {
                          "outlinewidth": 1,
                          "tickcolor": "rgb(36,36,36)",
                          "ticks": "outside"
                        },
                        "type": "choropleth"
                      }
                    ],
                    "contourcarpet": [
                      {
                        "colorbar": {
                          "outlinewidth": 1,
                          "tickcolor": "rgb(36,36,36)",
                          "ticks": "outside"
                        },
                        "type": "contourcarpet"
                      }
                    ],
                    "contour": [
                      {
                        "colorbar": {
                          "outlinewidth": 1,
                          "tickcolor": "rgb(36,36,36)",
                          "ticks": "outside"
                        },
                        "colorscale": [
                          [
                            0,
                            "#440154"
                          ],
                          [
                            0.1111111111111111,
                            "#482878"
                          ],
                          [
                            0.2222222222222222,
                            "#3e4989"
                          ],
                          [
                            0.3333333333333333,
                            "#31688e"
                          ],
                          [
                            0.4444444444444444,
                            "#26828e"
                          ],
                          [
                            0.5555555555555556,
                            "#1f9e89"
                          ],
                          [
                            0.6666666666666666,
                            "#35b779"
                          ],
                          [
                            0.7777777777777778,
                            "#6ece58"
                          ],
                          [
                            0.8888888888888888,
                            "#b5de2b"
                          ],
                          [
                            1,
                            "#fde725"
                          ]
                        ],
                        "type": "contour"
                      }
                    ],
                    "heatmapgl": [
                      {
                        "colorbar": {
                          "outlinewidth": 1,
                          "tickcolor": "rgb(36,36,36)",
                          "ticks": "outside"
                        },
                        "colorscale": [
                          [
                            0,
                            "#440154"
                          ],
                          [
                            0.1111111111111111,
                            "#482878"
                          ],
                          [
                            0.2222222222222222,
                            "#3e4989"
                          ],
                          [
                            0.3333333333333333,
                            "#31688e"
                          ],
                          [
                            0.4444444444444444,
                            "#26828e"
                          ],
                          [
                            0.5555555555555556,
                            "#1f9e89"
                          ],
                          [
                            0.6666666666666666,
                            "#35b779"
                          ],
                          [
                            0.7777777777777778,
                            "#6ece58"
                          ],
                          [
                            0.8888888888888888,
                            "#b5de2b"
                          ],
                          [
                            1,
                            "#fde725"
                          ]
                        ],
                        "type": "heatmapgl"
                      }
                    ],
                    "heatmap": [
                      {
                        "colorbar": {
                          "outlinewidth": 1,
                          "tickcolor": "rgb(36,36,36)",
                          "ticks": "outside"
                        },
                        "colorscale": [
                          [
                            0,
                            "#440154"
                          ],
                          [
                            0.1111111111111111,
                            "#482878"
                          ],
                          [
                            0.2222222222222222,
                            "#3e4989"
                          ],
                          [
                            0.3333333333333333,
                            "#31688e"
                          ],
                          [
                            0.4444444444444444,
                            "#26828e"
                          ],
                          [
                            0.5555555555555556,
                            "#1f9e89"
                          ],
                          [
                            0.6666666666666666,
                            "#35b779"
                          ],
                          [
                            0.7777777777777778,
                            "#6ece58"
                          ],
                          [
                            0.8888888888888888,
                            "#b5de2b"
                          ],
                          [
                            1,
                            "#fde725"
                          ]
                        ],
                        "type": "heatmap"
                      }
                    ],
                    "histogram2dcontour": [
                      {
                        "colorbar": {
                          "outlinewidth": 1,
                          "tickcolor": "rgb(36,36,36)",
                          "ticks": "outside"
                        },
                        "colorscale": [
                          [
                            0,
                            "#440154"
                          ],
                          [
                            0.1111111111111111,
                            "#482878"
                          ],
                          [
                            0.2222222222222222,
                            "#3e4989"
                          ],
                          [
                            0.3333333333333333,
                            "#31688e"
                          ],
                          [
                            0.4444444444444444,
                            "#26828e"
                          ],
                          [
                            0.5555555555555556,
                            "#1f9e89"
                          ],
                          [
                            0.6666666666666666,
                            "#35b779"
                          ],
                          [
                            0.7777777777777778,
                            "#6ece58"
                          ],
                          [
                            0.8888888888888888,
                            "#b5de2b"
                          ],
                          [
                            1,
                            "#fde725"
                          ]
                        ],
                        "type": "histogram2dcontour"
                      }
                    ],
                    "histogram2d": [
                      {
                        "colorbar": {
                          "outlinewidth": 1,
                          "tickcolor": "rgb(36,36,36)",
                          "ticks": "outside"
                        },
                        "colorscale": [
                          [
                            0,
                            "#440154"
                          ],
                          [
                            0.1111111111111111,
                            "#482878"
                          ],
                          [
                            0.2222222222222222,
                            "#3e4989"
                          ],
                          [
                            0.3333333333333333,
                            "#31688e"
                          ],
                          [
                            0.4444444444444444,
                            "#26828e"
                          ],
                          [
                            0.5555555555555556,
                            "#1f9e89"
                          ],
                          [
                            0.6666666666666666,
                            "#35b779"
                          ],
                          [
                            0.7777777777777778,
                            "#6ece58"
                          ],
                          [
                            0.8888888888888888,
                            "#b5de2b"
                          ],
                          [
                            1,
                            "#fde725"
                          ]
                        ],
                        "type": "histogram2d"
                      }
                    ],
                    "histogram": [
                      {
                        "marker": {
                          "line": {
                            "color": "white",
                            "width": 0.6
                          }
                        },
                        "type": "histogram"
                      }
                    ],
                    "mesh3d": [
                      {
                        "colorbar": {
                          "outlinewidth": 1,
                          "tickcolor": "rgb(36,36,36)",
                          "ticks": "outside"
                        },
                        "type": "mesh3d"
                      }
                    ],
                    "parcoords": [
                      {
                        "line": {
                          "colorbar": {
                            "outlinewidth": 1,
                            "tickcolor": "rgb(36,36,36)",
                            "ticks": "outside"
                          }
                        },
                        "type": "parcoords"
                      }
                    ],
                    "pie": [
                      {
                        "automargin": true,
                        "type": "pie"
                      }
                    ],
                    "scatter3d": [
                      {
                        "line": {
                          "colorbar": {
                            "outlinewidth": 1,
                            "tickcolor": "rgb(36,36,36)",
                            "ticks": "outside"
                          }
                        },
                        "marker": {
                          "colorbar": {
                            "outlinewidth": 1,
                            "tickcolor": "rgb(36,36,36)",
                            "ticks": "outside"
                          }
                        },
                        "type": "scatter3d"
                      }
                    ],
                    "scattercarpet": [
                      {
                        "marker": {
                          "colorbar": {
                            "outlinewidth": 1,
                            "tickcolor": "rgb(36,36,36)",
                            "ticks": "outside"
                          }
                        },
                        "type": "scattercarpet"
                      }
                    ],
                    "scattergeo": [
                      {
                        "marker": {
                          "colorbar": {
                            "outlinewidth": 1,
                            "tickcolor": "rgb(36,36,36)",
                            "ticks": "outside"
                          }
                        },
                        "type": "scattergeo"
                      }
                    ],
                    "scattergl": [
                      {
                        "marker": {
                          "colorbar": {
                            "outlinewidth": 1,
                            "tickcolor": "rgb(36,36,36)",
                            "ticks": "outside"
                          }
                        },
                        "type": "scattergl"
                      }
                    ],
                    "scattermapbox": [
                      {
                        "marker": {
                          "colorbar": {
                            "outlinewidth": 1,
                            "tickcolor": "rgb(36,36,36)",
                            "ticks": "outside"
                          }
                        },
                        "type": "scattermapbox"
                      }
                    ],
                    "scatterpolargl": [
                      {
                        "marker": {
                          "colorbar": {
                            "outlinewidth": 1,
                            "tickcolor": "rgb(36,36,36)",
                            "ticks": "outside"
                          }
                        },
                        "type": "scatterpolargl"
                      }
                    ],
                    "scatterpolar": [
                      {
                        "marker": {
                          "colorbar": {
                            "outlinewidth": 1,
                            "tickcolor": "rgb(36,36,36)",
                            "ticks": "outside"
                          }
                        },
                        "type": "scatterpolar"
                      }
                    ],
                    "scatter": [
                      {
                        "marker": {
                          "colorbar": {
                            "outlinewidth": 1,
                            "tickcolor": "rgb(36,36,36)",
                            "ticks": "outside"
                          }
                        },
                        "type": "scatter"
                      }
                    ],
                    "scatterternary": [
                      {
                        "marker": {
                          "colorbar": {
                            "outlinewidth": 1,
                            "tickcolor": "rgb(36,36,36)",
                            "ticks": "outside"
                          }
                        },
                        "type": "scatterternary"
                      }
                    ],
                    "surface": [
                      {
                        "colorbar": {
                          "outlinewidth": 1,
                          "tickcolor": "rgb(36,36,36)",
                          "ticks": "outside"
                        },
                        "colorscale": [
                          [
                            0,
                            "#440154"
                          ],
                          [
                            0.1111111111111111,
                            "#482878"
                          ],
                          [
                            0.2222222222222222,
                            "#3e4989"
                          ],
                          [
                            0.3333333333333333,
                            "#31688e"
                          ],
                          [
                            0.4444444444444444,
                            "#26828e"
                          ],
                          [
                            0.5555555555555556,
                            "#1f9e89"
                          ],
                          [
                            0.6666666666666666,
                            "#35b779"
                          ],
                          [
                            0.7777777777777778,
                            "#6ece58"
                          ],
                          [
                            0.8888888888888888,
                            "#b5de2b"
                          ],
                          [
                            1,
                            "#fde725"
                          ]
                        ],
                        "type": "surface"
                      }
                    ],
                    "table": [
                      {
                        "cells": {
                          "fill": {
                            "color": "rgb(237,237,237)"
                          },
                          "line": {
                            "color": "white"
                          }
                        },
                        "header": {
                          "fill": {
                            "color": "rgb(217,217,217)"
                          },
                          "line": {
                            "color": "white"
                          }
                        },
                        "type": "table"
                      }
                    ]
                  },
                  "layout": {
                    "annotationdefaults": {
                      "arrowhead": 0,
                      "arrowwidth": 1
                    },
                    "autotypenumbers": "strict",
                    "coloraxis": {
                      "colorbar": {
                        "outlinewidth": 1,
                        "tickcolor": "rgb(36,36,36)",
                        "ticks": "outside"
                      }
                    },
                    "colorscale": {
                      "diverging": [
                        [
                          0,
                          "rgb(103,0,31)"
                        ],
                        [
                          0.1,
                          "rgb(178,24,43)"
                        ],
                        [
                          0.2,
                          "rgb(214,96,77)"
                        ],
                        [
                          0.3,
                          "rgb(244,165,130)"
                        ],
                        [
                          0.4,
                          "rgb(253,219,199)"
                        ],
                        [
                          0.5,
                          "rgb(247,247,247)"
                        ],
                        [
                          0.6,
                          "rgb(209,229,240)"
                        ],
                        [
                          0.7,
                          "rgb(146,197,222)"
                        ],
                        [
                          0.8,
                          "rgb(67,147,195)"
                        ],
                        [
                          0.9,
                          "rgb(33,102,172)"
                        ],
                        [
                          1,
                          "rgb(5,48,97)"
                        ]
                      ],
                      "sequential": [
                        [
                          0,
                          "#440154"
                        ],
                        [
                          0.1111111111111111,
                          "#482878"
                        ],
                        [
                          0.2222222222222222,
                          "#3e4989"
                        ],
                        [
                          0.3333333333333333,
                          "#31688e"
                        ],
                        [
                          0.4444444444444444,
                          "#26828e"
                        ],
                        [
                          0.5555555555555556,
                          "#1f9e89"
                        ],
                        [
                          0.6666666666666666,
                          "#35b779"
                        ],
                        [
                          0.7777777777777778,
                          "#6ece58"
                        ],
                        [
                          0.8888888888888888,
                          "#b5de2b"
                        ],
                        [
                          1,
                          "#fde725"
                        ]
                      ],
                      "sequentialminus": [
                        [
                          0,
                          "#440154"
                        ],
                        [
                          0.1111111111111111,
                          "#482878"
                        ],
                        [
                          0.2222222222222222,
                          "#3e4989"
                        ],
                        [
                          0.3333333333333333,
                          "#31688e"
                        ],
                        [
                          0.4444444444444444,
                          "#26828e"
                        ],
                        [
                          0.5555555555555556,
                          "#1f9e89"
                        ],
                        [
                          0.6666666666666666,
                          "#35b779"
                        ],
                        [
                          0.7777777777777778,
                          "#6ece58"
                        ],
                        [
                          0.8888888888888888,
                          "#b5de2b"
                        ],
                        [
                          1,
                          "#fde725"
                        ]
                      ]
                    },
                    "colorway": [
                      "#1F77B4",
                      "#FF7F0E",
                      "#2CA02C",
                      "#D62728",
                      "#9467BD",
                      "#8C564B",
                      "#E377C2",
                      "#7F7F7F",
                      "#BCBD22",
                      "#17BECF"
                    ],
                    "font": {
                      "color": "rgb(36,36,36)"
                    },
                    "geo": {
                      "bgcolor": "white",
                      "lakecolor": "white",
                      "landcolor": "white",
                      "showlakes": true,
                      "showland": true,
                      "subunitcolor": "white"
                    },
                    "hoverlabel": {
                      "align": "left"
                    },
                    "hovermode": "closest",
                    "mapbox": {
                      "style": "light"
                    },
                    "paper_bgcolor": "white",
                    "plot_bgcolor": "white",
                    "polar": {
                      "angularaxis": {
                        "gridcolor": "rgb(232,232,232)",
                        "linecolor": "rgb(36,36,36)",
                        "showgrid": false,
                        "showline": true,
                        "ticks": "outside"
                      },
                      "bgcolor": "white",
                      "radialaxis": {
                        "gridcolor": "rgb(232,232,232)",
                        "linecolor": "rgb(36,36,36)",
                        "showgrid": false,
                        "showline": true,
                        "ticks": "outside"
                      }
                    },
                    "scene": {
                      "xaxis": {
                        "backgroundcolor": "white",
                        "gridcolor": "rgb(232,232,232)",
                        "gridwidth": 2,
                        "linecolor": "rgb(36,36,36)",
                        "showbackground": true,
                        "showgrid": false,
                        "showline": true,
                        "ticks": "outside",
                        "zeroline": false,
                        "zerolinecolor": "rgb(36,36,36)"
                      },
                      "yaxis": {
                        "backgroundcolor": "white",
                        "gridcolor": "rgb(232,232,232)",
                        "gridwidth": 2,
                        "linecolor": "rgb(36,36,36)",
                        "showbackground": true,
                        "showgrid": false,
                        "showline": true,
                        "ticks": "outside",
                        "zeroline": false,
                        "zerolinecolor": "rgb(36,36,36)"
                      },
                      "zaxis": {
                        "backgroundcolor": "white",
                        "gridcolor": "rgb(232,232,232)",
                        "gridwidth": 2,
                        "linecolor": "rgb(36,36,36)",
                        "showbackground": true,
                        "showgrid": false,
                        "showline": true,
                        "ticks": "outside",
                        "zeroline": false,
                        "zerolinecolor": "rgb(36,36,36)"
                      }
                    },
                    "shapedefaults": {
                      "fillcolor": "black",
                      "line": {
                        "width": 0
                      },
                      "opacity": 0.3
                    },
                    "ternary": {
                      "aaxis": {
                        "gridcolor": "rgb(232,232,232)",
                        "linecolor": "rgb(36,36,36)",
                        "showgrid": false,
                        "showline": true,
                        "ticks": "outside"
                      },
                      "baxis": {
                        "gridcolor": "rgb(232,232,232)",
                        "linecolor": "rgb(36,36,36)",
                        "showgrid": false,
                        "showline": true,
                        "ticks": "outside"
                      },
                      "bgcolor": "white",
                      "caxis": {
                        "gridcolor": "rgb(232,232,232)",
                        "linecolor": "rgb(36,36,36)",
                        "showgrid": false,
                        "showline": true,
                        "ticks": "outside"
                      }
                    },
                    "title": {
                      "x": 0.05
                    },
                    "xaxis": {
                      "automargin": true,
                      "gridcolor": "rgb(232,232,232)",
                      "linecolor": "rgb(36,36,36)",
                      "showgrid": false,
                      "showline": true,
                      "ticks": "outside",
                      "title": {
                        "standoff": 15
                      },
                      "zeroline": false,
                      "zerolinecolor": "rgb(36,36,36)"
                    },
                    "yaxis": {
                      "automargin": true,
                      "gridcolor": "rgb(232,232,232)",
                      "linecolor": "rgb(36,36,36)",
                      "showgrid": false,
                      "showline": true,
                      "ticks": "outside",
                      "title": {
                        "standoff": 15
                      },
                      "zeroline": false,
                      "zerolinecolor": "rgb(36,36,36)"
                    }
                  }
                },
                "title": {
                  "font": {
                    "color": "rgb(255, 255, 255)",
                    "size": 40
                  },
                  "text": "<b>Conversion Funnel</b>"
                },
                "width": 800,
                "xaxis": {
                  "showticklabels": false,
                  "zeroline": false
                },
                "yaxis": {
                  "showticklabels": false,
                  "zeroline": false
                }
              },
              "config": {
                "showLink": false,
                "linkText": "Export to plot.ly",
                "plotlyServerURL": "https://plot.ly"
              }
            },
            "text/html": [
              "<div>                            <div id=\"dd69fd33-159f-44ca-8592-d30338cba3b6\" class=\"plotly-graph-div\" style=\"height:560px; width:800px;\"></div>            <script type=\"text/javascript\">                require([\"plotly\"], function(Plotly) {                    window.PLOTLYENV=window.PLOTLYENV || {};                                    if (document.getElementById(\"dd69fd33-159f-44ca-8592-d30338cba3b6\")) {                    Plotly.newPlot(                        \"dd69fd33-159f-44ca-8592-d30338cba3b6\",                        [{\"mode\":\"text\",\"text\":[\"View\",\"Cart\",\"Purchase\"],\"textfont\":{\"color\":\"rgb(255, 255, 255)\",\"size\":15},\"x\":[-350,-350,-350],\"y\":[270.0,160.0,50.0],\"type\":\"scatter\"},{\"mode\":\"text\",\"text\":[\"458481\",\"34669\",\"23106\"],\"textfont\":{\"color\":\"rgb(200,200,200)\",\"size\":15},\"x\":[350,350,350],\"y\":[270.0,160.0,50.0],\"type\":\"scatter\"}],                        {\"height\":560,\"paper_bgcolor\":\"rgba(44,58,71,1)\",\"plot_bgcolor\":\"rgba(44,58,71,1)\",\"shapes\":[{\"fillcolor\":\"rgb(0, 102, 204)\",\"line\":{\"color\":\"rgb(0, 102, 204)\",\"width\":1},\"path\":\"M 350.0 320 L 26.0 220 L -26.0 220 L -350.0 320 Z\",\"type\":\"path\"},{\"fillcolor\":\"rgb(51, 153, 255)\",\"line\":{\"color\":\"rgb(51, 153, 255)\",\"width\":1},\"path\":\"M 26.0 210 L 17.5 110 L -17.5 110 L -26.0 210 Z\",\"type\":\"path\"},{\"fillcolor\":\"rgb(0, 102, 204)\",\"line\":{\"color\":\"rgb(0, 102, 204)\",\"width\":1},\"path\":\"M 17.5 100 L 17.5 0 L -17.5 0 L -17.5 100 Z\",\"type\":\"path\"}],\"showlegend\":false,\"template\":{\"data\":{\"barpolar\":[{\"marker\":{\"line\":{\"color\":\"white\",\"width\":0.5},\"pattern\":{\"fillmode\":\"overlay\",\"size\":10,\"solidity\":0.2}},\"type\":\"barpolar\"}],\"bar\":[{\"error_x\":{\"color\":\"rgb(36,36,36)\"},\"error_y\":{\"color\":\"rgb(36,36,36)\"},\"marker\":{\"line\":{\"color\":\"white\",\"width\":0.5},\"pattern\":{\"fillmode\":\"overlay\",\"size\":10,\"solidity\":0.2}},\"type\":\"bar\"}],\"carpet\":[{\"aaxis\":{\"endlinecolor\":\"rgb(36,36,36)\",\"gridcolor\":\"white\",\"linecolor\":\"white\",\"minorgridcolor\":\"white\",\"startlinecolor\":\"rgb(36,36,36)\"},\"baxis\":{\"endlinecolor\":\"rgb(36,36,36)\",\"gridcolor\":\"white\",\"linecolor\":\"white\",\"minorgridcolor\":\"white\",\"startlinecolor\":\"rgb(36,36,36)\"},\"type\":\"carpet\"}],\"choropleth\":[{\"colorbar\":{\"outlinewidth\":1,\"tickcolor\":\"rgb(36,36,36)\",\"ticks\":\"outside\"},\"type\":\"choropleth\"}],\"contourcarpet\":[{\"colorbar\":{\"outlinewidth\":1,\"tickcolor\":\"rgb(36,36,36)\",\"ticks\":\"outside\"},\"type\":\"contourcarpet\"}],\"contour\":[{\"colorbar\":{\"outlinewidth\":1,\"tickcolor\":\"rgb(36,36,36)\",\"ticks\":\"outside\"},\"colorscale\":[[0.0,\"#440154\"],[0.1111111111111111,\"#482878\"],[0.2222222222222222,\"#3e4989\"],[0.3333333333333333,\"#31688e\"],[0.4444444444444444,\"#26828e\"],[0.5555555555555556,\"#1f9e89\"],[0.6666666666666666,\"#35b779\"],[0.7777777777777778,\"#6ece58\"],[0.8888888888888888,\"#b5de2b\"],[1.0,\"#fde725\"]],\"type\":\"contour\"}],\"heatmapgl\":[{\"colorbar\":{\"outlinewidth\":1,\"tickcolor\":\"rgb(36,36,36)\",\"ticks\":\"outside\"},\"colorscale\":[[0.0,\"#440154\"],[0.1111111111111111,\"#482878\"],[0.2222222222222222,\"#3e4989\"],[0.3333333333333333,\"#31688e\"],[0.4444444444444444,\"#26828e\"],[0.5555555555555556,\"#1f9e89\"],[0.6666666666666666,\"#35b779\"],[0.7777777777777778,\"#6ece58\"],[0.8888888888888888,\"#b5de2b\"],[1.0,\"#fde725\"]],\"type\":\"heatmapgl\"}],\"heatmap\":[{\"colorbar\":{\"outlinewidth\":1,\"tickcolor\":\"rgb(36,36,36)\",\"ticks\":\"outside\"},\"colorscale\":[[0.0,\"#440154\"],[0.1111111111111111,\"#482878\"],[0.2222222222222222,\"#3e4989\"],[0.3333333333333333,\"#31688e\"],[0.4444444444444444,\"#26828e\"],[0.5555555555555556,\"#1f9e89\"],[0.6666666666666666,\"#35b779\"],[0.7777777777777778,\"#6ece58\"],[0.8888888888888888,\"#b5de2b\"],[1.0,\"#fde725\"]],\"type\":\"heatmap\"}],\"histogram2dcontour\":[{\"colorbar\":{\"outlinewidth\":1,\"tickcolor\":\"rgb(36,36,36)\",\"ticks\":\"outside\"},\"colorscale\":[[0.0,\"#440154\"],[0.1111111111111111,\"#482878\"],[0.2222222222222222,\"#3e4989\"],[0.3333333333333333,\"#31688e\"],[0.4444444444444444,\"#26828e\"],[0.5555555555555556,\"#1f9e89\"],[0.6666666666666666,\"#35b779\"],[0.7777777777777778,\"#6ece58\"],[0.8888888888888888,\"#b5de2b\"],[1.0,\"#fde725\"]],\"type\":\"histogram2dcontour\"}],\"histogram2d\":[{\"colorbar\":{\"outlinewidth\":1,\"tickcolor\":\"rgb(36,36,36)\",\"ticks\":\"outside\"},\"colorscale\":[[0.0,\"#440154\"],[0.1111111111111111,\"#482878\"],[0.2222222222222222,\"#3e4989\"],[0.3333333333333333,\"#31688e\"],[0.4444444444444444,\"#26828e\"],[0.5555555555555556,\"#1f9e89\"],[0.6666666666666666,\"#35b779\"],[0.7777777777777778,\"#6ece58\"],[0.8888888888888888,\"#b5de2b\"],[1.0,\"#fde725\"]],\"type\":\"histogram2d\"}],\"histogram\":[{\"marker\":{\"line\":{\"color\":\"white\",\"width\":0.6}},\"type\":\"histogram\"}],\"mesh3d\":[{\"colorbar\":{\"outlinewidth\":1,\"tickcolor\":\"rgb(36,36,36)\",\"ticks\":\"outside\"},\"type\":\"mesh3d\"}],\"parcoords\":[{\"line\":{\"colorbar\":{\"outlinewidth\":1,\"tickcolor\":\"rgb(36,36,36)\",\"ticks\":\"outside\"}},\"type\":\"parcoords\"}],\"pie\":[{\"automargin\":true,\"type\":\"pie\"}],\"scatter3d\":[{\"line\":{\"colorbar\":{\"outlinewidth\":1,\"tickcolor\":\"rgb(36,36,36)\",\"ticks\":\"outside\"}},\"marker\":{\"colorbar\":{\"outlinewidth\":1,\"tickcolor\":\"rgb(36,36,36)\",\"ticks\":\"outside\"}},\"type\":\"scatter3d\"}],\"scattercarpet\":[{\"marker\":{\"colorbar\":{\"outlinewidth\":1,\"tickcolor\":\"rgb(36,36,36)\",\"ticks\":\"outside\"}},\"type\":\"scattercarpet\"}],\"scattergeo\":[{\"marker\":{\"colorbar\":{\"outlinewidth\":1,\"tickcolor\":\"rgb(36,36,36)\",\"ticks\":\"outside\"}},\"type\":\"scattergeo\"}],\"scattergl\":[{\"marker\":{\"colorbar\":{\"outlinewidth\":1,\"tickcolor\":\"rgb(36,36,36)\",\"ticks\":\"outside\"}},\"type\":\"scattergl\"}],\"scattermapbox\":[{\"marker\":{\"colorbar\":{\"outlinewidth\":1,\"tickcolor\":\"rgb(36,36,36)\",\"ticks\":\"outside\"}},\"type\":\"scattermapbox\"}],\"scatterpolargl\":[{\"marker\":{\"colorbar\":{\"outlinewidth\":1,\"tickcolor\":\"rgb(36,36,36)\",\"ticks\":\"outside\"}},\"type\":\"scatterpolargl\"}],\"scatterpolar\":[{\"marker\":{\"colorbar\":{\"outlinewidth\":1,\"tickcolor\":\"rgb(36,36,36)\",\"ticks\":\"outside\"}},\"type\":\"scatterpolar\"}],\"scatter\":[{\"marker\":{\"colorbar\":{\"outlinewidth\":1,\"tickcolor\":\"rgb(36,36,36)\",\"ticks\":\"outside\"}},\"type\":\"scatter\"}],\"scatterternary\":[{\"marker\":{\"colorbar\":{\"outlinewidth\":1,\"tickcolor\":\"rgb(36,36,36)\",\"ticks\":\"outside\"}},\"type\":\"scatterternary\"}],\"surface\":[{\"colorbar\":{\"outlinewidth\":1,\"tickcolor\":\"rgb(36,36,36)\",\"ticks\":\"outside\"},\"colorscale\":[[0.0,\"#440154\"],[0.1111111111111111,\"#482878\"],[0.2222222222222222,\"#3e4989\"],[0.3333333333333333,\"#31688e\"],[0.4444444444444444,\"#26828e\"],[0.5555555555555556,\"#1f9e89\"],[0.6666666666666666,\"#35b779\"],[0.7777777777777778,\"#6ece58\"],[0.8888888888888888,\"#b5de2b\"],[1.0,\"#fde725\"]],\"type\":\"surface\"}],\"table\":[{\"cells\":{\"fill\":{\"color\":\"rgb(237,237,237)\"},\"line\":{\"color\":\"white\"}},\"header\":{\"fill\":{\"color\":\"rgb(217,217,217)\"},\"line\":{\"color\":\"white\"}},\"type\":\"table\"}]},\"layout\":{\"annotationdefaults\":{\"arrowhead\":0,\"arrowwidth\":1},\"autotypenumbers\":\"strict\",\"coloraxis\":{\"colorbar\":{\"outlinewidth\":1,\"tickcolor\":\"rgb(36,36,36)\",\"ticks\":\"outside\"}},\"colorscale\":{\"diverging\":[[0.0,\"rgb(103,0,31)\"],[0.1,\"rgb(178,24,43)\"],[0.2,\"rgb(214,96,77)\"],[0.3,\"rgb(244,165,130)\"],[0.4,\"rgb(253,219,199)\"],[0.5,\"rgb(247,247,247)\"],[0.6,\"rgb(209,229,240)\"],[0.7,\"rgb(146,197,222)\"],[0.8,\"rgb(67,147,195)\"],[0.9,\"rgb(33,102,172)\"],[1.0,\"rgb(5,48,97)\"]],\"sequential\":[[0.0,\"#440154\"],[0.1111111111111111,\"#482878\"],[0.2222222222222222,\"#3e4989\"],[0.3333333333333333,\"#31688e\"],[0.4444444444444444,\"#26828e\"],[0.5555555555555556,\"#1f9e89\"],[0.6666666666666666,\"#35b779\"],[0.7777777777777778,\"#6ece58\"],[0.8888888888888888,\"#b5de2b\"],[1.0,\"#fde725\"]],\"sequentialminus\":[[0.0,\"#440154\"],[0.1111111111111111,\"#482878\"],[0.2222222222222222,\"#3e4989\"],[0.3333333333333333,\"#31688e\"],[0.4444444444444444,\"#26828e\"],[0.5555555555555556,\"#1f9e89\"],[0.6666666666666666,\"#35b779\"],[0.7777777777777778,\"#6ece58\"],[0.8888888888888888,\"#b5de2b\"],[1.0,\"#fde725\"]]},\"colorway\":[\"#1F77B4\",\"#FF7F0E\",\"#2CA02C\",\"#D62728\",\"#9467BD\",\"#8C564B\",\"#E377C2\",\"#7F7F7F\",\"#BCBD22\",\"#17BECF\"],\"font\":{\"color\":\"rgb(36,36,36)\"},\"geo\":{\"bgcolor\":\"white\",\"lakecolor\":\"white\",\"landcolor\":\"white\",\"showlakes\":true,\"showland\":true,\"subunitcolor\":\"white\"},\"hoverlabel\":{\"align\":\"left\"},\"hovermode\":\"closest\",\"mapbox\":{\"style\":\"light\"},\"paper_bgcolor\":\"white\",\"plot_bgcolor\":\"white\",\"polar\":{\"angularaxis\":{\"gridcolor\":\"rgb(232,232,232)\",\"linecolor\":\"rgb(36,36,36)\",\"showgrid\":false,\"showline\":true,\"ticks\":\"outside\"},\"bgcolor\":\"white\",\"radialaxis\":{\"gridcolor\":\"rgb(232,232,232)\",\"linecolor\":\"rgb(36,36,36)\",\"showgrid\":false,\"showline\":true,\"ticks\":\"outside\"}},\"scene\":{\"xaxis\":{\"backgroundcolor\":\"white\",\"gridcolor\":\"rgb(232,232,232)\",\"gridwidth\":2,\"linecolor\":\"rgb(36,36,36)\",\"showbackground\":true,\"showgrid\":false,\"showline\":true,\"ticks\":\"outside\",\"zeroline\":false,\"zerolinecolor\":\"rgb(36,36,36)\"},\"yaxis\":{\"backgroundcolor\":\"white\",\"gridcolor\":\"rgb(232,232,232)\",\"gridwidth\":2,\"linecolor\":\"rgb(36,36,36)\",\"showbackground\":true,\"showgrid\":false,\"showline\":true,\"ticks\":\"outside\",\"zeroline\":false,\"zerolinecolor\":\"rgb(36,36,36)\"},\"zaxis\":{\"backgroundcolor\":\"white\",\"gridcolor\":\"rgb(232,232,232)\",\"gridwidth\":2,\"linecolor\":\"rgb(36,36,36)\",\"showbackground\":true,\"showgrid\":false,\"showline\":true,\"ticks\":\"outside\",\"zeroline\":false,\"zerolinecolor\":\"rgb(36,36,36)\"}},\"shapedefaults\":{\"fillcolor\":\"black\",\"line\":{\"width\":0},\"opacity\":0.3},\"ternary\":{\"aaxis\":{\"gridcolor\":\"rgb(232,232,232)\",\"linecolor\":\"rgb(36,36,36)\",\"showgrid\":false,\"showline\":true,\"ticks\":\"outside\"},\"baxis\":{\"gridcolor\":\"rgb(232,232,232)\",\"linecolor\":\"rgb(36,36,36)\",\"showgrid\":false,\"showline\":true,\"ticks\":\"outside\"},\"bgcolor\":\"white\",\"caxis\":{\"gridcolor\":\"rgb(232,232,232)\",\"linecolor\":\"rgb(36,36,36)\",\"showgrid\":false,\"showline\":true,\"ticks\":\"outside\"}},\"title\":{\"x\":0.05},\"xaxis\":{\"automargin\":true,\"gridcolor\":\"rgb(232,232,232)\",\"linecolor\":\"rgb(36,36,36)\",\"showgrid\":false,\"showline\":true,\"ticks\":\"outside\",\"title\":{\"standoff\":15},\"zeroline\":false,\"zerolinecolor\":\"rgb(36,36,36)\"},\"yaxis\":{\"automargin\":true,\"gridcolor\":\"rgb(232,232,232)\",\"linecolor\":\"rgb(36,36,36)\",\"showgrid\":false,\"showline\":true,\"ticks\":\"outside\",\"title\":{\"standoff\":15},\"zeroline\":false,\"zerolinecolor\":\"rgb(36,36,36)\"}}},\"title\":{\"font\":{\"color\":\"rgb(255, 255, 255)\",\"size\":40},\"text\":\"<b>Conversion Funnel</b>\"},\"width\":800,\"xaxis\":{\"showticklabels\":false,\"zeroline\":false},\"yaxis\":{\"showticklabels\":false,\"zeroline\":false}},                        {\"responsive\": true}                    ).then(function(){\n",
              "                            \n",
              "var gd = document.getElementById('dd69fd33-159f-44ca-8592-d30338cba3b6');\n",
              "var x = new MutationObserver(function (mutations, observer) {{\n",
              "        var display = window.getComputedStyle(gd).display;\n",
              "        if (!display || display === 'none') {{\n",
              "            console.log([gd, 'removed!']);\n",
              "            Plotly.purge(gd);\n",
              "            observer.disconnect();\n",
              "        }}\n",
              "}});\n",
              "\n",
              "// Listen for the removal of the full notebook cells\n",
              "var notebookContainer = gd.closest('#notebook-container');\n",
              "if (notebookContainer) {{\n",
              "    x.observe(notebookContainer, {childList: true});\n",
              "}}\n",
              "\n",
              "// Listen for the clearing of the current output cell\n",
              "var outputEl = gd.closest('.output');\n",
              "if (outputEl) {{\n",
              "    x.observe(outputEl, {childList: true});\n",
              "}}\n",
              "\n",
              "                        })                };                });            </script>        </div>"
            ]
          },
          "metadata": {}
        }
      ]
    },
    {
      "cell_type": "markdown",
      "source": [
        "### Kesimpulan"
      ],
      "metadata": {
        "id": "4JRKEtyJLu-I"
      }
    },
    {
      "cell_type": "code",
      "source": [
        "print(f' - Proporsi View =', round(df_funnel[df_funnel['event_type'] == 'view'].shape[0]*100\n",
        "      / df_funnel[df_funnel['event_type'] == 'view'].shape[0], 2), '%')\n",
        "print(f' - Proporsi Cart =', round(df_funnel[df_funnel['event_type'] == 'cart'].shape[0]*100\n",
        "      / df_funnel[df_funnel['event_type'] == 'view'].shape[0], 2), '%')\n",
        "print(f' - Proporsi Purchase =', round(df_funnel[df_funnel['event_type'] == 'purchase'].shape[0]*100\n",
        "      / df_funnel[df_funnel['event_type'] == 'view'].shape[0], 2), '%')"
      ],
      "metadata": {
        "colab": {
          "base_uri": "https://localhost:8080/"
        },
        "id": "B9_fGTuuAVm0",
        "outputId": "9bb1822c-78a8-477c-ebce-b344ee93ac1d"
      },
      "execution_count": null,
      "outputs": [
        {
          "output_type": "stream",
          "name": "stdout",
          "text": [
            " - Proporsi View = 100.0 %\n",
            " - Proporsi Cart = 7.56 %\n",
            " - Proporsi Purchase = 5.04 %\n"
          ]
        }
      ]
    },
    {
      "cell_type": "markdown",
      "source": [
        "Dari hasil perhitungan sebelumnya, dapat diketahui:\n",
        "\n",
        "1. Proporsi view sebesar 100%\n",
        "2. Proporsi cart sebesar 7,56%\n",
        "3. Proporsi purchase sebesar 5,04%\n",
        "\n",
        "Sehingga dapat disimpulkan:\n",
        "\n",
        "1. Terjadi drop yang sangat signifikan pada jumlah customers dari tahap view ke tahap cart sebesar 92,44%\n",
        "2. Terjadi drop yang relatif lebih kecil pada jumlah customers dari tahap cart ke tahap purchase sebesar 2,52%\n",
        "3. Perlu dilakukan penelitian untuk mengetahui faktor penyebab drop dari tahap view ke tahap cart dan berupaya untuk mengurangi drop yang terjadi"
      ],
      "metadata": {
        "id": "8-_i4YYANHeA"
      }
    },
    {
      "cell_type": "markdown",
      "source": [
        "## Cohort Analysis"
      ],
      "metadata": {
        "id": "mNKD8QymgHHP"
      }
    },
    {
      "cell_type": "markdown",
      "source": [
        "### Data Inspection"
      ],
      "metadata": {
        "id": "tZoKWff7hMIP"
      }
    },
    {
      "cell_type": "code",
      "source": [
        "# Mengimport data\n",
        "df_cohort = pd.read_csv('purchase.csv')"
      ],
      "metadata": {
        "id": "beaFO_5lfFNm"
      },
      "execution_count": null,
      "outputs": []
    },
    {
      "cell_type": "code",
      "source": [
        "# Mengetahui jenis dan jumlah data menggunakan metode info() dan describe()\n",
        "df_cohort.info()\n",
        "df_cohort.describe()"
      ],
      "metadata": {
        "id": "ahicq7xCfFP-",
        "colab": {
          "base_uri": "https://localhost:8080/",
          "height": 560
        },
        "outputId": "07d988c7-8463-4afe-8efe-ee2a882e5db0"
      },
      "execution_count": null,
      "outputs": [
        {
          "output_type": "stream",
          "name": "stdout",
          "text": [
            "<class 'pandas.core.frame.DataFrame'>\n",
            "RangeIndex: 2633521 entries, 0 to 2633520\n",
            "Data columns (total 8 columns):\n",
            " #   Column         Dtype  \n",
            "---  ------         -----  \n",
            " 0   event_time     object \n",
            " 1   order_id       int64  \n",
            " 2   product_id     int64  \n",
            " 3   category_id    float64\n",
            " 4   category_code  object \n",
            " 5   brand          object \n",
            " 6   price          float64\n",
            " 7   user_id        float64\n",
            "dtypes: float64(3), int64(2), object(3)\n",
            "memory usage: 160.7+ MB\n"
          ]
        },
        {
          "output_type": "execute_result",
          "data": {
            "text/plain": [
              "           order_id    product_id   category_id         price       user_id\n",
              "count  2.633521e+06  2.633521e+06  2.201567e+06  2.201567e+06  5.641690e+05\n",
              "mean   2.361783e+18  1.674080e+18  2.273827e+18  1.540932e+02  1.515916e+18\n",
              "std    1.716538e+16  3.102249e+17  2.353247e+16  2.419421e+02  2.377083e+07\n",
              "min    2.294360e+18  1.515966e+18  2.268105e+18  0.000000e+00  1.515916e+18\n",
              "25%    2.348807e+18  1.515966e+18  2.268105e+18  1.456000e+01  1.515916e+18\n",
              "50%    2.353254e+18  1.515966e+18  2.268105e+18  5.553000e+01  1.515916e+18\n",
              "75%    2.383131e+18  1.515966e+18  2.268105e+18  1.967400e+02  1.515916e+18\n",
              "max    2.388441e+18  2.388434e+18  2.374499e+18  5.092590e+04  1.515916e+18"
            ],
            "text/html": [
              "\n",
              "  <div id=\"df-bdef009f-5015-4a57-8ebd-d3032293c830\">\n",
              "    <div class=\"colab-df-container\">\n",
              "      <div>\n",
              "<style scoped>\n",
              "    .dataframe tbody tr th:only-of-type {\n",
              "        vertical-align: middle;\n",
              "    }\n",
              "\n",
              "    .dataframe tbody tr th {\n",
              "        vertical-align: top;\n",
              "    }\n",
              "\n",
              "    .dataframe thead th {\n",
              "        text-align: right;\n",
              "    }\n",
              "</style>\n",
              "<table border=\"1\" class=\"dataframe\">\n",
              "  <thead>\n",
              "    <tr style=\"text-align: right;\">\n",
              "      <th></th>\n",
              "      <th>order_id</th>\n",
              "      <th>product_id</th>\n",
              "      <th>category_id</th>\n",
              "      <th>price</th>\n",
              "      <th>user_id</th>\n",
              "    </tr>\n",
              "  </thead>\n",
              "  <tbody>\n",
              "    <tr>\n",
              "      <th>count</th>\n",
              "      <td>2.633521e+06</td>\n",
              "      <td>2.633521e+06</td>\n",
              "      <td>2.201567e+06</td>\n",
              "      <td>2.201567e+06</td>\n",
              "      <td>5.641690e+05</td>\n",
              "    </tr>\n",
              "    <tr>\n",
              "      <th>mean</th>\n",
              "      <td>2.361783e+18</td>\n",
              "      <td>1.674080e+18</td>\n",
              "      <td>2.273827e+18</td>\n",
              "      <td>1.540932e+02</td>\n",
              "      <td>1.515916e+18</td>\n",
              "    </tr>\n",
              "    <tr>\n",
              "      <th>std</th>\n",
              "      <td>1.716538e+16</td>\n",
              "      <td>3.102249e+17</td>\n",
              "      <td>2.353247e+16</td>\n",
              "      <td>2.419421e+02</td>\n",
              "      <td>2.377083e+07</td>\n",
              "    </tr>\n",
              "    <tr>\n",
              "      <th>min</th>\n",
              "      <td>2.294360e+18</td>\n",
              "      <td>1.515966e+18</td>\n",
              "      <td>2.268105e+18</td>\n",
              "      <td>0.000000e+00</td>\n",
              "      <td>1.515916e+18</td>\n",
              "    </tr>\n",
              "    <tr>\n",
              "      <th>25%</th>\n",
              "      <td>2.348807e+18</td>\n",
              "      <td>1.515966e+18</td>\n",
              "      <td>2.268105e+18</td>\n",
              "      <td>1.456000e+01</td>\n",
              "      <td>1.515916e+18</td>\n",
              "    </tr>\n",
              "    <tr>\n",
              "      <th>50%</th>\n",
              "      <td>2.353254e+18</td>\n",
              "      <td>1.515966e+18</td>\n",
              "      <td>2.268105e+18</td>\n",
              "      <td>5.553000e+01</td>\n",
              "      <td>1.515916e+18</td>\n",
              "    </tr>\n",
              "    <tr>\n",
              "      <th>75%</th>\n",
              "      <td>2.383131e+18</td>\n",
              "      <td>1.515966e+18</td>\n",
              "      <td>2.268105e+18</td>\n",
              "      <td>1.967400e+02</td>\n",
              "      <td>1.515916e+18</td>\n",
              "    </tr>\n",
              "    <tr>\n",
              "      <th>max</th>\n",
              "      <td>2.388441e+18</td>\n",
              "      <td>2.388434e+18</td>\n",
              "      <td>2.374499e+18</td>\n",
              "      <td>5.092590e+04</td>\n",
              "      <td>1.515916e+18</td>\n",
              "    </tr>\n",
              "  </tbody>\n",
              "</table>\n",
              "</div>\n",
              "      <button class=\"colab-df-convert\" onclick=\"convertToInteractive('df-bdef009f-5015-4a57-8ebd-d3032293c830')\"\n",
              "              title=\"Convert this dataframe to an interactive table.\"\n",
              "              style=\"display:none;\">\n",
              "        \n",
              "  <svg xmlns=\"http://www.w3.org/2000/svg\" height=\"24px\"viewBox=\"0 0 24 24\"\n",
              "       width=\"24px\">\n",
              "    <path d=\"M0 0h24v24H0V0z\" fill=\"none\"/>\n",
              "    <path d=\"M18.56 5.44l.94 2.06.94-2.06 2.06-.94-2.06-.94-.94-2.06-.94 2.06-2.06.94zm-11 1L8.5 8.5l.94-2.06 2.06-.94-2.06-.94L8.5 2.5l-.94 2.06-2.06.94zm10 10l.94 2.06.94-2.06 2.06-.94-2.06-.94-.94-2.06-.94 2.06-2.06.94z\"/><path d=\"M17.41 7.96l-1.37-1.37c-.4-.4-.92-.59-1.43-.59-.52 0-1.04.2-1.43.59L10.3 9.45l-7.72 7.72c-.78.78-.78 2.05 0 2.83L4 21.41c.39.39.9.59 1.41.59.51 0 1.02-.2 1.41-.59l7.78-7.78 2.81-2.81c.8-.78.8-2.07 0-2.86zM5.41 20L4 18.59l7.72-7.72 1.47 1.35L5.41 20z\"/>\n",
              "  </svg>\n",
              "      </button>\n",
              "      \n",
              "  <style>\n",
              "    .colab-df-container {\n",
              "      display:flex;\n",
              "      flex-wrap:wrap;\n",
              "      gap: 12px;\n",
              "    }\n",
              "\n",
              "    .colab-df-convert {\n",
              "      background-color: #E8F0FE;\n",
              "      border: none;\n",
              "      border-radius: 50%;\n",
              "      cursor: pointer;\n",
              "      display: none;\n",
              "      fill: #1967D2;\n",
              "      height: 32px;\n",
              "      padding: 0 0 0 0;\n",
              "      width: 32px;\n",
              "    }\n",
              "\n",
              "    .colab-df-convert:hover {\n",
              "      background-color: #E2EBFA;\n",
              "      box-shadow: 0px 1px 2px rgba(60, 64, 67, 0.3), 0px 1px 3px 1px rgba(60, 64, 67, 0.15);\n",
              "      fill: #174EA6;\n",
              "    }\n",
              "\n",
              "    [theme=dark] .colab-df-convert {\n",
              "      background-color: #3B4455;\n",
              "      fill: #D2E3FC;\n",
              "    }\n",
              "\n",
              "    [theme=dark] .colab-df-convert:hover {\n",
              "      background-color: #434B5C;\n",
              "      box-shadow: 0px 1px 3px 1px rgba(0, 0, 0, 0.15);\n",
              "      filter: drop-shadow(0px 1px 2px rgba(0, 0, 0, 0.3));\n",
              "      fill: #FFFFFF;\n",
              "    }\n",
              "  </style>\n",
              "\n",
              "      <script>\n",
              "        const buttonEl =\n",
              "          document.querySelector('#df-bdef009f-5015-4a57-8ebd-d3032293c830 button.colab-df-convert');\n",
              "        buttonEl.style.display =\n",
              "          google.colab.kernel.accessAllowed ? 'block' : 'none';\n",
              "\n",
              "        async function convertToInteractive(key) {\n",
              "          const element = document.querySelector('#df-bdef009f-5015-4a57-8ebd-d3032293c830');\n",
              "          const dataTable =\n",
              "            await google.colab.kernel.invokeFunction('convertToInteractive',\n",
              "                                                     [key], {});\n",
              "          if (!dataTable) return;\n",
              "\n",
              "          const docLinkHtml = 'Like what you see? Visit the ' +\n",
              "            '<a target=\"_blank\" href=https://colab.research.google.com/notebooks/data_table.ipynb>data table notebook</a>'\n",
              "            + ' to learn more about interactive tables.';\n",
              "          element.innerHTML = '';\n",
              "          dataTable['output_type'] = 'display_data';\n",
              "          await google.colab.output.renderOutput(dataTable, element);\n",
              "          const docLink = document.createElement('div');\n",
              "          docLink.innerHTML = docLinkHtml;\n",
              "          element.appendChild(docLink);\n",
              "        }\n",
              "      </script>\n",
              "    </div>\n",
              "  </div>\n",
              "  "
            ]
          },
          "metadata": {},
          "execution_count": 342
        }
      ]
    },
    {
      "cell_type": "code",
      "source": [
        "# Menghitung jumlah baris yang mengandung missing values\n",
        "df_cohort.isnull().sum()"
      ],
      "metadata": {
        "colab": {
          "base_uri": "https://localhost:8080/"
        },
        "id": "aUUeZYMtOnaB",
        "outputId": "f6f8bfe0-544d-4226-f9b9-28e994c2a759"
      },
      "execution_count": null,
      "outputs": [
        {
          "output_type": "execute_result",
          "data": {
            "text/plain": [
              "event_time             0\n",
              "order_id               0\n",
              "product_id             0\n",
              "category_id       431954\n",
              "category_code     612202\n",
              "brand             506005\n",
              "price             431954\n",
              "user_id          2069352\n",
              "dtype: int64"
            ]
          },
          "metadata": {},
          "execution_count": 343
        }
      ]
    },
    {
      "cell_type": "code",
      "source": [
        "# Melihat contoh sampel data secara acak\n",
        "df_cohort.sample(10)"
      ],
      "metadata": {
        "id": "kCY3FUJwfFSG",
        "colab": {
          "base_uri": "https://localhost:8080/",
          "height": 407
        },
        "outputId": "a2f2e990-64a8-4ebf-a919-3558c5ad6136"
      },
      "execution_count": null,
      "outputs": [
        {
          "output_type": "execute_result",
          "data": {
            "text/plain": [
              "                      event_time             order_id           product_id  \\\n",
              "633769   2020-02-29 09:51:21 UTC  2348805366109700171  1515966223509106054   \n",
              "783138   2020-03-09 06:34:30 UTC  2348816941507937190  2273948218662322995   \n",
              "1520044  2020-06-23 12:20:02 UTC  2353275543551476305  1515966223509090205   \n",
              "420040   2020-02-08 04:57:48 UTC  2348790489567723868  1515966223523303301   \n",
              "54002    1970-01-01 00:33:40 UTC  2348532975492137710  1515966223523303329   \n",
              "1466587  2020-06-19 12:21:07 UTC  2353269843198739194  2273948316532212463   \n",
              "1481476  2020-06-20 05:14:35 UTC  2353270872405442926  1515966223523303308   \n",
              "920840   2020-03-25 05:06:15 UTC  2348826603598906328  2273948297037087396   \n",
              "1260432  2020-06-05 04:47:22 UTC  2353247819378197457  1515966223527092084   \n",
              "863610   2020-03-18 13:18:26 UTC  2348822248946663751  1515966223523303302   \n",
              "\n",
              "          category_id                     category_code     brand   price  \\\n",
              "633769   2.268105e+18  appliances.kitchen.refrigerators       ava  289.33   \n",
              "783138   2.268106e+18                               NaN     grohe  184.72   \n",
              "1520044  2.268105e+18         appliances.kitchen.kettle     vitek   20.81   \n",
              "420040            NaN                             16.18       NaN     NaN   \n",
              "54002             NaN                              0.35       NaN     NaN   \n",
              "1466587  2.268105e+18            electronics.smartphone    huawei  254.61   \n",
              "1481476           NaN                             29.63       NaN     NaN   \n",
              "920840   2.268106e+18                               NaN  goodride   48.82   \n",
              "1260432           NaN                              3.47       NaN     NaN   \n",
              "863610            NaN                             57.87       NaN     NaN   \n",
              "\n",
              "              user_id  \n",
              "633769            NaN  \n",
              "783138   1.515916e+18  \n",
              "1520044           NaN  \n",
              "420040            NaN  \n",
              "54002             NaN  \n",
              "1466587           NaN  \n",
              "1481476           NaN  \n",
              "920840            NaN  \n",
              "1260432           NaN  \n",
              "863610            NaN  "
            ],
            "text/html": [
              "\n",
              "  <div id=\"df-67893145-162f-4c4e-8476-1b373935d1de\">\n",
              "    <div class=\"colab-df-container\">\n",
              "      <div>\n",
              "<style scoped>\n",
              "    .dataframe tbody tr th:only-of-type {\n",
              "        vertical-align: middle;\n",
              "    }\n",
              "\n",
              "    .dataframe tbody tr th {\n",
              "        vertical-align: top;\n",
              "    }\n",
              "\n",
              "    .dataframe thead th {\n",
              "        text-align: right;\n",
              "    }\n",
              "</style>\n",
              "<table border=\"1\" class=\"dataframe\">\n",
              "  <thead>\n",
              "    <tr style=\"text-align: right;\">\n",
              "      <th></th>\n",
              "      <th>event_time</th>\n",
              "      <th>order_id</th>\n",
              "      <th>product_id</th>\n",
              "      <th>category_id</th>\n",
              "      <th>category_code</th>\n",
              "      <th>brand</th>\n",
              "      <th>price</th>\n",
              "      <th>user_id</th>\n",
              "    </tr>\n",
              "  </thead>\n",
              "  <tbody>\n",
              "    <tr>\n",
              "      <th>633769</th>\n",
              "      <td>2020-02-29 09:51:21 UTC</td>\n",
              "      <td>2348805366109700171</td>\n",
              "      <td>1515966223509106054</td>\n",
              "      <td>2.268105e+18</td>\n",
              "      <td>appliances.kitchen.refrigerators</td>\n",
              "      <td>ava</td>\n",
              "      <td>289.33</td>\n",
              "      <td>NaN</td>\n",
              "    </tr>\n",
              "    <tr>\n",
              "      <th>783138</th>\n",
              "      <td>2020-03-09 06:34:30 UTC</td>\n",
              "      <td>2348816941507937190</td>\n",
              "      <td>2273948218662322995</td>\n",
              "      <td>2.268106e+18</td>\n",
              "      <td>NaN</td>\n",
              "      <td>grohe</td>\n",
              "      <td>184.72</td>\n",
              "      <td>1.515916e+18</td>\n",
              "    </tr>\n",
              "    <tr>\n",
              "      <th>1520044</th>\n",
              "      <td>2020-06-23 12:20:02 UTC</td>\n",
              "      <td>2353275543551476305</td>\n",
              "      <td>1515966223509090205</td>\n",
              "      <td>2.268105e+18</td>\n",
              "      <td>appliances.kitchen.kettle</td>\n",
              "      <td>vitek</td>\n",
              "      <td>20.81</td>\n",
              "      <td>NaN</td>\n",
              "    </tr>\n",
              "    <tr>\n",
              "      <th>420040</th>\n",
              "      <td>2020-02-08 04:57:48 UTC</td>\n",
              "      <td>2348790489567723868</td>\n",
              "      <td>1515966223523303301</td>\n",
              "      <td>NaN</td>\n",
              "      <td>16.18</td>\n",
              "      <td>NaN</td>\n",
              "      <td>NaN</td>\n",
              "      <td>NaN</td>\n",
              "    </tr>\n",
              "    <tr>\n",
              "      <th>54002</th>\n",
              "      <td>1970-01-01 00:33:40 UTC</td>\n",
              "      <td>2348532975492137710</td>\n",
              "      <td>1515966223523303329</td>\n",
              "      <td>NaN</td>\n",
              "      <td>0.35</td>\n",
              "      <td>NaN</td>\n",
              "      <td>NaN</td>\n",
              "      <td>NaN</td>\n",
              "    </tr>\n",
              "    <tr>\n",
              "      <th>1466587</th>\n",
              "      <td>2020-06-19 12:21:07 UTC</td>\n",
              "      <td>2353269843198739194</td>\n",
              "      <td>2273948316532212463</td>\n",
              "      <td>2.268105e+18</td>\n",
              "      <td>electronics.smartphone</td>\n",
              "      <td>huawei</td>\n",
              "      <td>254.61</td>\n",
              "      <td>NaN</td>\n",
              "    </tr>\n",
              "    <tr>\n",
              "      <th>1481476</th>\n",
              "      <td>2020-06-20 05:14:35 UTC</td>\n",
              "      <td>2353270872405442926</td>\n",
              "      <td>1515966223523303308</td>\n",
              "      <td>NaN</td>\n",
              "      <td>29.63</td>\n",
              "      <td>NaN</td>\n",
              "      <td>NaN</td>\n",
              "      <td>NaN</td>\n",
              "    </tr>\n",
              "    <tr>\n",
              "      <th>920840</th>\n",
              "      <td>2020-03-25 05:06:15 UTC</td>\n",
              "      <td>2348826603598906328</td>\n",
              "      <td>2273948297037087396</td>\n",
              "      <td>2.268106e+18</td>\n",
              "      <td>NaN</td>\n",
              "      <td>goodride</td>\n",
              "      <td>48.82</td>\n",
              "      <td>NaN</td>\n",
              "    </tr>\n",
              "    <tr>\n",
              "      <th>1260432</th>\n",
              "      <td>2020-06-05 04:47:22 UTC</td>\n",
              "      <td>2353247819378197457</td>\n",
              "      <td>1515966223527092084</td>\n",
              "      <td>NaN</td>\n",
              "      <td>3.47</td>\n",
              "      <td>NaN</td>\n",
              "      <td>NaN</td>\n",
              "      <td>NaN</td>\n",
              "    </tr>\n",
              "    <tr>\n",
              "      <th>863610</th>\n",
              "      <td>2020-03-18 13:18:26 UTC</td>\n",
              "      <td>2348822248946663751</td>\n",
              "      <td>1515966223523303302</td>\n",
              "      <td>NaN</td>\n",
              "      <td>57.87</td>\n",
              "      <td>NaN</td>\n",
              "      <td>NaN</td>\n",
              "      <td>NaN</td>\n",
              "    </tr>\n",
              "  </tbody>\n",
              "</table>\n",
              "</div>\n",
              "      <button class=\"colab-df-convert\" onclick=\"convertToInteractive('df-67893145-162f-4c4e-8476-1b373935d1de')\"\n",
              "              title=\"Convert this dataframe to an interactive table.\"\n",
              "              style=\"display:none;\">\n",
              "        \n",
              "  <svg xmlns=\"http://www.w3.org/2000/svg\" height=\"24px\"viewBox=\"0 0 24 24\"\n",
              "       width=\"24px\">\n",
              "    <path d=\"M0 0h24v24H0V0z\" fill=\"none\"/>\n",
              "    <path d=\"M18.56 5.44l.94 2.06.94-2.06 2.06-.94-2.06-.94-.94-2.06-.94 2.06-2.06.94zm-11 1L8.5 8.5l.94-2.06 2.06-.94-2.06-.94L8.5 2.5l-.94 2.06-2.06.94zm10 10l.94 2.06.94-2.06 2.06-.94-2.06-.94-.94-2.06-.94 2.06-2.06.94z\"/><path d=\"M17.41 7.96l-1.37-1.37c-.4-.4-.92-.59-1.43-.59-.52 0-1.04.2-1.43.59L10.3 9.45l-7.72 7.72c-.78.78-.78 2.05 0 2.83L4 21.41c.39.39.9.59 1.41.59.51 0 1.02-.2 1.41-.59l7.78-7.78 2.81-2.81c.8-.78.8-2.07 0-2.86zM5.41 20L4 18.59l7.72-7.72 1.47 1.35L5.41 20z\"/>\n",
              "  </svg>\n",
              "      </button>\n",
              "      \n",
              "  <style>\n",
              "    .colab-df-container {\n",
              "      display:flex;\n",
              "      flex-wrap:wrap;\n",
              "      gap: 12px;\n",
              "    }\n",
              "\n",
              "    .colab-df-convert {\n",
              "      background-color: #E8F0FE;\n",
              "      border: none;\n",
              "      border-radius: 50%;\n",
              "      cursor: pointer;\n",
              "      display: none;\n",
              "      fill: #1967D2;\n",
              "      height: 32px;\n",
              "      padding: 0 0 0 0;\n",
              "      width: 32px;\n",
              "    }\n",
              "\n",
              "    .colab-df-convert:hover {\n",
              "      background-color: #E2EBFA;\n",
              "      box-shadow: 0px 1px 2px rgba(60, 64, 67, 0.3), 0px 1px 3px 1px rgba(60, 64, 67, 0.15);\n",
              "      fill: #174EA6;\n",
              "    }\n",
              "\n",
              "    [theme=dark] .colab-df-convert {\n",
              "      background-color: #3B4455;\n",
              "      fill: #D2E3FC;\n",
              "    }\n",
              "\n",
              "    [theme=dark] .colab-df-convert:hover {\n",
              "      background-color: #434B5C;\n",
              "      box-shadow: 0px 1px 3px 1px rgba(0, 0, 0, 0.15);\n",
              "      filter: drop-shadow(0px 1px 2px rgba(0, 0, 0, 0.3));\n",
              "      fill: #FFFFFF;\n",
              "    }\n",
              "  </style>\n",
              "\n",
              "      <script>\n",
              "        const buttonEl =\n",
              "          document.querySelector('#df-67893145-162f-4c4e-8476-1b373935d1de button.colab-df-convert');\n",
              "        buttonEl.style.display =\n",
              "          google.colab.kernel.accessAllowed ? 'block' : 'none';\n",
              "\n",
              "        async function convertToInteractive(key) {\n",
              "          const element = document.querySelector('#df-67893145-162f-4c4e-8476-1b373935d1de');\n",
              "          const dataTable =\n",
              "            await google.colab.kernel.invokeFunction('convertToInteractive',\n",
              "                                                     [key], {});\n",
              "          if (!dataTable) return;\n",
              "\n",
              "          const docLinkHtml = 'Like what you see? Visit the ' +\n",
              "            '<a target=\"_blank\" href=https://colab.research.google.com/notebooks/data_table.ipynb>data table notebook</a>'\n",
              "            + ' to learn more about interactive tables.';\n",
              "          element.innerHTML = '';\n",
              "          dataTable['output_type'] = 'display_data';\n",
              "          await google.colab.output.renderOutput(dataTable, element);\n",
              "          const docLink = document.createElement('div');\n",
              "          docLink.innerHTML = docLinkHtml;\n",
              "          element.appendChild(docLink);\n",
              "        }\n",
              "      </script>\n",
              "    </div>\n",
              "  </div>\n",
              "  "
            ]
          },
          "metadata": {},
          "execution_count": 344
        }
      ]
    },
    {
      "cell_type": "markdown",
      "source": [
        "Dari data df_marketing yang ditampilkan diketahui:\n",
        "\n",
        "1. Data terdiri atas 8 kolom dan 2.633521e+06 baris\n",
        "2. Data numerical:\n",
        "\n",
        " - event_time (Seharusnya termasuk data numerical)\n",
        " - order_id\n",
        " - product_id\n",
        " - category_id\n",
        " - price\n",
        " - user_id\n",
        "\n",
        "3. Data categorical\n",
        "\n",
        " - category_code\n",
        " - brand\n",
        "\n",
        "4. Data kolom category_id, category_code, brand, price dan user_id memiliki missing values\n",
        "\n",
        "5. Data kolom event_time terbaca oleh sistem sebagai object sehingga perlu diperbaiki\n",
        "\n",
        "6. Data kolom price memiliki nilai minimal 0, artinya data normal\n",
        "\n",
        "7. Data kolom order_id, product_id, category_id, dan user_id memiliki nilai minimal positif, artinya data normal"
      ],
      "metadata": {
        "id": "KcPgdLSRi9aQ"
      }
    },
    {
      "cell_type": "markdown",
      "source": [
        "### Data Preparation"
      ],
      "metadata": {
        "id": "kZxRW8r6hP4H"
      }
    },
    {
      "cell_type": "markdown",
      "source": [
        "Setelah melakukan Data Inspection, maka dilakukan data preparation berupa:\n",
        "\n",
        "1. Karena terdapat data missing values, yaitu data kolom order_id, product_id, category_id, dan user_id, maka perlu dilaporkan kepada user / pihak ketiga yang bertanggungjawab terhadap data tsb. sehingga hal tsb dapat diperbaiki dan kedepannya dapat dihindari. Jika kemudian mendapatkan instruksi penanganan terhadap data ybh, maka baru dilakukan tindak lebih lanjut. **Dalam kasus ini, baris yang mengandung missing values akan dihapus**.\n",
        "\n",
        "2. Mengubah data kolom event_time sehingga dapat terbaca sebagai data numerical"
      ],
      "metadata": {
        "id": "XPb-GlFCQGQ5"
      }
    },
    {
      "cell_type": "code",
      "source": [
        "# Meng-copy data untuk menghindari edit pada data primer langsung\n",
        "df_cohort_copy = df_cohort.copy()"
      ],
      "metadata": {
        "id": "Py2flR5TSFVx"
      },
      "execution_count": null,
      "outputs": []
    },
    {
      "cell_type": "code",
      "source": [
        "# Menampilkan jumlah baris missing values sebelum diperbaiki\n",
        "df_cohort_copy.isnull().sum()"
      ],
      "metadata": {
        "id": "4kk8w8iGhSlX",
        "colab": {
          "base_uri": "https://localhost:8080/"
        },
        "outputId": "d1f92f8d-02a7-4f0a-a289-7077a90b8a14"
      },
      "execution_count": null,
      "outputs": [
        {
          "output_type": "execute_result",
          "data": {
            "text/plain": [
              "event_time             0\n",
              "order_id               0\n",
              "product_id             0\n",
              "category_id       431954\n",
              "category_code     612202\n",
              "brand             506005\n",
              "price             431954\n",
              "user_id          2069352\n",
              "dtype: int64"
            ]
          },
          "metadata": {},
          "execution_count": 346
        }
      ]
    },
    {
      "cell_type": "code",
      "source": [
        "# Men-drop baris yang memiliki missing value pada data kolom category_id\n",
        "df_cohort_copy = df_cohort_copy.dropna(subset=['category_id'])\n",
        "\n",
        "# Men-drop baris yang memiliki missing value pada data kolom category_code\n",
        "df_cohort_copy = df_cohort_copy.dropna(subset=['category_code'])\n",
        "\n",
        "# Men-drop baris yang memiliki missing value pada data kolom brand\n",
        "df_cohort_copy = df_cohort_copy.dropna(subset=['brand'])\n",
        "\n",
        "# Men-drop baris yang memiliki missing value pada data kolom price\n",
        "df_cohort_copy = df_cohort_copy.dropna(subset=['price'])\n",
        "\n",
        "# Men-drop baris yang memiliki missing value pada data user_id\n",
        "df_cohort_copy = df_cohort_copy.dropna(subset=['user_id'])"
      ],
      "metadata": {
        "id": "sHVmr5CnhSq3"
      },
      "execution_count": null,
      "outputs": []
    },
    {
      "cell_type": "code",
      "source": [
        "# Menampilkan jumlah baris missing values setelah diperbaiki\n",
        "df_cohort_copy.isnull().sum()"
      ],
      "metadata": {
        "id": "O847w2mGhStp",
        "colab": {
          "base_uri": "https://localhost:8080/"
        },
        "outputId": "0a1051cc-bc22-425f-8f35-9bda3a2292e7"
      },
      "execution_count": null,
      "outputs": [
        {
          "output_type": "execute_result",
          "data": {
            "text/plain": [
              "event_time       0\n",
              "order_id         0\n",
              "product_id       0\n",
              "category_id      0\n",
              "category_code    0\n",
              "brand            0\n",
              "price            0\n",
              "user_id          0\n",
              "dtype: int64"
            ]
          },
          "metadata": {},
          "execution_count": 348
        }
      ]
    },
    {
      "cell_type": "code",
      "source": [
        "# Menampilkan informasi data df_cohort sebelum diperbaiki data kolom event_time\n",
        "df_cohort.info()"
      ],
      "metadata": {
        "colab": {
          "base_uri": "https://localhost:8080/"
        },
        "id": "5kTtvTvFS87i",
        "outputId": "40f2cfe6-105b-4cc1-8d03-68009a77b091"
      },
      "execution_count": null,
      "outputs": [
        {
          "output_type": "stream",
          "name": "stdout",
          "text": [
            "<class 'pandas.core.frame.DataFrame'>\n",
            "RangeIndex: 2633521 entries, 0 to 2633520\n",
            "Data columns (total 8 columns):\n",
            " #   Column         Dtype  \n",
            "---  ------         -----  \n",
            " 0   event_time     object \n",
            " 1   order_id       int64  \n",
            " 2   product_id     int64  \n",
            " 3   category_id    float64\n",
            " 4   category_code  object \n",
            " 5   brand          object \n",
            " 6   price          float64\n",
            " 7   user_id        float64\n",
            "dtypes: float64(3), int64(2), object(3)\n",
            "memory usage: 160.7+ MB\n"
          ]
        }
      ]
    },
    {
      "cell_type": "code",
      "source": [
        "# Menghapus string huruf yang terdapat pada data kolom event_time\n",
        "df_cohort_copy['event_time'] = df_cohort_copy['event_time'].str.replace('UTC', ' ')\n",
        "\n",
        "# Menambahkan data kolom date\n",
        "df_cohort_copy['event_date'] = df_cohort_copy['event_time'].str[:10:]\n",
        "\n",
        "# Mengubah tipe data data kolom time menjadi tanggal dengan metode to_dateme()\n",
        "df_cohort_copy['event_time'] = pd.to_datetime(df_cohort_copy['event_time'])\n",
        "df_cohort_copy['event_date'] = pd.to_datetime(df_cohort_copy['event_date'])"
      ],
      "metadata": {
        "id": "lgeAPuGHS9Ag"
      },
      "execution_count": null,
      "outputs": []
    },
    {
      "cell_type": "code",
      "source": [
        "# Menampilkan informasi data df_cohort setelah diperbaiki data kolom event_time dan ditambah data kolom event_date\n",
        "df_cohort_copy.info()\n",
        "\n",
        "# Menampilkan sample data df_cohort setelah diperbaiki data kolom event_time dan ditambah data kolom event_date\n",
        "df_cohort_copy.sample(10)"
      ],
      "metadata": {
        "colab": {
          "base_uri": "https://localhost:8080/",
          "height": 878
        },
        "id": "mUDC_w4yS9DI",
        "outputId": "7af54350-2ea5-4a54-88c6-ef817227e172"
      },
      "execution_count": null,
      "outputs": [
        {
          "output_type": "stream",
          "name": "stdout",
          "text": [
            "<class 'pandas.core.frame.DataFrame'>\n",
            "Int64Index: 420718 entries, 0 to 2633520\n",
            "Data columns (total 9 columns):\n",
            " #   Column         Non-Null Count   Dtype         \n",
            "---  ------         --------------   -----         \n",
            " 0   event_time     420718 non-null  datetime64[ns]\n",
            " 1   order_id       420718 non-null  int64         \n",
            " 2   product_id     420718 non-null  int64         \n",
            " 3   category_id    420718 non-null  float64       \n",
            " 4   category_code  420718 non-null  object        \n",
            " 5   brand          420718 non-null  object        \n",
            " 6   price          420718 non-null  float64       \n",
            " 7   user_id        420718 non-null  float64       \n",
            " 8   event_date     420718 non-null  datetime64[ns]\n",
            "dtypes: datetime64[ns](2), float64(3), int64(2), object(2)\n",
            "memory usage: 32.1+ MB\n"
          ]
        },
        {
          "output_type": "execute_result",
          "data": {
            "text/plain": [
              "                 event_time             order_id           product_id  \\\n",
              "1154345 2020-05-27 12:51:48  2353235589551096138  1515966223509122463   \n",
              "2515312 2020-10-19 11:25:20  2388440981134623228  1515966223545568115   \n",
              "2360650 2020-09-24 08:15:19  2388440981134533741  1515966223509123244   \n",
              "1722092 2020-07-18 02:50:22  2357969084743680250  1515966223509260386   \n",
              "665376  2020-03-02 10:24:42  2348807663128675286  1515966223509118537   \n",
              "1945406 2020-08-20 09:36:57  2380233235272564795  1515966223509255443   \n",
              "2063220 2020-08-28 12:04:40  2386030757802934319  1515966223509105075   \n",
              "2482757 2020-10-11 06:41:32  2388440981134603091  1515966223523303320   \n",
              "1675508 2020-05-21 22:03:12  2354509629674750346  1515966223509089690   \n",
              "2116102 2020-09-03 16:49:17  2388440981134398291  1515966223509128938   \n",
              "\n",
              "          category_id                        category_code    brand   price  \\\n",
              "1154345  2.374499e+18                 electronics.video.tv      tcl  243.03   \n",
              "2515312  2.268105e+18               electronics.smartphone     oppo  162.01   \n",
              "2360650  2.268105e+18          computers.peripherals.mouse   bloody    9.24   \n",
              "1722092  2.268105e+18  appliances.environment.water_heater     aqua   34.70   \n",
              "665376   2.268105e+18            appliances.kitchen.kettle    tefal   55.53   \n",
              "1945406  2.268105e+18     appliances.kitchen.refrigerators  gorenje  231.46   \n",
              "2063220  2.268105e+18          computers.peripherals.mouse   genius   11.55   \n",
              "2482757  2.374499e+18               electronics.smartphone     eset    9.47   \n",
              "1675508  2.268105e+18                 electronics.video.tv  samsung  694.42   \n",
              "2116102  2.268105e+18        appliances.environment.vacuum    bosch  347.20   \n",
              "\n",
              "              user_id event_date  \n",
              "1154345  1.515916e+18 2020-05-27  \n",
              "2515312  1.515916e+18 2020-10-19  \n",
              "2360650  1.515916e+18 2020-09-24  \n",
              "1722092  1.515916e+18 2020-07-18  \n",
              "665376   1.515916e+18 2020-03-02  \n",
              "1945406  1.515916e+18 2020-08-20  \n",
              "2063220  1.515916e+18 2020-08-28  \n",
              "2482757  1.515916e+18 2020-10-11  \n",
              "1675508  1.515916e+18 2020-05-21  \n",
              "2116102  1.515916e+18 2020-09-03  "
            ],
            "text/html": [
              "\n",
              "  <div id=\"df-e6c01e52-97c3-45fb-aeef-5af64355c7c7\">\n",
              "    <div class=\"colab-df-container\">\n",
              "      <div>\n",
              "<style scoped>\n",
              "    .dataframe tbody tr th:only-of-type {\n",
              "        vertical-align: middle;\n",
              "    }\n",
              "\n",
              "    .dataframe tbody tr th {\n",
              "        vertical-align: top;\n",
              "    }\n",
              "\n",
              "    .dataframe thead th {\n",
              "        text-align: right;\n",
              "    }\n",
              "</style>\n",
              "<table border=\"1\" class=\"dataframe\">\n",
              "  <thead>\n",
              "    <tr style=\"text-align: right;\">\n",
              "      <th></th>\n",
              "      <th>event_time</th>\n",
              "      <th>order_id</th>\n",
              "      <th>product_id</th>\n",
              "      <th>category_id</th>\n",
              "      <th>category_code</th>\n",
              "      <th>brand</th>\n",
              "      <th>price</th>\n",
              "      <th>user_id</th>\n",
              "      <th>event_date</th>\n",
              "    </tr>\n",
              "  </thead>\n",
              "  <tbody>\n",
              "    <tr>\n",
              "      <th>1154345</th>\n",
              "      <td>2020-05-27 12:51:48</td>\n",
              "      <td>2353235589551096138</td>\n",
              "      <td>1515966223509122463</td>\n",
              "      <td>2.374499e+18</td>\n",
              "      <td>electronics.video.tv</td>\n",
              "      <td>tcl</td>\n",
              "      <td>243.03</td>\n",
              "      <td>1.515916e+18</td>\n",
              "      <td>2020-05-27</td>\n",
              "    </tr>\n",
              "    <tr>\n",
              "      <th>2515312</th>\n",
              "      <td>2020-10-19 11:25:20</td>\n",
              "      <td>2388440981134623228</td>\n",
              "      <td>1515966223545568115</td>\n",
              "      <td>2.268105e+18</td>\n",
              "      <td>electronics.smartphone</td>\n",
              "      <td>oppo</td>\n",
              "      <td>162.01</td>\n",
              "      <td>1.515916e+18</td>\n",
              "      <td>2020-10-19</td>\n",
              "    </tr>\n",
              "    <tr>\n",
              "      <th>2360650</th>\n",
              "      <td>2020-09-24 08:15:19</td>\n",
              "      <td>2388440981134533741</td>\n",
              "      <td>1515966223509123244</td>\n",
              "      <td>2.268105e+18</td>\n",
              "      <td>computers.peripherals.mouse</td>\n",
              "      <td>bloody</td>\n",
              "      <td>9.24</td>\n",
              "      <td>1.515916e+18</td>\n",
              "      <td>2020-09-24</td>\n",
              "    </tr>\n",
              "    <tr>\n",
              "      <th>1722092</th>\n",
              "      <td>2020-07-18 02:50:22</td>\n",
              "      <td>2357969084743680250</td>\n",
              "      <td>1515966223509260386</td>\n",
              "      <td>2.268105e+18</td>\n",
              "      <td>appliances.environment.water_heater</td>\n",
              "      <td>aqua</td>\n",
              "      <td>34.70</td>\n",
              "      <td>1.515916e+18</td>\n",
              "      <td>2020-07-18</td>\n",
              "    </tr>\n",
              "    <tr>\n",
              "      <th>665376</th>\n",
              "      <td>2020-03-02 10:24:42</td>\n",
              "      <td>2348807663128675286</td>\n",
              "      <td>1515966223509118537</td>\n",
              "      <td>2.268105e+18</td>\n",
              "      <td>appliances.kitchen.kettle</td>\n",
              "      <td>tefal</td>\n",
              "      <td>55.53</td>\n",
              "      <td>1.515916e+18</td>\n",
              "      <td>2020-03-02</td>\n",
              "    </tr>\n",
              "    <tr>\n",
              "      <th>1945406</th>\n",
              "      <td>2020-08-20 09:36:57</td>\n",
              "      <td>2380233235272564795</td>\n",
              "      <td>1515966223509255443</td>\n",
              "      <td>2.268105e+18</td>\n",
              "      <td>appliances.kitchen.refrigerators</td>\n",
              "      <td>gorenje</td>\n",
              "      <td>231.46</td>\n",
              "      <td>1.515916e+18</td>\n",
              "      <td>2020-08-20</td>\n",
              "    </tr>\n",
              "    <tr>\n",
              "      <th>2063220</th>\n",
              "      <td>2020-08-28 12:04:40</td>\n",
              "      <td>2386030757802934319</td>\n",
              "      <td>1515966223509105075</td>\n",
              "      <td>2.268105e+18</td>\n",
              "      <td>computers.peripherals.mouse</td>\n",
              "      <td>genius</td>\n",
              "      <td>11.55</td>\n",
              "      <td>1.515916e+18</td>\n",
              "      <td>2020-08-28</td>\n",
              "    </tr>\n",
              "    <tr>\n",
              "      <th>2482757</th>\n",
              "      <td>2020-10-11 06:41:32</td>\n",
              "      <td>2388440981134603091</td>\n",
              "      <td>1515966223523303320</td>\n",
              "      <td>2.374499e+18</td>\n",
              "      <td>electronics.smartphone</td>\n",
              "      <td>eset</td>\n",
              "      <td>9.47</td>\n",
              "      <td>1.515916e+18</td>\n",
              "      <td>2020-10-11</td>\n",
              "    </tr>\n",
              "    <tr>\n",
              "      <th>1675508</th>\n",
              "      <td>2020-05-21 22:03:12</td>\n",
              "      <td>2354509629674750346</td>\n",
              "      <td>1515966223509089690</td>\n",
              "      <td>2.268105e+18</td>\n",
              "      <td>electronics.video.tv</td>\n",
              "      <td>samsung</td>\n",
              "      <td>694.42</td>\n",
              "      <td>1.515916e+18</td>\n",
              "      <td>2020-05-21</td>\n",
              "    </tr>\n",
              "    <tr>\n",
              "      <th>2116102</th>\n",
              "      <td>2020-09-03 16:49:17</td>\n",
              "      <td>2388440981134398291</td>\n",
              "      <td>1515966223509128938</td>\n",
              "      <td>2.268105e+18</td>\n",
              "      <td>appliances.environment.vacuum</td>\n",
              "      <td>bosch</td>\n",
              "      <td>347.20</td>\n",
              "      <td>1.515916e+18</td>\n",
              "      <td>2020-09-03</td>\n",
              "    </tr>\n",
              "  </tbody>\n",
              "</table>\n",
              "</div>\n",
              "      <button class=\"colab-df-convert\" onclick=\"convertToInteractive('df-e6c01e52-97c3-45fb-aeef-5af64355c7c7')\"\n",
              "              title=\"Convert this dataframe to an interactive table.\"\n",
              "              style=\"display:none;\">\n",
              "        \n",
              "  <svg xmlns=\"http://www.w3.org/2000/svg\" height=\"24px\"viewBox=\"0 0 24 24\"\n",
              "       width=\"24px\">\n",
              "    <path d=\"M0 0h24v24H0V0z\" fill=\"none\"/>\n",
              "    <path d=\"M18.56 5.44l.94 2.06.94-2.06 2.06-.94-2.06-.94-.94-2.06-.94 2.06-2.06.94zm-11 1L8.5 8.5l.94-2.06 2.06-.94-2.06-.94L8.5 2.5l-.94 2.06-2.06.94zm10 10l.94 2.06.94-2.06 2.06-.94-2.06-.94-.94-2.06-.94 2.06-2.06.94z\"/><path d=\"M17.41 7.96l-1.37-1.37c-.4-.4-.92-.59-1.43-.59-.52 0-1.04.2-1.43.59L10.3 9.45l-7.72 7.72c-.78.78-.78 2.05 0 2.83L4 21.41c.39.39.9.59 1.41.59.51 0 1.02-.2 1.41-.59l7.78-7.78 2.81-2.81c.8-.78.8-2.07 0-2.86zM5.41 20L4 18.59l7.72-7.72 1.47 1.35L5.41 20z\"/>\n",
              "  </svg>\n",
              "      </button>\n",
              "      \n",
              "  <style>\n",
              "    .colab-df-container {\n",
              "      display:flex;\n",
              "      flex-wrap:wrap;\n",
              "      gap: 12px;\n",
              "    }\n",
              "\n",
              "    .colab-df-convert {\n",
              "      background-color: #E8F0FE;\n",
              "      border: none;\n",
              "      border-radius: 50%;\n",
              "      cursor: pointer;\n",
              "      display: none;\n",
              "      fill: #1967D2;\n",
              "      height: 32px;\n",
              "      padding: 0 0 0 0;\n",
              "      width: 32px;\n",
              "    }\n",
              "\n",
              "    .colab-df-convert:hover {\n",
              "      background-color: #E2EBFA;\n",
              "      box-shadow: 0px 1px 2px rgba(60, 64, 67, 0.3), 0px 1px 3px 1px rgba(60, 64, 67, 0.15);\n",
              "      fill: #174EA6;\n",
              "    }\n",
              "\n",
              "    [theme=dark] .colab-df-convert {\n",
              "      background-color: #3B4455;\n",
              "      fill: #D2E3FC;\n",
              "    }\n",
              "\n",
              "    [theme=dark] .colab-df-convert:hover {\n",
              "      background-color: #434B5C;\n",
              "      box-shadow: 0px 1px 3px 1px rgba(0, 0, 0, 0.15);\n",
              "      filter: drop-shadow(0px 1px 2px rgba(0, 0, 0, 0.3));\n",
              "      fill: #FFFFFF;\n",
              "    }\n",
              "  </style>\n",
              "\n",
              "      <script>\n",
              "        const buttonEl =\n",
              "          document.querySelector('#df-e6c01e52-97c3-45fb-aeef-5af64355c7c7 button.colab-df-convert');\n",
              "        buttonEl.style.display =\n",
              "          google.colab.kernel.accessAllowed ? 'block' : 'none';\n",
              "\n",
              "        async function convertToInteractive(key) {\n",
              "          const element = document.querySelector('#df-e6c01e52-97c3-45fb-aeef-5af64355c7c7');\n",
              "          const dataTable =\n",
              "            await google.colab.kernel.invokeFunction('convertToInteractive',\n",
              "                                                     [key], {});\n",
              "          if (!dataTable) return;\n",
              "\n",
              "          const docLinkHtml = 'Like what you see? Visit the ' +\n",
              "            '<a target=\"_blank\" href=https://colab.research.google.com/notebooks/data_table.ipynb>data table notebook</a>'\n",
              "            + ' to learn more about interactive tables.';\n",
              "          element.innerHTML = '';\n",
              "          dataTable['output_type'] = 'display_data';\n",
              "          await google.colab.output.renderOutput(dataTable, element);\n",
              "          const docLink = document.createElement('div');\n",
              "          docLink.innerHTML = docLinkHtml;\n",
              "          element.appendChild(docLink);\n",
              "        }\n",
              "      </script>\n",
              "    </div>\n",
              "  </div>\n",
              "  "
            ]
          },
          "metadata": {},
          "execution_count": 351
        }
      ]
    },
    {
      "cell_type": "code",
      "source": [
        "# Memasukkan data yang sudah diubah ke data primer\n",
        "df_cohort = df_cohort_copy"
      ],
      "metadata": {
        "id": "GNYHiWc7S824"
      },
      "execution_count": null,
      "outputs": []
    },
    {
      "cell_type": "markdown",
      "source": [
        "### Cohort Analysis"
      ],
      "metadata": {
        "id": "aceOhkeWVZ5b"
      }
    },
    {
      "cell_type": "code",
      "source": [
        "# Membuat fungsi get_month untuk memperoleh nilai bulan\n",
        "def get_month(x) : return dt.datetime(x.year, x.month, 1)"
      ],
      "metadata": {
        "id": "Wuf7XJfZWeAq"
      },
      "execution_count": null,
      "outputs": []
    },
    {
      "cell_type": "code",
      "source": [
        "# Membuat data kolom baru event_month dengan fungsi get_month()\n",
        "df_cohort['event_month'] = df_cohort['event_date'].apply(get_month)\n",
        "\n",
        "# Mengelompokkan data kolom event_month berdasarkan user_id\n",
        "grouping = df_cohort.groupby('user_id')['event_month']\n",
        "\n",
        "# Membuat data kolom baru cohort_month dengan grouping.transform('min')\n",
        "# Sehingga memperoleh nilai bulan terkecil pada user_id ybh\n",
        "df_cohort['cohort_month'] = grouping.transform('min')"
      ],
      "metadata": {
        "id": "l0ocTBYKS9Fi"
      },
      "execution_count": null,
      "outputs": []
    },
    {
      "cell_type": "code",
      "source": [
        "# Mengecek cohort_month\n",
        "df_cohort['cohort_month'].unique()"
      ],
      "metadata": {
        "colab": {
          "base_uri": "https://localhost:8080/"
        },
        "id": "CRtEnaN5YzGz",
        "outputId": "2ab5a91e-5faa-47de-c6f3-4a57611546d6"
      },
      "execution_count": null,
      "outputs": [
        {
          "output_type": "execute_result",
          "data": {
            "text/plain": [
              "array(['2020-04-01T00:00:00.000000000', '2020-03-01T00:00:00.000000000',\n",
              "       '2020-02-01T00:00:00.000000000', '2020-01-01T00:00:00.000000000',\n",
              "       '1970-01-01T00:00:00.000000000', '2020-05-01T00:00:00.000000000',\n",
              "       '2020-06-01T00:00:00.000000000', '2020-07-01T00:00:00.000000000',\n",
              "       '2020-08-01T00:00:00.000000000', '2020-09-01T00:00:00.000000000',\n",
              "       '2020-10-01T00:00:00.000000000', '2020-11-01T00:00:00.000000000'],\n",
              "      dtype='datetime64[ns]')"
            ]
          },
          "metadata": {},
          "execution_count": 355
        }
      ]
    },
    {
      "cell_type": "markdown",
      "source": [
        "Dari hasil pengecekan data kolom cohort_month sebelumnya, diketahui data kolom cohort_month memiliki nilai unique yang ekstrim, yaitu 1970-01-01, yang kemungkinan terjadi karena adanya nilai outlier yang terdapat pada data awal.\n",
        "\n",
        "Oleh karena adanya nilai yang ekstrim, maka sebaiknya perlu di-drop untuk memperoleh hasil visualisasi cohort yang lebih baik."
      ],
      "metadata": {
        "id": "7BfVRGREmOfN"
      }
    },
    {
      "cell_type": "code",
      "source": [
        "# Meng-copy data untuk menghindari edit pada data primer langsung\n",
        "df_cohort_copy = df_cohort.copy()"
      ],
      "metadata": {
        "id": "0dMZZ3FtkWtd"
      },
      "execution_count": null,
      "outputs": []
    },
    {
      "cell_type": "code",
      "source": [
        "# Men-drop data kolom cohort_month yang memiliki nilai lebih kecil dari 2020-01-01\n",
        "df_cohort_copy.drop(df_cohort_copy[df_cohort_copy['cohort_month'].dt.date < dt.date(2020,1,1)].index, inplace = True)"
      ],
      "metadata": {
        "id": "qU0HvaB7oOtg"
      },
      "execution_count": null,
      "outputs": []
    },
    {
      "cell_type": "code",
      "source": [
        "# Menampilkan hasil perubahan data\n",
        "df_cohort_copy['cohort_month'].unique()"
      ],
      "metadata": {
        "colab": {
          "base_uri": "https://localhost:8080/"
        },
        "id": "vO05nVD2oeO1",
        "outputId": "e26a60d1-ad46-4889-a538-bc1aba440be8"
      },
      "execution_count": null,
      "outputs": [
        {
          "output_type": "execute_result",
          "data": {
            "text/plain": [
              "array(['2020-04-01T00:00:00.000000000', '2020-03-01T00:00:00.000000000',\n",
              "       '2020-02-01T00:00:00.000000000', '2020-01-01T00:00:00.000000000',\n",
              "       '2020-05-01T00:00:00.000000000', '2020-06-01T00:00:00.000000000',\n",
              "       '2020-07-01T00:00:00.000000000', '2020-08-01T00:00:00.000000000',\n",
              "       '2020-09-01T00:00:00.000000000', '2020-10-01T00:00:00.000000000',\n",
              "       '2020-11-01T00:00:00.000000000'], dtype='datetime64[ns]')"
            ]
          },
          "metadata": {},
          "execution_count": 359
        }
      ]
    },
    {
      "cell_type": "code",
      "source": [
        "# Memasukkan data yang sudah diubah ke data primer\n",
        "df_cohort = df_cohort_copy"
      ],
      "metadata": {
        "id": "o_6-zoMMlsat"
      },
      "execution_count": null,
      "outputs": []
    },
    {
      "cell_type": "code",
      "source": [
        "# Membuat fungsi get_month_int\n",
        "def get_month_int (dframe,column):\n",
        "    year = dframe[column].dt.year\n",
        "    month = dframe[column].dt.month\n",
        "    day = dframe[column].dt.day\n",
        "    return year, month, day"
      ],
      "metadata": {
        "id": "Lt4FgBURY64j"
      },
      "execution_count": null,
      "outputs": []
    },
    {
      "cell_type": "code",
      "source": [
        "# Mendapatkan nilai event_year, event_month, cohort_year, dan cohort_month dengan fungsi get_month_int()\n",
        "event_year, event_month, _ = get_month_int(df_cohort,'event_month')\n",
        "cohort_year, cohort_month, _ = get_month_int(df_cohort,'cohort_month')\n",
        "\n",
        "# Menghitung nilai year_diff dan month_diff untuk keperluan data kolom baru cohort_index\n",
        "year_diff = event_year - cohort_year\n",
        "month_diff = event_month - cohort_month\n",
        "\n",
        "# Membuat data kolom baru cohort_index\n",
        "df_cohort['cohort_index'] = (year_diff * 12) + month_diff + 1"
      ],
      "metadata": {
        "id": "bvcxokG2S9H5"
      },
      "execution_count": null,
      "outputs": []
    },
    {
      "cell_type": "code",
      "source": [
        "# Menghitung monthly active customers dari masing-masing cohort\n",
        "grouping = df_cohort.groupby(['cohort_month', 'cohort_index'])\n",
        "\n",
        "# Membuat data baru cohort_data\n",
        "cohort_data = grouping['user_id'].apply(pd.Series.nunique)\n",
        "\n",
        "# Meriset index data cohort_data\n",
        "cohort_data = cohort_data.reset_index()"
      ],
      "metadata": {
        "id": "07i3C4JpS9Kk"
      },
      "execution_count": null,
      "outputs": []
    },
    {
      "cell_type": "code",
      "source": [
        "# Membuat data cohort_counts\n",
        "cohort_counts = cohort_data.pivot(index = 'cohort_month', columns = 'cohort_index', values = 'user_id')\n",
        "cohort_counts"
      ],
      "metadata": {
        "colab": {
          "base_uri": "https://localhost:8080/",
          "height": 426
        },
        "id": "hwv6EMuFbF8k",
        "outputId": "74ac0321-bf9e-4bef-8fd1-b495d2e6dd37"
      },
      "execution_count": null,
      "outputs": [
        {
          "output_type": "execute_result",
          "data": {
            "text/plain": [
              "cohort_index       1       2       3       4       5      6      7      8   \\\n",
              "cohort_month                                                                 \n",
              "2020-01-01     1399.0   444.0   386.0   338.0   539.0  537.0  488.0  534.0   \n",
              "2020-02-01     1376.0   386.0   285.0   496.0   508.0  484.0  493.0  430.0   \n",
              "2020-03-01     1389.0   313.0   546.0   517.0   457.0  509.0  446.0  270.0   \n",
              "2020-04-01     3765.0   849.0   572.0   788.0   789.0  588.0  383.0  206.0   \n",
              "2020-05-01    13031.0  1719.0  2166.0  2170.0  1433.0  854.0  455.0    NaN   \n",
              "2020-06-01     8418.0  1838.0  1585.0  1045.0   673.0  379.0    NaN    NaN   \n",
              "2020-07-01    21523.0  4731.0  2103.0  1277.0   628.0    NaN    NaN    NaN   \n",
              "2020-08-01    22490.0  3097.0  1843.0   989.0     NaN    NaN    NaN    NaN   \n",
              "2020-09-01     8549.0  1579.0   674.0     NaN     NaN    NaN    NaN    NaN   \n",
              "2020-10-01     5771.0   803.0     NaN     NaN     NaN    NaN    NaN    NaN   \n",
              "2020-11-01     2959.0     NaN     NaN     NaN     NaN    NaN    NaN    NaN   \n",
              "\n",
              "cohort_index     9      10     11  \n",
              "cohort_month                       \n",
              "2020-01-01    478.0  296.0  210.0  \n",
              "2020-02-01    264.0  210.0    NaN  \n",
              "2020-03-01    176.0    NaN    NaN  \n",
              "2020-04-01      NaN    NaN    NaN  \n",
              "2020-05-01      NaN    NaN    NaN  \n",
              "2020-06-01      NaN    NaN    NaN  \n",
              "2020-07-01      NaN    NaN    NaN  \n",
              "2020-08-01      NaN    NaN    NaN  \n",
              "2020-09-01      NaN    NaN    NaN  \n",
              "2020-10-01      NaN    NaN    NaN  \n",
              "2020-11-01      NaN    NaN    NaN  "
            ],
            "text/html": [
              "\n",
              "  <div id=\"df-031bcf3b-adaf-416f-9f59-1a1142ab3a82\">\n",
              "    <div class=\"colab-df-container\">\n",
              "      <div>\n",
              "<style scoped>\n",
              "    .dataframe tbody tr th:only-of-type {\n",
              "        vertical-align: middle;\n",
              "    }\n",
              "\n",
              "    .dataframe tbody tr th {\n",
              "        vertical-align: top;\n",
              "    }\n",
              "\n",
              "    .dataframe thead th {\n",
              "        text-align: right;\n",
              "    }\n",
              "</style>\n",
              "<table border=\"1\" class=\"dataframe\">\n",
              "  <thead>\n",
              "    <tr style=\"text-align: right;\">\n",
              "      <th>cohort_index</th>\n",
              "      <th>1</th>\n",
              "      <th>2</th>\n",
              "      <th>3</th>\n",
              "      <th>4</th>\n",
              "      <th>5</th>\n",
              "      <th>6</th>\n",
              "      <th>7</th>\n",
              "      <th>8</th>\n",
              "      <th>9</th>\n",
              "      <th>10</th>\n",
              "      <th>11</th>\n",
              "    </tr>\n",
              "    <tr>\n",
              "      <th>cohort_month</th>\n",
              "      <th></th>\n",
              "      <th></th>\n",
              "      <th></th>\n",
              "      <th></th>\n",
              "      <th></th>\n",
              "      <th></th>\n",
              "      <th></th>\n",
              "      <th></th>\n",
              "      <th></th>\n",
              "      <th></th>\n",
              "      <th></th>\n",
              "    </tr>\n",
              "  </thead>\n",
              "  <tbody>\n",
              "    <tr>\n",
              "      <th>2020-01-01</th>\n",
              "      <td>1399.0</td>\n",
              "      <td>444.0</td>\n",
              "      <td>386.0</td>\n",
              "      <td>338.0</td>\n",
              "      <td>539.0</td>\n",
              "      <td>537.0</td>\n",
              "      <td>488.0</td>\n",
              "      <td>534.0</td>\n",
              "      <td>478.0</td>\n",
              "      <td>296.0</td>\n",
              "      <td>210.0</td>\n",
              "    </tr>\n",
              "    <tr>\n",
              "      <th>2020-02-01</th>\n",
              "      <td>1376.0</td>\n",
              "      <td>386.0</td>\n",
              "      <td>285.0</td>\n",
              "      <td>496.0</td>\n",
              "      <td>508.0</td>\n",
              "      <td>484.0</td>\n",
              "      <td>493.0</td>\n",
              "      <td>430.0</td>\n",
              "      <td>264.0</td>\n",
              "      <td>210.0</td>\n",
              "      <td>NaN</td>\n",
              "    </tr>\n",
              "    <tr>\n",
              "      <th>2020-03-01</th>\n",
              "      <td>1389.0</td>\n",
              "      <td>313.0</td>\n",
              "      <td>546.0</td>\n",
              "      <td>517.0</td>\n",
              "      <td>457.0</td>\n",
              "      <td>509.0</td>\n",
              "      <td>446.0</td>\n",
              "      <td>270.0</td>\n",
              "      <td>176.0</td>\n",
              "      <td>NaN</td>\n",
              "      <td>NaN</td>\n",
              "    </tr>\n",
              "    <tr>\n",
              "      <th>2020-04-01</th>\n",
              "      <td>3765.0</td>\n",
              "      <td>849.0</td>\n",
              "      <td>572.0</td>\n",
              "      <td>788.0</td>\n",
              "      <td>789.0</td>\n",
              "      <td>588.0</td>\n",
              "      <td>383.0</td>\n",
              "      <td>206.0</td>\n",
              "      <td>NaN</td>\n",
              "      <td>NaN</td>\n",
              "      <td>NaN</td>\n",
              "    </tr>\n",
              "    <tr>\n",
              "      <th>2020-05-01</th>\n",
              "      <td>13031.0</td>\n",
              "      <td>1719.0</td>\n",
              "      <td>2166.0</td>\n",
              "      <td>2170.0</td>\n",
              "      <td>1433.0</td>\n",
              "      <td>854.0</td>\n",
              "      <td>455.0</td>\n",
              "      <td>NaN</td>\n",
              "      <td>NaN</td>\n",
              "      <td>NaN</td>\n",
              "      <td>NaN</td>\n",
              "    </tr>\n",
              "    <tr>\n",
              "      <th>2020-06-01</th>\n",
              "      <td>8418.0</td>\n",
              "      <td>1838.0</td>\n",
              "      <td>1585.0</td>\n",
              "      <td>1045.0</td>\n",
              "      <td>673.0</td>\n",
              "      <td>379.0</td>\n",
              "      <td>NaN</td>\n",
              "      <td>NaN</td>\n",
              "      <td>NaN</td>\n",
              "      <td>NaN</td>\n",
              "      <td>NaN</td>\n",
              "    </tr>\n",
              "    <tr>\n",
              "      <th>2020-07-01</th>\n",
              "      <td>21523.0</td>\n",
              "      <td>4731.0</td>\n",
              "      <td>2103.0</td>\n",
              "      <td>1277.0</td>\n",
              "      <td>628.0</td>\n",
              "      <td>NaN</td>\n",
              "      <td>NaN</td>\n",
              "      <td>NaN</td>\n",
              "      <td>NaN</td>\n",
              "      <td>NaN</td>\n",
              "      <td>NaN</td>\n",
              "    </tr>\n",
              "    <tr>\n",
              "      <th>2020-08-01</th>\n",
              "      <td>22490.0</td>\n",
              "      <td>3097.0</td>\n",
              "      <td>1843.0</td>\n",
              "      <td>989.0</td>\n",
              "      <td>NaN</td>\n",
              "      <td>NaN</td>\n",
              "      <td>NaN</td>\n",
              "      <td>NaN</td>\n",
              "      <td>NaN</td>\n",
              "      <td>NaN</td>\n",
              "      <td>NaN</td>\n",
              "    </tr>\n",
              "    <tr>\n",
              "      <th>2020-09-01</th>\n",
              "      <td>8549.0</td>\n",
              "      <td>1579.0</td>\n",
              "      <td>674.0</td>\n",
              "      <td>NaN</td>\n",
              "      <td>NaN</td>\n",
              "      <td>NaN</td>\n",
              "      <td>NaN</td>\n",
              "      <td>NaN</td>\n",
              "      <td>NaN</td>\n",
              "      <td>NaN</td>\n",
              "      <td>NaN</td>\n",
              "    </tr>\n",
              "    <tr>\n",
              "      <th>2020-10-01</th>\n",
              "      <td>5771.0</td>\n",
              "      <td>803.0</td>\n",
              "      <td>NaN</td>\n",
              "      <td>NaN</td>\n",
              "      <td>NaN</td>\n",
              "      <td>NaN</td>\n",
              "      <td>NaN</td>\n",
              "      <td>NaN</td>\n",
              "      <td>NaN</td>\n",
              "      <td>NaN</td>\n",
              "      <td>NaN</td>\n",
              "    </tr>\n",
              "    <tr>\n",
              "      <th>2020-11-01</th>\n",
              "      <td>2959.0</td>\n",
              "      <td>NaN</td>\n",
              "      <td>NaN</td>\n",
              "      <td>NaN</td>\n",
              "      <td>NaN</td>\n",
              "      <td>NaN</td>\n",
              "      <td>NaN</td>\n",
              "      <td>NaN</td>\n",
              "      <td>NaN</td>\n",
              "      <td>NaN</td>\n",
              "      <td>NaN</td>\n",
              "    </tr>\n",
              "  </tbody>\n",
              "</table>\n",
              "</div>\n",
              "      <button class=\"colab-df-convert\" onclick=\"convertToInteractive('df-031bcf3b-adaf-416f-9f59-1a1142ab3a82')\"\n",
              "              title=\"Convert this dataframe to an interactive table.\"\n",
              "              style=\"display:none;\">\n",
              "        \n",
              "  <svg xmlns=\"http://www.w3.org/2000/svg\" height=\"24px\"viewBox=\"0 0 24 24\"\n",
              "       width=\"24px\">\n",
              "    <path d=\"M0 0h24v24H0V0z\" fill=\"none\"/>\n",
              "    <path d=\"M18.56 5.44l.94 2.06.94-2.06 2.06-.94-2.06-.94-.94-2.06-.94 2.06-2.06.94zm-11 1L8.5 8.5l.94-2.06 2.06-.94-2.06-.94L8.5 2.5l-.94 2.06-2.06.94zm10 10l.94 2.06.94-2.06 2.06-.94-2.06-.94-.94-2.06-.94 2.06-2.06.94z\"/><path d=\"M17.41 7.96l-1.37-1.37c-.4-.4-.92-.59-1.43-.59-.52 0-1.04.2-1.43.59L10.3 9.45l-7.72 7.72c-.78.78-.78 2.05 0 2.83L4 21.41c.39.39.9.59 1.41.59.51 0 1.02-.2 1.41-.59l7.78-7.78 2.81-2.81c.8-.78.8-2.07 0-2.86zM5.41 20L4 18.59l7.72-7.72 1.47 1.35L5.41 20z\"/>\n",
              "  </svg>\n",
              "      </button>\n",
              "      \n",
              "  <style>\n",
              "    .colab-df-container {\n",
              "      display:flex;\n",
              "      flex-wrap:wrap;\n",
              "      gap: 12px;\n",
              "    }\n",
              "\n",
              "    .colab-df-convert {\n",
              "      background-color: #E8F0FE;\n",
              "      border: none;\n",
              "      border-radius: 50%;\n",
              "      cursor: pointer;\n",
              "      display: none;\n",
              "      fill: #1967D2;\n",
              "      height: 32px;\n",
              "      padding: 0 0 0 0;\n",
              "      width: 32px;\n",
              "    }\n",
              "\n",
              "    .colab-df-convert:hover {\n",
              "      background-color: #E2EBFA;\n",
              "      box-shadow: 0px 1px 2px rgba(60, 64, 67, 0.3), 0px 1px 3px 1px rgba(60, 64, 67, 0.15);\n",
              "      fill: #174EA6;\n",
              "    }\n",
              "\n",
              "    [theme=dark] .colab-df-convert {\n",
              "      background-color: #3B4455;\n",
              "      fill: #D2E3FC;\n",
              "    }\n",
              "\n",
              "    [theme=dark] .colab-df-convert:hover {\n",
              "      background-color: #434B5C;\n",
              "      box-shadow: 0px 1px 3px 1px rgba(0, 0, 0, 0.15);\n",
              "      filter: drop-shadow(0px 1px 2px rgba(0, 0, 0, 0.3));\n",
              "      fill: #FFFFFF;\n",
              "    }\n",
              "  </style>\n",
              "\n",
              "      <script>\n",
              "        const buttonEl =\n",
              "          document.querySelector('#df-031bcf3b-adaf-416f-9f59-1a1142ab3a82 button.colab-df-convert');\n",
              "        buttonEl.style.display =\n",
              "          google.colab.kernel.accessAllowed ? 'block' : 'none';\n",
              "\n",
              "        async function convertToInteractive(key) {\n",
              "          const element = document.querySelector('#df-031bcf3b-adaf-416f-9f59-1a1142ab3a82');\n",
              "          const dataTable =\n",
              "            await google.colab.kernel.invokeFunction('convertToInteractive',\n",
              "                                                     [key], {});\n",
              "          if (!dataTable) return;\n",
              "\n",
              "          const docLinkHtml = 'Like what you see? Visit the ' +\n",
              "            '<a target=\"_blank\" href=https://colab.research.google.com/notebooks/data_table.ipynb>data table notebook</a>'\n",
              "            + ' to learn more about interactive tables.';\n",
              "          element.innerHTML = '';\n",
              "          dataTable['output_type'] = 'display_data';\n",
              "          await google.colab.output.renderOutput(dataTable, element);\n",
              "          const docLink = document.createElement('div');\n",
              "          docLink.innerHTML = docLinkHtml;\n",
              "          element.appendChild(docLink);\n",
              "        }\n",
              "      </script>\n",
              "    </div>\n",
              "  </div>\n",
              "  "
            ]
          },
          "metadata": {},
          "execution_count": 364
        }
      ]
    },
    {
      "cell_type": "code",
      "source": [
        "# Membuat data cohort_size\n",
        "cohort_size = cohort_counts.iloc[:,0]"
      ],
      "metadata": {
        "id": "wrLSJnSxcBtk"
      },
      "execution_count": null,
      "outputs": []
    },
    {
      "cell_type": "code",
      "source": [
        "# Menghitung % retention\n",
        "retention = cohort_counts.divide(cohort_size, axis=0)\n",
        "retention.round(3) * 100"
      ],
      "metadata": {
        "colab": {
          "base_uri": "https://localhost:8080/",
          "height": 426
        },
        "id": "SDUqGsWOV0UR",
        "outputId": "8caab8c8-f54a-41a7-9bee-ea5e7eff3539"
      },
      "execution_count": null,
      "outputs": [
        {
          "output_type": "execute_result",
          "data": {
            "text/plain": [
              "cohort_index     1     2     3     4     5     6     7     8     9     10  \\\n",
              "cohort_month                                                                \n",
              "2020-01-01    100.0  31.7  27.6  24.2  38.5  38.4  34.9  38.2  34.2  21.2   \n",
              "2020-02-01    100.0  28.1  20.7  36.0  36.9  35.2  35.8  31.2  19.2  15.3   \n",
              "2020-03-01    100.0  22.5  39.3  37.2  32.9  36.6  32.1  19.4  12.7   NaN   \n",
              "2020-04-01    100.0  22.5  15.2  20.9  21.0  15.6  10.2   5.5   NaN   NaN   \n",
              "2020-05-01    100.0  13.2  16.6  16.7  11.0   6.6   3.5   NaN   NaN   NaN   \n",
              "2020-06-01    100.0  21.8  18.8  12.4   8.0   4.5   NaN   NaN   NaN   NaN   \n",
              "2020-07-01    100.0  22.0   9.8   5.9   2.9   NaN   NaN   NaN   NaN   NaN   \n",
              "2020-08-01    100.0  13.8   8.2   4.4   NaN   NaN   NaN   NaN   NaN   NaN   \n",
              "2020-09-01    100.0  18.5   7.9   NaN   NaN   NaN   NaN   NaN   NaN   NaN   \n",
              "2020-10-01    100.0  13.9   NaN   NaN   NaN   NaN   NaN   NaN   NaN   NaN   \n",
              "2020-11-01    100.0   NaN   NaN   NaN   NaN   NaN   NaN   NaN   NaN   NaN   \n",
              "\n",
              "cohort_index    11  \n",
              "cohort_month        \n",
              "2020-01-01    15.0  \n",
              "2020-02-01     NaN  \n",
              "2020-03-01     NaN  \n",
              "2020-04-01     NaN  \n",
              "2020-05-01     NaN  \n",
              "2020-06-01     NaN  \n",
              "2020-07-01     NaN  \n",
              "2020-08-01     NaN  \n",
              "2020-09-01     NaN  \n",
              "2020-10-01     NaN  \n",
              "2020-11-01     NaN  "
            ],
            "text/html": [
              "\n",
              "  <div id=\"df-bac7b734-a7d2-4823-a65a-fae23fd92b79\">\n",
              "    <div class=\"colab-df-container\">\n",
              "      <div>\n",
              "<style scoped>\n",
              "    .dataframe tbody tr th:only-of-type {\n",
              "        vertical-align: middle;\n",
              "    }\n",
              "\n",
              "    .dataframe tbody tr th {\n",
              "        vertical-align: top;\n",
              "    }\n",
              "\n",
              "    .dataframe thead th {\n",
              "        text-align: right;\n",
              "    }\n",
              "</style>\n",
              "<table border=\"1\" class=\"dataframe\">\n",
              "  <thead>\n",
              "    <tr style=\"text-align: right;\">\n",
              "      <th>cohort_index</th>\n",
              "      <th>1</th>\n",
              "      <th>2</th>\n",
              "      <th>3</th>\n",
              "      <th>4</th>\n",
              "      <th>5</th>\n",
              "      <th>6</th>\n",
              "      <th>7</th>\n",
              "      <th>8</th>\n",
              "      <th>9</th>\n",
              "      <th>10</th>\n",
              "      <th>11</th>\n",
              "    </tr>\n",
              "    <tr>\n",
              "      <th>cohort_month</th>\n",
              "      <th></th>\n",
              "      <th></th>\n",
              "      <th></th>\n",
              "      <th></th>\n",
              "      <th></th>\n",
              "      <th></th>\n",
              "      <th></th>\n",
              "      <th></th>\n",
              "      <th></th>\n",
              "      <th></th>\n",
              "      <th></th>\n",
              "    </tr>\n",
              "  </thead>\n",
              "  <tbody>\n",
              "    <tr>\n",
              "      <th>2020-01-01</th>\n",
              "      <td>100.0</td>\n",
              "      <td>31.7</td>\n",
              "      <td>27.6</td>\n",
              "      <td>24.2</td>\n",
              "      <td>38.5</td>\n",
              "      <td>38.4</td>\n",
              "      <td>34.9</td>\n",
              "      <td>38.2</td>\n",
              "      <td>34.2</td>\n",
              "      <td>21.2</td>\n",
              "      <td>15.0</td>\n",
              "    </tr>\n",
              "    <tr>\n",
              "      <th>2020-02-01</th>\n",
              "      <td>100.0</td>\n",
              "      <td>28.1</td>\n",
              "      <td>20.7</td>\n",
              "      <td>36.0</td>\n",
              "      <td>36.9</td>\n",
              "      <td>35.2</td>\n",
              "      <td>35.8</td>\n",
              "      <td>31.2</td>\n",
              "      <td>19.2</td>\n",
              "      <td>15.3</td>\n",
              "      <td>NaN</td>\n",
              "    </tr>\n",
              "    <tr>\n",
              "      <th>2020-03-01</th>\n",
              "      <td>100.0</td>\n",
              "      <td>22.5</td>\n",
              "      <td>39.3</td>\n",
              "      <td>37.2</td>\n",
              "      <td>32.9</td>\n",
              "      <td>36.6</td>\n",
              "      <td>32.1</td>\n",
              "      <td>19.4</td>\n",
              "      <td>12.7</td>\n",
              "      <td>NaN</td>\n",
              "      <td>NaN</td>\n",
              "    </tr>\n",
              "    <tr>\n",
              "      <th>2020-04-01</th>\n",
              "      <td>100.0</td>\n",
              "      <td>22.5</td>\n",
              "      <td>15.2</td>\n",
              "      <td>20.9</td>\n",
              "      <td>21.0</td>\n",
              "      <td>15.6</td>\n",
              "      <td>10.2</td>\n",
              "      <td>5.5</td>\n",
              "      <td>NaN</td>\n",
              "      <td>NaN</td>\n",
              "      <td>NaN</td>\n",
              "    </tr>\n",
              "    <tr>\n",
              "      <th>2020-05-01</th>\n",
              "      <td>100.0</td>\n",
              "      <td>13.2</td>\n",
              "      <td>16.6</td>\n",
              "      <td>16.7</td>\n",
              "      <td>11.0</td>\n",
              "      <td>6.6</td>\n",
              "      <td>3.5</td>\n",
              "      <td>NaN</td>\n",
              "      <td>NaN</td>\n",
              "      <td>NaN</td>\n",
              "      <td>NaN</td>\n",
              "    </tr>\n",
              "    <tr>\n",
              "      <th>2020-06-01</th>\n",
              "      <td>100.0</td>\n",
              "      <td>21.8</td>\n",
              "      <td>18.8</td>\n",
              "      <td>12.4</td>\n",
              "      <td>8.0</td>\n",
              "      <td>4.5</td>\n",
              "      <td>NaN</td>\n",
              "      <td>NaN</td>\n",
              "      <td>NaN</td>\n",
              "      <td>NaN</td>\n",
              "      <td>NaN</td>\n",
              "    </tr>\n",
              "    <tr>\n",
              "      <th>2020-07-01</th>\n",
              "      <td>100.0</td>\n",
              "      <td>22.0</td>\n",
              "      <td>9.8</td>\n",
              "      <td>5.9</td>\n",
              "      <td>2.9</td>\n",
              "      <td>NaN</td>\n",
              "      <td>NaN</td>\n",
              "      <td>NaN</td>\n",
              "      <td>NaN</td>\n",
              "      <td>NaN</td>\n",
              "      <td>NaN</td>\n",
              "    </tr>\n",
              "    <tr>\n",
              "      <th>2020-08-01</th>\n",
              "      <td>100.0</td>\n",
              "      <td>13.8</td>\n",
              "      <td>8.2</td>\n",
              "      <td>4.4</td>\n",
              "      <td>NaN</td>\n",
              "      <td>NaN</td>\n",
              "      <td>NaN</td>\n",
              "      <td>NaN</td>\n",
              "      <td>NaN</td>\n",
              "      <td>NaN</td>\n",
              "      <td>NaN</td>\n",
              "    </tr>\n",
              "    <tr>\n",
              "      <th>2020-09-01</th>\n",
              "      <td>100.0</td>\n",
              "      <td>18.5</td>\n",
              "      <td>7.9</td>\n",
              "      <td>NaN</td>\n",
              "      <td>NaN</td>\n",
              "      <td>NaN</td>\n",
              "      <td>NaN</td>\n",
              "      <td>NaN</td>\n",
              "      <td>NaN</td>\n",
              "      <td>NaN</td>\n",
              "      <td>NaN</td>\n",
              "    </tr>\n",
              "    <tr>\n",
              "      <th>2020-10-01</th>\n",
              "      <td>100.0</td>\n",
              "      <td>13.9</td>\n",
              "      <td>NaN</td>\n",
              "      <td>NaN</td>\n",
              "      <td>NaN</td>\n",
              "      <td>NaN</td>\n",
              "      <td>NaN</td>\n",
              "      <td>NaN</td>\n",
              "      <td>NaN</td>\n",
              "      <td>NaN</td>\n",
              "      <td>NaN</td>\n",
              "    </tr>\n",
              "    <tr>\n",
              "      <th>2020-11-01</th>\n",
              "      <td>100.0</td>\n",
              "      <td>NaN</td>\n",
              "      <td>NaN</td>\n",
              "      <td>NaN</td>\n",
              "      <td>NaN</td>\n",
              "      <td>NaN</td>\n",
              "      <td>NaN</td>\n",
              "      <td>NaN</td>\n",
              "      <td>NaN</td>\n",
              "      <td>NaN</td>\n",
              "      <td>NaN</td>\n",
              "    </tr>\n",
              "  </tbody>\n",
              "</table>\n",
              "</div>\n",
              "      <button class=\"colab-df-convert\" onclick=\"convertToInteractive('df-bac7b734-a7d2-4823-a65a-fae23fd92b79')\"\n",
              "              title=\"Convert this dataframe to an interactive table.\"\n",
              "              style=\"display:none;\">\n",
              "        \n",
              "  <svg xmlns=\"http://www.w3.org/2000/svg\" height=\"24px\"viewBox=\"0 0 24 24\"\n",
              "       width=\"24px\">\n",
              "    <path d=\"M0 0h24v24H0V0z\" fill=\"none\"/>\n",
              "    <path d=\"M18.56 5.44l.94 2.06.94-2.06 2.06-.94-2.06-.94-.94-2.06-.94 2.06-2.06.94zm-11 1L8.5 8.5l.94-2.06 2.06-.94-2.06-.94L8.5 2.5l-.94 2.06-2.06.94zm10 10l.94 2.06.94-2.06 2.06-.94-2.06-.94-.94-2.06-.94 2.06-2.06.94z\"/><path d=\"M17.41 7.96l-1.37-1.37c-.4-.4-.92-.59-1.43-.59-.52 0-1.04.2-1.43.59L10.3 9.45l-7.72 7.72c-.78.78-.78 2.05 0 2.83L4 21.41c.39.39.9.59 1.41.59.51 0 1.02-.2 1.41-.59l7.78-7.78 2.81-2.81c.8-.78.8-2.07 0-2.86zM5.41 20L4 18.59l7.72-7.72 1.47 1.35L5.41 20z\"/>\n",
              "  </svg>\n",
              "      </button>\n",
              "      \n",
              "  <style>\n",
              "    .colab-df-container {\n",
              "      display:flex;\n",
              "      flex-wrap:wrap;\n",
              "      gap: 12px;\n",
              "    }\n",
              "\n",
              "    .colab-df-convert {\n",
              "      background-color: #E8F0FE;\n",
              "      border: none;\n",
              "      border-radius: 50%;\n",
              "      cursor: pointer;\n",
              "      display: none;\n",
              "      fill: #1967D2;\n",
              "      height: 32px;\n",
              "      padding: 0 0 0 0;\n",
              "      width: 32px;\n",
              "    }\n",
              "\n",
              "    .colab-df-convert:hover {\n",
              "      background-color: #E2EBFA;\n",
              "      box-shadow: 0px 1px 2px rgba(60, 64, 67, 0.3), 0px 1px 3px 1px rgba(60, 64, 67, 0.15);\n",
              "      fill: #174EA6;\n",
              "    }\n",
              "\n",
              "    [theme=dark] .colab-df-convert {\n",
              "      background-color: #3B4455;\n",
              "      fill: #D2E3FC;\n",
              "    }\n",
              "\n",
              "    [theme=dark] .colab-df-convert:hover {\n",
              "      background-color: #434B5C;\n",
              "      box-shadow: 0px 1px 3px 1px rgba(0, 0, 0, 0.15);\n",
              "      filter: drop-shadow(0px 1px 2px rgba(0, 0, 0, 0.3));\n",
              "      fill: #FFFFFF;\n",
              "    }\n",
              "  </style>\n",
              "\n",
              "      <script>\n",
              "        const buttonEl =\n",
              "          document.querySelector('#df-bac7b734-a7d2-4823-a65a-fae23fd92b79 button.colab-df-convert');\n",
              "        buttonEl.style.display =\n",
              "          google.colab.kernel.accessAllowed ? 'block' : 'none';\n",
              "\n",
              "        async function convertToInteractive(key) {\n",
              "          const element = document.querySelector('#df-bac7b734-a7d2-4823-a65a-fae23fd92b79');\n",
              "          const dataTable =\n",
              "            await google.colab.kernel.invokeFunction('convertToInteractive',\n",
              "                                                     [key], {});\n",
              "          if (!dataTable) return;\n",
              "\n",
              "          const docLinkHtml = 'Like what you see? Visit the ' +\n",
              "            '<a target=\"_blank\" href=https://colab.research.google.com/notebooks/data_table.ipynb>data table notebook</a>'\n",
              "            + ' to learn more about interactive tables.';\n",
              "          element.innerHTML = '';\n",
              "          dataTable['output_type'] = 'display_data';\n",
              "          await google.colab.output.renderOutput(dataTable, element);\n",
              "          const docLink = document.createElement('div');\n",
              "          docLink.innerHTML = docLinkHtml;\n",
              "          element.appendChild(docLink);\n",
              "        }\n",
              "      </script>\n",
              "    </div>\n",
              "  </div>\n",
              "  "
            ]
          },
          "metadata": {},
          "execution_count": 366
        }
      ]
    },
    {
      "cell_type": "code",
      "source": [
        "# Membuat visualisasi cohort menggunakan heatmap\n",
        "plt.figure(figsize=(15, 8))\n",
        "plt.title('Retention Rates')\n",
        "sns.heatmap(data=retention, annot = True,fmt = '.0%',vmin = 0.0,vmax = 0.5,cmap=\"BuPu_r\")\n",
        "plt.show()"
      ],
      "metadata": {
        "colab": {
          "base_uri": "https://localhost:8080/",
          "height": 514
        },
        "id": "1vFjKR9yV0ZY",
        "outputId": "86a6775f-06bd-4103-8972-5c1a925e7243"
      },
      "execution_count": null,
      "outputs": [
        {
          "output_type": "display_data",
          "data": {
            "text/plain": [
              "<Figure size 1080x576 with 2 Axes>"
            ],
            "image/png": "[encoded data removed]"
          },
          "metadata": {
            "needs_background": "light"
          }
        }
      ]
    },
    {
      "cell_type": "markdown",
      "source": [
        "### Kesimpulan"
      ],
      "metadata": {
        "id": "O4ZbmlpQWH1B"
      }
    },
    {
      "cell_type": "markdown",
      "source": [
        "Dari hasil perhitungan dan visualisasi sebelumnya, dapat diketahui:\n",
        "\n",
        "1. Meninjau hasil perhitungan cohort_counts, diketahui jumlah user day 1 setiap bulan memiliki perubahan yang fluktuatif, dimana:\n",
        "  - Jumlah user day 1 memiliki peak pada bulan Agustus 2020 sebanyak 22490,0 users dan memiliki titik terendah pada bulan Februari 2020 sebanyak 1376,0 users\n",
        "  - Penurunan pada awalnya Jan 2022 - Feb 2022, kenaikan pada Feb 2022 - Mei 2022, penurunan pada Mei 2022 - Jun 2022, kenaikan pada Jun 2022 - Agu 2022, penurunan pada Agu 2022 - Nov 2022\n",
        "2. Meninjau hasil visualisasi retention, diketahui %perubahan jumlah user mengalami penurunan yang signifikan dari day 1 ke day 2 sebesar 68% - 87%\n",
        "3. Meninjau hasil visualisasi retention, berdasarkan baris bulan Januari 2020, diketahui %perubahan jumlah user mengalami perubahan yang fluktuatif, dimana:\n",
        "  - Terjadi penurunan pada awalnya day 1 - day 4, kenaikan pada day 4 - day 5, penurunan lagi pada day 5 - day 7, kenaikan lagi pada day 7 - day 8, dan penurunan lagi pada day 8 - day 11\n",
        "4. Meninjau hasil visualisasi retention, %penurunan jumlah user semakin besar seiring berganti bulan\n",
        "5. Meninjau hasil visualisasi retention, peristiwa kenaikan kembali (rebound) menjadi semakin cepat terjadi, dimana:\n",
        "  - Rebound pada Jan 2020 terjadi pada day 4\n",
        "  - Rebound pada Feb 2020 terjadi pada day 3\n",
        "  - Rebound pada Mar 2020 terjadi pada day 2\n",
        "  - Rebound pada Apr 2020 terjadi pada day 3\n",
        "  - Rebound pada Mei 2020 terjadi pada day 2\n",
        "  - Tidak ada rebound pada Jun 2020\n",
        "  - Tidak ada rebound pada Jul 2020\n",
        "  - dst.\n",
        "\n",
        "Kesimpulan yang dapat ditarik dari yang diketahui, antara lain:\n",
        "1. Sebaiknya dianalisa faktor yang menyebabkan terjadinya peak jumlah user pada sekitar Jul 2020 - Agu 2020 sehingga dapat memperoleh insight yang kemungkinan dapat membantu marketing\n",
        "2. Jika menggunakna Elbow Analysis, maka titik Elbow atau titik kritisnya terletak pada sekitar day 1 - day 2 sehingga perlu dilakukan upaya untuk mencegah terjadinya penurunan jumlah user yang besar\n",
        "2. Sebaiknya dianalisa faktor yang menyebabkan peristiwa terjadinya rebound jumlah user yang sempat terjadi pada bulan Jan 2020 - Mei 2020 sehingga dapat memperoleh insight yang kemungkinan dapat membantu marketing\n",
        "4. Sebaiknya dianalisa faktor yang menyebabkan peristiwa rebound jumlah user yang semakin awal terjadi sehingga dapat memperoleh insight yang kemungkinan dapat membantu marketing"
      ],
      "metadata": {
        "id": "gjOVN1X2WNCq"
      }
    }
  ]
}